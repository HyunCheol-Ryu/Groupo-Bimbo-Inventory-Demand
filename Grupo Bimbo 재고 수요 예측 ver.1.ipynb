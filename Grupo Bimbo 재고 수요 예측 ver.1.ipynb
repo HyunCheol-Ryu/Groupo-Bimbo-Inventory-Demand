{
 "cells": [
  {
   "cell_type": "markdown",
   "metadata": {},
   "source": [
    "# Groupo Bimbo 재고 수요 예측 ver.1\n",
    "\n",
    "## 1. 패키지 로드 및 데이터 전처리\n",
    "\n",
    "### 1.1 패키지 및 데이터 로드"
   ]
  },
  {
   "cell_type": "code",
   "execution_count": 1,
   "metadata": {},
   "outputs": [],
   "source": [
    "import numpy as np\n",
    "import pandas as pd\n",
    "import matplotlib.pyplot as plt\n",
    "import seaborn as sns\n",
    "\n",
    "# 데이터 로드\n",
    "client = pd.read_csv('cliente_tabla.csv')\n",
    "product = pd.read_csv('producto_tabla.csv')\n",
    "town = pd.read_csv('town_state.csv')\n",
    "train = pd.read_csv('train.csv')\n",
    "test = pd.read_csv('test.csv')\n",
    "sample_submission = pd.read_csv('sample_submission.csv')"
   ]
  },
  {
   "cell_type": "markdown",
   "metadata": {},
   "source": [
    "### 1.2 각 데이터 조회, 데이터 추출 및 데이터 타입 변경\n",
    "#### 1.2.1 Client"
   ]
  },
  {
   "cell_type": "code",
   "execution_count": 2,
   "metadata": {},
   "outputs": [
    {
     "data": {
      "text/html": [
       "<div>\n",
       "<style scoped>\n",
       "    .dataframe tbody tr th:only-of-type {\n",
       "        vertical-align: middle;\n",
       "    }\n",
       "\n",
       "    .dataframe tbody tr th {\n",
       "        vertical-align: top;\n",
       "    }\n",
       "\n",
       "    .dataframe thead th {\n",
       "        text-align: right;\n",
       "    }\n",
       "</style>\n",
       "<table border=\"1\" class=\"dataframe\">\n",
       "  <thead>\n",
       "    <tr style=\"text-align: right;\">\n",
       "      <th></th>\n",
       "      <th>Cliente_ID</th>\n",
       "      <th>NombreCliente</th>\n",
       "    </tr>\n",
       "  </thead>\n",
       "  <tbody>\n",
       "    <tr>\n",
       "      <th>0</th>\n",
       "      <td>0</td>\n",
       "      <td>SIN NOMBRE</td>\n",
       "    </tr>\n",
       "    <tr>\n",
       "      <th>1</th>\n",
       "      <td>1</td>\n",
       "      <td>OXXO XINANTECATL</td>\n",
       "    </tr>\n",
       "    <tr>\n",
       "      <th>2</th>\n",
       "      <td>2</td>\n",
       "      <td>SIN NOMBRE</td>\n",
       "    </tr>\n",
       "    <tr>\n",
       "      <th>3</th>\n",
       "      <td>3</td>\n",
       "      <td>EL MORENO</td>\n",
       "    </tr>\n",
       "    <tr>\n",
       "      <th>4</th>\n",
       "      <td>4</td>\n",
       "      <td>SDN SER  DE ALIM  CUERPO SA CIA  DE INT</td>\n",
       "    </tr>\n",
       "  </tbody>\n",
       "</table>\n",
       "</div>"
      ],
      "text/plain": [
       "   Cliente_ID                            NombreCliente\n",
       "0           0                               SIN NOMBRE\n",
       "1           1                         OXXO XINANTECATL\n",
       "2           2                               SIN NOMBRE\n",
       "3           3                                EL MORENO\n",
       "4           4  SDN SER  DE ALIM  CUERPO SA CIA  DE INT"
      ]
     },
     "execution_count": 2,
     "metadata": {},
     "output_type": "execute_result"
    }
   ],
   "source": [
    "client.head()"
   ]
  },
  {
   "cell_type": "markdown",
   "metadata": {},
   "source": [
    "캐글 경진대회에서 제공하는 설명에 따르면, client 데이터에는 중복된 고객 정보가 포함되어 있습니다. 이를 확인하고, 중복된 고객 정보를 제거합니다."
   ]
  },
  {
   "cell_type": "code",
   "execution_count": 3,
   "metadata": {},
   "outputs": [
    {
     "data": {
      "text/html": [
       "<div>\n",
       "<style scoped>\n",
       "    .dataframe tbody tr th:only-of-type {\n",
       "        vertical-align: middle;\n",
       "    }\n",
       "\n",
       "    .dataframe tbody tr th {\n",
       "        vertical-align: top;\n",
       "    }\n",
       "\n",
       "    .dataframe thead th {\n",
       "        text-align: right;\n",
       "    }\n",
       "</style>\n",
       "<table border=\"1\" class=\"dataframe\">\n",
       "  <thead>\n",
       "    <tr style=\"text-align: right;\">\n",
       "      <th></th>\n",
       "      <th>Cliente_ID</th>\n",
       "      <th>NombreCliente</th>\n",
       "    </tr>\n",
       "  </thead>\n",
       "  <tbody>\n",
       "    <tr>\n",
       "      <th>4</th>\n",
       "      <td>4</td>\n",
       "      <td>SDN SER  DE ALIM  CUERPO SA CIA  DE INT</td>\n",
       "    </tr>\n",
       "    <tr>\n",
       "      <th>5</th>\n",
       "      <td>4</td>\n",
       "      <td>SDN SER DE ALIM CUERPO SA CIA DE INT</td>\n",
       "    </tr>\n",
       "    <tr>\n",
       "      <th>62</th>\n",
       "      <td>262</td>\n",
       "      <td>BALNEARIO IXTAPAN S DE R L DE C V</td>\n",
       "    </tr>\n",
       "    <tr>\n",
       "      <th>63</th>\n",
       "      <td>262</td>\n",
       "      <td>BALNEARIO IXTAPAN S  DE R L  DE C V</td>\n",
       "    </tr>\n",
       "    <tr>\n",
       "      <th>64</th>\n",
       "      <td>465</td>\n",
       "      <td>ESCUELA PREPARAROTIA NO 5</td>\n",
       "    </tr>\n",
       "    <tr>\n",
       "      <th>...</th>\n",
       "      <td>...</td>\n",
       "      <td>...</td>\n",
       "    </tr>\n",
       "    <tr>\n",
       "      <th>932959</th>\n",
       "      <td>9533930</td>\n",
       "      <td>SERVIFARMACIAS PACIFICO S A  DE C V</td>\n",
       "    </tr>\n",
       "    <tr>\n",
       "      <th>933798</th>\n",
       "      <td>9612023</td>\n",
       "      <td>GRUPO FERMOSELLE S A  DE C V</td>\n",
       "    </tr>\n",
       "    <tr>\n",
       "      <th>933799</th>\n",
       "      <td>9612023</td>\n",
       "      <td>GRUPO FERMOSELLE S A DE C V</td>\n",
       "    </tr>\n",
       "    <tr>\n",
       "      <th>934732</th>\n",
       "      <td>9694173</td>\n",
       "      <td>OXXO DR  COSS</td>\n",
       "    </tr>\n",
       "    <tr>\n",
       "      <th>934733</th>\n",
       "      <td>9694173</td>\n",
       "      <td>OXXO DR COSS</td>\n",
       "    </tr>\n",
       "  </tbody>\n",
       "</table>\n",
       "<p>9724 rows × 2 columns</p>\n",
       "</div>"
      ],
      "text/plain": [
       "        Cliente_ID                            NombreCliente\n",
       "4                4  SDN SER  DE ALIM  CUERPO SA CIA  DE INT\n",
       "5                4     SDN SER DE ALIM CUERPO SA CIA DE INT\n",
       "62             262        BALNEARIO IXTAPAN S DE R L DE C V\n",
       "63             262      BALNEARIO IXTAPAN S  DE R L  DE C V\n",
       "64             465                ESCUELA PREPARAROTIA NO 5\n",
       "...            ...                                      ...\n",
       "932959     9533930      SERVIFARMACIAS PACIFICO S A  DE C V\n",
       "933798     9612023             GRUPO FERMOSELLE S A  DE C V\n",
       "933799     9612023              GRUPO FERMOSELLE S A DE C V\n",
       "934732     9694173                            OXXO DR  COSS\n",
       "934733     9694173                             OXXO DR COSS\n",
       "\n",
       "[9724 rows x 2 columns]"
      ]
     },
     "execution_count": 3,
     "metadata": {},
     "output_type": "execute_result"
    }
   ],
   "source": [
    "# 중복된 데이터 확인\n",
    "client_dup = client[client.duplicated(subset='Cliente_ID', keep=False)]\n",
    "client_dup"
   ]
  },
  {
   "cell_type": "code",
   "execution_count": 4,
   "metadata": {},
   "outputs": [
    {
     "data": {
      "text/html": [
       "<div>\n",
       "<style scoped>\n",
       "    .dataframe tbody tr th:only-of-type {\n",
       "        vertical-align: middle;\n",
       "    }\n",
       "\n",
       "    .dataframe tbody tr th {\n",
       "        vertical-align: top;\n",
       "    }\n",
       "\n",
       "    .dataframe thead th {\n",
       "        text-align: right;\n",
       "    }\n",
       "</style>\n",
       "<table border=\"1\" class=\"dataframe\">\n",
       "  <thead>\n",
       "    <tr style=\"text-align: right;\">\n",
       "      <th></th>\n",
       "      <th>Cliente_ID</th>\n",
       "      <th>NombreCliente</th>\n",
       "    </tr>\n",
       "  </thead>\n",
       "  <tbody>\n",
       "  </tbody>\n",
       "</table>\n",
       "</div>"
      ],
      "text/plain": [
       "Empty DataFrame\n",
       "Columns: [Cliente_ID, NombreCliente]\n",
       "Index: []"
      ]
     },
     "execution_count": 4,
     "metadata": {},
     "output_type": "execute_result"
    }
   ],
   "source": [
    "# 중복된 데이터 제거 및 재확인\n",
    "client = client.drop_duplicates(subset='Cliente_ID')\n",
    "\n",
    "client_dup = client[client.duplicated(subset='Cliente_ID', keep=False)]\n",
    "client_dup"
   ]
  },
  {
   "cell_type": "code",
   "execution_count": 5,
   "metadata": {},
   "outputs": [
    {
     "name": "stdout",
     "output_type": "stream",
     "text": [
      "<class 'pandas.core.frame.DataFrame'>\n",
      "Int64Index: 930500 entries, 0 to 935361\n",
      "Data columns (total 2 columns):\n",
      " #   Column         Non-Null Count   Dtype \n",
      "---  ------         --------------   ----- \n",
      " 0   Cliente_ID     930500 non-null  int64 \n",
      " 1   NombreCliente  930500 non-null  object\n",
      "dtypes: int64(1), object(1)\n",
      "memory usage: 21.3+ MB\n"
     ]
    }
   ],
   "source": [
    "client.info()"
   ]
  },
  {
   "cell_type": "markdown",
   "metadata": {},
   "source": [
    "#### 1.2.2 Product"
   ]
  },
  {
   "cell_type": "code",
   "execution_count": 6,
   "metadata": {},
   "outputs": [
    {
     "data": {
      "text/html": [
       "<div>\n",
       "<style scoped>\n",
       "    .dataframe tbody tr th:only-of-type {\n",
       "        vertical-align: middle;\n",
       "    }\n",
       "\n",
       "    .dataframe tbody tr th {\n",
       "        vertical-align: top;\n",
       "    }\n",
       "\n",
       "    .dataframe thead th {\n",
       "        text-align: right;\n",
       "    }\n",
       "</style>\n",
       "<table border=\"1\" class=\"dataframe\">\n",
       "  <thead>\n",
       "    <tr style=\"text-align: right;\">\n",
       "      <th></th>\n",
       "      <th>Producto_ID</th>\n",
       "      <th>NombreProducto</th>\n",
       "    </tr>\n",
       "  </thead>\n",
       "  <tbody>\n",
       "    <tr>\n",
       "      <th>0</th>\n",
       "      <td>0</td>\n",
       "      <td>NO IDENTIFICADO 0</td>\n",
       "    </tr>\n",
       "    <tr>\n",
       "      <th>1</th>\n",
       "      <td>9</td>\n",
       "      <td>Capuccino Moka 750g NES 9</td>\n",
       "    </tr>\n",
       "    <tr>\n",
       "      <th>2</th>\n",
       "      <td>41</td>\n",
       "      <td>Bimbollos Ext sAjonjoli 6p 480g BIM 41</td>\n",
       "    </tr>\n",
       "    <tr>\n",
       "      <th>3</th>\n",
       "      <td>53</td>\n",
       "      <td>Burritos Sincro 170g CU LON 53</td>\n",
       "    </tr>\n",
       "    <tr>\n",
       "      <th>4</th>\n",
       "      <td>72</td>\n",
       "      <td>Div Tira Mini Doradita 4p 45g TR 72</td>\n",
       "    </tr>\n",
       "  </tbody>\n",
       "</table>\n",
       "</div>"
      ],
      "text/plain": [
       "   Producto_ID                          NombreProducto\n",
       "0            0                       NO IDENTIFICADO 0\n",
       "1            9               Capuccino Moka 750g NES 9\n",
       "2           41  Bimbollos Ext sAjonjoli 6p 480g BIM 41\n",
       "3           53          Burritos Sincro 170g CU LON 53\n",
       "4           72     Div Tira Mini Doradita 4p 45g TR 72"
      ]
     },
     "execution_count": 6,
     "metadata": {},
     "output_type": "execute_result"
    }
   ],
   "source": [
    "product.head()"
   ]
  },
  {
   "cell_type": "code",
   "execution_count": 7,
   "metadata": {},
   "outputs": [
    {
     "data": {
      "text/html": [
       "<div>\n",
       "<style scoped>\n",
       "    .dataframe tbody tr th:only-of-type {\n",
       "        vertical-align: middle;\n",
       "    }\n",
       "\n",
       "    .dataframe tbody tr th {\n",
       "        vertical-align: top;\n",
       "    }\n",
       "\n",
       "    .dataframe thead th {\n",
       "        text-align: right;\n",
       "    }\n",
       "</style>\n",
       "<table border=\"1\" class=\"dataframe\">\n",
       "  <thead>\n",
       "    <tr style=\"text-align: right;\">\n",
       "      <th></th>\n",
       "      <th>Producto_ID</th>\n",
       "      <th>NombreProducto</th>\n",
       "    </tr>\n",
       "  </thead>\n",
       "  <tbody>\n",
       "  </tbody>\n",
       "</table>\n",
       "</div>"
      ],
      "text/plain": [
       "Empty DataFrame\n",
       "Columns: [Producto_ID, NombreProducto]\n",
       "Index: []"
      ]
     },
     "execution_count": 7,
     "metadata": {},
     "output_type": "execute_result"
    }
   ],
   "source": [
    "product_dup = product[product.duplicated(subset='Producto_ID', keep=False)]\n",
    "product_dup"
   ]
  },
  {
   "cell_type": "markdown",
   "metadata": {},
   "source": [
    "NombreProducto 변수에는 제품명과 제품의 무게가 포함되어 있습니다. 이를 분리하여, 제품명과 제품의 무게를 각각의 변수로 만듭니다."
   ]
  },
  {
   "cell_type": "code",
   "execution_count": 8,
   "metadata": {},
   "outputs": [
    {
     "data": {
      "text/html": [
       "<div>\n",
       "<style scoped>\n",
       "    .dataframe tbody tr th:only-of-type {\n",
       "        vertical-align: middle;\n",
       "    }\n",
       "\n",
       "    .dataframe tbody tr th {\n",
       "        vertical-align: top;\n",
       "    }\n",
       "\n",
       "    .dataframe thead th {\n",
       "        text-align: right;\n",
       "    }\n",
       "</style>\n",
       "<table border=\"1\" class=\"dataframe\">\n",
       "  <thead>\n",
       "    <tr style=\"text-align: right;\">\n",
       "      <th></th>\n",
       "      <th>Producto_ID</th>\n",
       "      <th>NombreProducto</th>\n",
       "      <th>Name</th>\n",
       "      <th>Weight</th>\n",
       "      <th>Pieces</th>\n",
       "      <th>Code</th>\n",
       "    </tr>\n",
       "  </thead>\n",
       "  <tbody>\n",
       "    <tr>\n",
       "      <th>0</th>\n",
       "      <td>0</td>\n",
       "      <td>NO IDENTIFICADO 0</td>\n",
       "      <td>NaN</td>\n",
       "      <td>NaN</td>\n",
       "      <td>NaN</td>\n",
       "      <td>NaN</td>\n",
       "    </tr>\n",
       "    <tr>\n",
       "      <th>1</th>\n",
       "      <td>9</td>\n",
       "      <td>Capuccino Moka 750g NES 9</td>\n",
       "      <td>Capuccino Moka</td>\n",
       "      <td>750g</td>\n",
       "      <td>NaN</td>\n",
       "      <td>NES</td>\n",
       "    </tr>\n",
       "    <tr>\n",
       "      <th>2</th>\n",
       "      <td>41</td>\n",
       "      <td>Bimbollos Ext sAjonjoli 6p 480g BIM 41</td>\n",
       "      <td>Bimbollos Ext sAjonjoli</td>\n",
       "      <td>480g</td>\n",
       "      <td>6p</td>\n",
       "      <td>BIM</td>\n",
       "    </tr>\n",
       "    <tr>\n",
       "      <th>3</th>\n",
       "      <td>53</td>\n",
       "      <td>Burritos Sincro 170g CU LON 53</td>\n",
       "      <td>Burritos Sincro</td>\n",
       "      <td>170g</td>\n",
       "      <td>NaN</td>\n",
       "      <td>CU LON</td>\n",
       "    </tr>\n",
       "    <tr>\n",
       "      <th>4</th>\n",
       "      <td>72</td>\n",
       "      <td>Div Tira Mini Doradita 4p 45g TR 72</td>\n",
       "      <td>Div Tira Mini Doradita</td>\n",
       "      <td>45g</td>\n",
       "      <td>4p</td>\n",
       "      <td>TR</td>\n",
       "    </tr>\n",
       "  </tbody>\n",
       "</table>\n",
       "</div>"
      ],
      "text/plain": [
       "   Producto_ID                          NombreProducto  \\\n",
       "0            0                       NO IDENTIFICADO 0   \n",
       "1            9               Capuccino Moka 750g NES 9   \n",
       "2           41  Bimbollos Ext sAjonjoli 6p 480g BIM 41   \n",
       "3           53          Burritos Sincro 170g CU LON 53   \n",
       "4           72     Div Tira Mini Doradita 4p 45g TR 72   \n",
       "\n",
       "                      Name Weight Pieces    Code  \n",
       "0                      NaN    NaN    NaN     NaN  \n",
       "1           Capuccino Moka   750g    NaN     NES  \n",
       "2  Bimbollos Ext sAjonjoli   480g     6p     BIM  \n",
       "3          Burritos Sincro   170g    NaN  CU LON  \n",
       "4   Div Tira Mini Doradita    45g     4p      TR  "
      ]
     },
     "execution_count": 8,
     "metadata": {},
     "output_type": "execute_result"
    }
   ],
   "source": [
    "# Product 텍스트 데이터에서 상품명, 무게, 개수, 코드 추출\n",
    "product['Name'] = product['NombreProducto'].str.extract(r'^(.*?)(\\d*\\s\\d+(kg|Kg|g|G|ml| ml|p|Reb)\\s)', expand=False)[0]\n",
    "product['Weight'] = product['NombreProducto'].str.extract(r'(\\d*\\s\\d+(kg|Kg|g|G|ml| ml))', expand=False)[0]\n",
    "product['Pieces'] = product['NombreProducto'].str.extract('(\\d+(p|Reb))', expand=False)[0]\n",
    "product['Code'] = product['NombreProducto'].str.extract(r'^.*\\d+(kg|Kg|g|G|ml| ml|p|Reb)\\s(.*?)\\s\\d+$', expand=False)[1]\n",
    "\n",
    "product.head()"
   ]
  },
  {
   "cell_type": "code",
   "execution_count": 9,
   "metadata": {},
   "outputs": [
    {
     "name": "stdout",
     "output_type": "stream",
     "text": [
      "<class 'pandas.core.frame.DataFrame'>\n",
      "RangeIndex: 2592 entries, 0 to 2591\n",
      "Data columns (total 6 columns):\n",
      " #   Column          Non-Null Count  Dtype \n",
      "---  ------          --------------  ----- \n",
      " 0   Producto_ID     2592 non-null   int64 \n",
      " 1   NombreProducto  2592 non-null   object\n",
      " 2   Name            2565 non-null   object\n",
      " 3   Weight          2532 non-null   object\n",
      " 4   Pieces          1195 non-null   object\n",
      " 5   Code            2571 non-null   object\n",
      "dtypes: int64(1), object(5)\n",
      "memory usage: 121.6+ KB\n"
     ]
    }
   ],
   "source": [
    "product.info()"
   ]
  },
  {
   "cell_type": "markdown",
   "metadata": {},
   "source": [
    "#### 1.2.3 Town"
   ]
  },
  {
   "cell_type": "code",
   "execution_count": 10,
   "metadata": {},
   "outputs": [
    {
     "data": {
      "text/html": [
       "<div>\n",
       "<style scoped>\n",
       "    .dataframe tbody tr th:only-of-type {\n",
       "        vertical-align: middle;\n",
       "    }\n",
       "\n",
       "    .dataframe tbody tr th {\n",
       "        vertical-align: top;\n",
       "    }\n",
       "\n",
       "    .dataframe thead th {\n",
       "        text-align: right;\n",
       "    }\n",
       "</style>\n",
       "<table border=\"1\" class=\"dataframe\">\n",
       "  <thead>\n",
       "    <tr style=\"text-align: right;\">\n",
       "      <th></th>\n",
       "      <th>Agencia_ID</th>\n",
       "      <th>Town</th>\n",
       "      <th>State</th>\n",
       "    </tr>\n",
       "  </thead>\n",
       "  <tbody>\n",
       "    <tr>\n",
       "      <th>0</th>\n",
       "      <td>1110</td>\n",
       "      <td>2008 AG. LAGO FILT</td>\n",
       "      <td>MÉXICO, D.F.</td>\n",
       "    </tr>\n",
       "    <tr>\n",
       "      <th>1</th>\n",
       "      <td>1111</td>\n",
       "      <td>2002 AG. AZCAPOTZALCO</td>\n",
       "      <td>MÉXICO, D.F.</td>\n",
       "    </tr>\n",
       "    <tr>\n",
       "      <th>2</th>\n",
       "      <td>1112</td>\n",
       "      <td>2004 AG. CUAUTITLAN</td>\n",
       "      <td>ESTADO DE MÉXICO</td>\n",
       "    </tr>\n",
       "    <tr>\n",
       "      <th>3</th>\n",
       "      <td>1113</td>\n",
       "      <td>2008 AG. LAGO FILT</td>\n",
       "      <td>MÉXICO, D.F.</td>\n",
       "    </tr>\n",
       "    <tr>\n",
       "      <th>4</th>\n",
       "      <td>1114</td>\n",
       "      <td>2029 AG.IZTAPALAPA 2</td>\n",
       "      <td>MÉXICO, D.F.</td>\n",
       "    </tr>\n",
       "  </tbody>\n",
       "</table>\n",
       "</div>"
      ],
      "text/plain": [
       "   Agencia_ID                   Town             State\n",
       "0        1110     2008 AG. LAGO FILT      MÉXICO, D.F.\n",
       "1        1111  2002 AG. AZCAPOTZALCO      MÉXICO, D.F.\n",
       "2        1112    2004 AG. CUAUTITLAN  ESTADO DE MÉXICO\n",
       "3        1113     2008 AG. LAGO FILT      MÉXICO, D.F.\n",
       "4        1114   2029 AG.IZTAPALAPA 2      MÉXICO, D.F."
      ]
     },
     "execution_count": 10,
     "metadata": {},
     "output_type": "execute_result"
    }
   ],
   "source": [
    "town.head()"
   ]
  },
  {
   "cell_type": "code",
   "execution_count": 11,
   "metadata": {},
   "outputs": [
    {
     "data": {
      "text/html": [
       "<div>\n",
       "<style scoped>\n",
       "    .dataframe tbody tr th:only-of-type {\n",
       "        vertical-align: middle;\n",
       "    }\n",
       "\n",
       "    .dataframe tbody tr th {\n",
       "        vertical-align: top;\n",
       "    }\n",
       "\n",
       "    .dataframe thead th {\n",
       "        text-align: right;\n",
       "    }\n",
       "</style>\n",
       "<table border=\"1\" class=\"dataframe\">\n",
       "  <thead>\n",
       "    <tr style=\"text-align: right;\">\n",
       "      <th></th>\n",
       "      <th>Agencia_ID</th>\n",
       "      <th>Town</th>\n",
       "      <th>State</th>\n",
       "    </tr>\n",
       "  </thead>\n",
       "  <tbody>\n",
       "  </tbody>\n",
       "</table>\n",
       "</div>"
      ],
      "text/plain": [
       "Empty DataFrame\n",
       "Columns: [Agencia_ID, Town, State]\n",
       "Index: []"
      ]
     },
     "execution_count": 11,
     "metadata": {},
     "output_type": "execute_result"
    }
   ],
   "source": [
    "town_dup = town[town.duplicated(subset='Agencia_ID', keep=False)]\n",
    "town_dup"
   ]
  },
  {
   "cell_type": "markdown",
   "metadata": {},
   "source": [
    "Town 변수에는 Town의 코드가 포함되어 있습니다. 이를 분리하여, Town의 코드와 Town의 이름을 각각의 변수로 만듭니다."
   ]
  },
  {
   "cell_type": "code",
   "execution_count": 12,
   "metadata": {},
   "outputs": [
    {
     "data": {
      "text/html": [
       "<div>\n",
       "<style scoped>\n",
       "    .dataframe tbody tr th:only-of-type {\n",
       "        vertical-align: middle;\n",
       "    }\n",
       "\n",
       "    .dataframe tbody tr th {\n",
       "        vertical-align: top;\n",
       "    }\n",
       "\n",
       "    .dataframe thead th {\n",
       "        text-align: right;\n",
       "    }\n",
       "</style>\n",
       "<table border=\"1\" class=\"dataframe\">\n",
       "  <thead>\n",
       "    <tr style=\"text-align: right;\">\n",
       "      <th></th>\n",
       "      <th>Agencia_ID</th>\n",
       "      <th>Town</th>\n",
       "      <th>State</th>\n",
       "      <th>Town_ID</th>\n",
       "    </tr>\n",
       "  </thead>\n",
       "  <tbody>\n",
       "    <tr>\n",
       "      <th>0</th>\n",
       "      <td>1110</td>\n",
       "      <td>2008 AG. LAGO FILT</td>\n",
       "      <td>MÉXICO, D.F.</td>\n",
       "      <td>2008</td>\n",
       "    </tr>\n",
       "    <tr>\n",
       "      <th>1</th>\n",
       "      <td>1111</td>\n",
       "      <td>2002 AG. AZCAPOTZALCO</td>\n",
       "      <td>MÉXICO, D.F.</td>\n",
       "      <td>2002</td>\n",
       "    </tr>\n",
       "    <tr>\n",
       "      <th>2</th>\n",
       "      <td>1112</td>\n",
       "      <td>2004 AG. CUAUTITLAN</td>\n",
       "      <td>ESTADO DE MÉXICO</td>\n",
       "      <td>2004</td>\n",
       "    </tr>\n",
       "    <tr>\n",
       "      <th>3</th>\n",
       "      <td>1113</td>\n",
       "      <td>2008 AG. LAGO FILT</td>\n",
       "      <td>MÉXICO, D.F.</td>\n",
       "      <td>2008</td>\n",
       "    </tr>\n",
       "    <tr>\n",
       "      <th>4</th>\n",
       "      <td>1114</td>\n",
       "      <td>2029 AG.IZTAPALAPA 2</td>\n",
       "      <td>MÉXICO, D.F.</td>\n",
       "      <td>2029</td>\n",
       "    </tr>\n",
       "  </tbody>\n",
       "</table>\n",
       "</div>"
      ],
      "text/plain": [
       "   Agencia_ID                   Town             State Town_ID\n",
       "0        1110     2008 AG. LAGO FILT      MÉXICO, D.F.    2008\n",
       "1        1111  2002 AG. AZCAPOTZALCO      MÉXICO, D.F.    2002\n",
       "2        1112    2004 AG. CUAUTITLAN  ESTADO DE MÉXICO    2004\n",
       "3        1113     2008 AG. LAGO FILT      MÉXICO, D.F.    2008\n",
       "4        1114   2029 AG.IZTAPALAPA 2      MÉXICO, D.F.    2029"
      ]
     },
     "execution_count": 12,
     "metadata": {},
     "output_type": "execute_result"
    }
   ],
   "source": [
    "# Town 텍스트 데이터에서 Town_ID 추출\n",
    "town['Town_ID'] = town['Town'].str.extract(r'(\\d+)', expand=False)\n",
    "\n",
    "town.head()"
   ]
  },
  {
   "cell_type": "code",
   "execution_count": 13,
   "metadata": {},
   "outputs": [
    {
     "name": "stdout",
     "output_type": "stream",
     "text": [
      "<class 'pandas.core.frame.DataFrame'>\n",
      "RangeIndex: 790 entries, 0 to 789\n",
      "Data columns (total 4 columns):\n",
      " #   Column      Non-Null Count  Dtype \n",
      "---  ------      --------------  ----- \n",
      " 0   Agencia_ID  790 non-null    int64 \n",
      " 1   Town        790 non-null    object\n",
      " 2   State       790 non-null    object\n",
      " 3   Town_ID     790 non-null    object\n",
      "dtypes: int64(1), object(3)\n",
      "memory usage: 24.8+ KB\n"
     ]
    }
   ],
   "source": [
    "town.info()"
   ]
  },
  {
   "cell_type": "code",
   "execution_count": 14,
   "metadata": {},
   "outputs": [
    {
     "name": "stdout",
     "output_type": "stream",
     "text": [
      "<class 'pandas.core.frame.DataFrame'>\n",
      "RangeIndex: 790 entries, 0 to 789\n",
      "Data columns (total 4 columns):\n",
      " #   Column      Non-Null Count  Dtype \n",
      "---  ------      --------------  ----- \n",
      " 0   Agencia_ID  790 non-null    int64 \n",
      " 1   Town        790 non-null    object\n",
      " 2   State       790 non-null    object\n",
      " 3   Town_ID     790 non-null    int64 \n",
      "dtypes: int64(2), object(2)\n",
      "memory usage: 24.8+ KB\n"
     ]
    }
   ],
   "source": [
    "# 데이터 타입 변경\n",
    "town['Town_ID'] = town['Town_ID'].astype('int64')\n",
    "\n",
    "town.info()"
   ]
  },
  {
   "cell_type": "markdown",
   "metadata": {},
   "source": [
    "#### 1.2.4 Train, Test"
   ]
  },
  {
   "cell_type": "code",
   "execution_count": 15,
   "metadata": {},
   "outputs": [
    {
     "data": {
      "text/html": [
       "<div>\n",
       "<style scoped>\n",
       "    .dataframe tbody tr th:only-of-type {\n",
       "        vertical-align: middle;\n",
       "    }\n",
       "\n",
       "    .dataframe tbody tr th {\n",
       "        vertical-align: top;\n",
       "    }\n",
       "\n",
       "    .dataframe thead th {\n",
       "        text-align: right;\n",
       "    }\n",
       "</style>\n",
       "<table border=\"1\" class=\"dataframe\">\n",
       "  <thead>\n",
       "    <tr style=\"text-align: right;\">\n",
       "      <th></th>\n",
       "      <th>Semana</th>\n",
       "      <th>Agencia_ID</th>\n",
       "      <th>Canal_ID</th>\n",
       "      <th>Ruta_SAK</th>\n",
       "      <th>Cliente_ID</th>\n",
       "      <th>Producto_ID</th>\n",
       "      <th>Venta_uni_hoy</th>\n",
       "      <th>Venta_hoy</th>\n",
       "      <th>Dev_uni_proxima</th>\n",
       "      <th>Dev_proxima</th>\n",
       "      <th>Demanda_uni_equil</th>\n",
       "    </tr>\n",
       "  </thead>\n",
       "  <tbody>\n",
       "    <tr>\n",
       "      <th>0</th>\n",
       "      <td>3</td>\n",
       "      <td>1110</td>\n",
       "      <td>7</td>\n",
       "      <td>3301</td>\n",
       "      <td>15766</td>\n",
       "      <td>1212</td>\n",
       "      <td>3</td>\n",
       "      <td>25.14</td>\n",
       "      <td>0</td>\n",
       "      <td>0.0</td>\n",
       "      <td>3</td>\n",
       "    </tr>\n",
       "    <tr>\n",
       "      <th>1</th>\n",
       "      <td>3</td>\n",
       "      <td>1110</td>\n",
       "      <td>7</td>\n",
       "      <td>3301</td>\n",
       "      <td>15766</td>\n",
       "      <td>1216</td>\n",
       "      <td>4</td>\n",
       "      <td>33.52</td>\n",
       "      <td>0</td>\n",
       "      <td>0.0</td>\n",
       "      <td>4</td>\n",
       "    </tr>\n",
       "    <tr>\n",
       "      <th>2</th>\n",
       "      <td>3</td>\n",
       "      <td>1110</td>\n",
       "      <td>7</td>\n",
       "      <td>3301</td>\n",
       "      <td>15766</td>\n",
       "      <td>1238</td>\n",
       "      <td>4</td>\n",
       "      <td>39.32</td>\n",
       "      <td>0</td>\n",
       "      <td>0.0</td>\n",
       "      <td>4</td>\n",
       "    </tr>\n",
       "    <tr>\n",
       "      <th>3</th>\n",
       "      <td>3</td>\n",
       "      <td>1110</td>\n",
       "      <td>7</td>\n",
       "      <td>3301</td>\n",
       "      <td>15766</td>\n",
       "      <td>1240</td>\n",
       "      <td>4</td>\n",
       "      <td>33.52</td>\n",
       "      <td>0</td>\n",
       "      <td>0.0</td>\n",
       "      <td>4</td>\n",
       "    </tr>\n",
       "    <tr>\n",
       "      <th>4</th>\n",
       "      <td>3</td>\n",
       "      <td>1110</td>\n",
       "      <td>7</td>\n",
       "      <td>3301</td>\n",
       "      <td>15766</td>\n",
       "      <td>1242</td>\n",
       "      <td>3</td>\n",
       "      <td>22.92</td>\n",
       "      <td>0</td>\n",
       "      <td>0.0</td>\n",
       "      <td>3</td>\n",
       "    </tr>\n",
       "  </tbody>\n",
       "</table>\n",
       "</div>"
      ],
      "text/plain": [
       "   Semana  Agencia_ID  Canal_ID  Ruta_SAK  Cliente_ID  Producto_ID  \\\n",
       "0       3        1110         7      3301       15766         1212   \n",
       "1       3        1110         7      3301       15766         1216   \n",
       "2       3        1110         7      3301       15766         1238   \n",
       "3       3        1110         7      3301       15766         1240   \n",
       "4       3        1110         7      3301       15766         1242   \n",
       "\n",
       "   Venta_uni_hoy  Venta_hoy  Dev_uni_proxima  Dev_proxima  Demanda_uni_equil  \n",
       "0              3      25.14                0          0.0                  3  \n",
       "1              4      33.52                0          0.0                  4  \n",
       "2              4      39.32                0          0.0                  4  \n",
       "3              4      33.52                0          0.0                  4  \n",
       "4              3      22.92                0          0.0                  3  "
      ]
     },
     "execution_count": 15,
     "metadata": {},
     "output_type": "execute_result"
    }
   ],
   "source": [
    "train.head()"
   ]
  },
  {
   "cell_type": "code",
   "execution_count": 16,
   "metadata": {},
   "outputs": [
    {
     "name": "stdout",
     "output_type": "stream",
     "text": [
      "<class 'pandas.core.frame.DataFrame'>\n",
      "RangeIndex: 74180464 entries, 0 to 74180463\n",
      "Data columns (total 11 columns):\n",
      " #   Column             Dtype  \n",
      "---  ------             -----  \n",
      " 0   Semana             int64  \n",
      " 1   Agencia_ID         int64  \n",
      " 2   Canal_ID           int64  \n",
      " 3   Ruta_SAK           int64  \n",
      " 4   Cliente_ID         int64  \n",
      " 5   Producto_ID        int64  \n",
      " 6   Venta_uni_hoy      int64  \n",
      " 7   Venta_hoy          float64\n",
      " 8   Dev_uni_proxima    int64  \n",
      " 9   Dev_proxima        float64\n",
      " 10  Demanda_uni_equil  int64  \n",
      "dtypes: float64(2), int64(9)\n",
      "memory usage: 6.1 GB\n"
     ]
    }
   ],
   "source": [
    "train.info()"
   ]
  },
  {
   "cell_type": "code",
   "execution_count": 17,
   "metadata": {},
   "outputs": [
    {
     "name": "stdout",
     "output_type": "stream",
     "text": [
      "Semana                  int8\n",
      "Agencia_ID             int16\n",
      "Canal_ID                int8\n",
      "Ruta_SAK               int16\n",
      "Cliente_ID             int32\n",
      "Producto_ID            int32\n",
      "Venta_uni_hoy          int16\n",
      "Venta_hoy            float32\n",
      "Dev_uni_proxima        int32\n",
      "Dev_proxima          float32\n",
      "Demanda_uni_equil      int16\n",
      "dtype: object\n"
     ]
    }
   ],
   "source": [
    "# DataFrame의 모든 열을 순회하며\n",
    "for column in train.columns:\n",
    "    # 각 열을 가능한 한 작은 수치형으로 변환\n",
    "    if train[column].dtype == 'float64':\n",
    "        train[column] = pd.to_numeric(train[column], downcast='float')\n",
    "    else:\n",
    "        train[column] = pd.to_numeric(train[column], downcast='integer')\n",
    "\n",
    "# 변환 후의 데이터 타입 확인\n",
    "print(train.dtypes)"
   ]
  },
  {
   "cell_type": "code",
   "execution_count": 18,
   "metadata": {},
   "outputs": [
    {
     "name": "stdout",
     "output_type": "stream",
     "text": [
      "<class 'pandas.core.frame.DataFrame'>\n",
      "RangeIndex: 74180464 entries, 0 to 74180463\n",
      "Data columns (total 11 columns):\n",
      " #   Column             Dtype  \n",
      "---  ------             -----  \n",
      " 0   Semana             int8   \n",
      " 1   Agencia_ID         int16  \n",
      " 2   Canal_ID           int8   \n",
      " 3   Ruta_SAK           int16  \n",
      " 4   Cliente_ID         int32  \n",
      " 5   Producto_ID        int32  \n",
      " 6   Venta_uni_hoy      int16  \n",
      " 7   Venta_hoy          float32\n",
      " 8   Dev_uni_proxima    int32  \n",
      " 9   Dev_proxima        float32\n",
      " 10  Demanda_uni_equil  int16  \n",
      "dtypes: float32(2), int16(4), int32(3), int8(2)\n",
      "memory usage: 2.1 GB\n"
     ]
    }
   ],
   "source": [
    "train.info()"
   ]
  },
  {
   "cell_type": "code",
   "execution_count": 19,
   "metadata": {},
   "outputs": [
    {
     "data": {
      "text/plain": [
       "3    11165207\n",
       "4    11009593\n",
       "5    10615397\n",
       "9    10408713\n",
       "8    10406868\n",
       "7    10382849\n",
       "6    10191837\n",
       "Name: Semana, dtype: int64"
      ]
     },
     "execution_count": 19,
     "metadata": {},
     "output_type": "execute_result"
    }
   ],
   "source": [
    "train_semana_counts = train['Semana'].value_counts()\n",
    "train_semana_counts"
   ]
  },
  {
   "cell_type": "code",
   "execution_count": 20,
   "metadata": {},
   "outputs": [
    {
     "data": {
      "text/html": [
       "<div>\n",
       "<style scoped>\n",
       "    .dataframe tbody tr th:only-of-type {\n",
       "        vertical-align: middle;\n",
       "    }\n",
       "\n",
       "    .dataframe tbody tr th {\n",
       "        vertical-align: top;\n",
       "    }\n",
       "\n",
       "    .dataframe thead th {\n",
       "        text-align: right;\n",
       "    }\n",
       "</style>\n",
       "<table border=\"1\" class=\"dataframe\">\n",
       "  <thead>\n",
       "    <tr style=\"text-align: right;\">\n",
       "      <th></th>\n",
       "      <th>id</th>\n",
       "      <th>Semana</th>\n",
       "      <th>Agencia_ID</th>\n",
       "      <th>Canal_ID</th>\n",
       "      <th>Ruta_SAK</th>\n",
       "      <th>Cliente_ID</th>\n",
       "      <th>Producto_ID</th>\n",
       "    </tr>\n",
       "  </thead>\n",
       "  <tbody>\n",
       "    <tr>\n",
       "      <th>0</th>\n",
       "      <td>0</td>\n",
       "      <td>11</td>\n",
       "      <td>4037</td>\n",
       "      <td>1</td>\n",
       "      <td>2209</td>\n",
       "      <td>4639078</td>\n",
       "      <td>35305</td>\n",
       "    </tr>\n",
       "    <tr>\n",
       "      <th>1</th>\n",
       "      <td>1</td>\n",
       "      <td>11</td>\n",
       "      <td>2237</td>\n",
       "      <td>1</td>\n",
       "      <td>1226</td>\n",
       "      <td>4705135</td>\n",
       "      <td>1238</td>\n",
       "    </tr>\n",
       "    <tr>\n",
       "      <th>2</th>\n",
       "      <td>2</td>\n",
       "      <td>10</td>\n",
       "      <td>2045</td>\n",
       "      <td>1</td>\n",
       "      <td>2831</td>\n",
       "      <td>4549769</td>\n",
       "      <td>32940</td>\n",
       "    </tr>\n",
       "    <tr>\n",
       "      <th>3</th>\n",
       "      <td>3</td>\n",
       "      <td>11</td>\n",
       "      <td>1227</td>\n",
       "      <td>1</td>\n",
       "      <td>4448</td>\n",
       "      <td>4717855</td>\n",
       "      <td>43066</td>\n",
       "    </tr>\n",
       "    <tr>\n",
       "      <th>4</th>\n",
       "      <td>4</td>\n",
       "      <td>11</td>\n",
       "      <td>1219</td>\n",
       "      <td>1</td>\n",
       "      <td>1130</td>\n",
       "      <td>966351</td>\n",
       "      <td>1277</td>\n",
       "    </tr>\n",
       "  </tbody>\n",
       "</table>\n",
       "</div>"
      ],
      "text/plain": [
       "   id  Semana  Agencia_ID  Canal_ID  Ruta_SAK  Cliente_ID  Producto_ID\n",
       "0   0      11        4037         1      2209     4639078        35305\n",
       "1   1      11        2237         1      1226     4705135         1238\n",
       "2   2      10        2045         1      2831     4549769        32940\n",
       "3   3      11        1227         1      4448     4717855        43066\n",
       "4   4      11        1219         1      1130      966351         1277"
      ]
     },
     "execution_count": 20,
     "metadata": {},
     "output_type": "execute_result"
    }
   ],
   "source": [
    "test.head()"
   ]
  },
  {
   "cell_type": "code",
   "execution_count": 21,
   "metadata": {},
   "outputs": [
    {
     "name": "stdout",
     "output_type": "stream",
     "text": [
      "<class 'pandas.core.frame.DataFrame'>\n",
      "RangeIndex: 6999251 entries, 0 to 6999250\n",
      "Data columns (total 7 columns):\n",
      " #   Column       Dtype\n",
      "---  ------       -----\n",
      " 0   id           int64\n",
      " 1   Semana       int64\n",
      " 2   Agencia_ID   int64\n",
      " 3   Canal_ID     int64\n",
      " 4   Ruta_SAK     int64\n",
      " 5   Cliente_ID   int64\n",
      " 6   Producto_ID  int64\n",
      "dtypes: int64(7)\n",
      "memory usage: 373.8 MB\n"
     ]
    }
   ],
   "source": [
    "test.info()"
   ]
  },
  {
   "cell_type": "code",
   "execution_count": 22,
   "metadata": {},
   "outputs": [
    {
     "name": "stdout",
     "output_type": "stream",
     "text": [
      "id             int32\n",
      "Semana          int8\n",
      "Agencia_ID     int16\n",
      "Canal_ID        int8\n",
      "Ruta_SAK       int16\n",
      "Cliente_ID     int32\n",
      "Producto_ID    int32\n",
      "dtype: object\n"
     ]
    }
   ],
   "source": [
    "# DataFrame의 모든 열을 순회하며\n",
    "for column in test.columns:\n",
    "    # 각 열을 가능한 한 작은 수치형으로 변환\n",
    "    if test[column].dtype == 'float64':\n",
    "        test[column] = pd.to_numeric(test[column], downcast='float')\n",
    "    else:\n",
    "        test[column] = pd.to_numeric(test[column], downcast='integer')\n",
    "\n",
    "# 변환 후의 데이터 타입 확인\n",
    "print(test.dtypes)"
   ]
  },
  {
   "cell_type": "code",
   "execution_count": 23,
   "metadata": {},
   "outputs": [
    {
     "data": {
      "text/plain": [
       "10    3538385\n",
       "11    3460866\n",
       "Name: Semana, dtype: int64"
      ]
     },
     "execution_count": 23,
     "metadata": {},
     "output_type": "execute_result"
    }
   ],
   "source": [
    "test_semana_counts = test['Semana'].value_counts()\n",
    "test_semana_counts"
   ]
  },
  {
   "cell_type": "markdown",
   "metadata": {},
   "source": [
    "Train 데이터와 Test 데이터의 공통된 변수의 데이터 타입이 일치합니다.\n",
    "앞서 다른 데이터셋에서도 공통된 변수의 데이터 타입을 일치시킵니다."
   ]
  },
  {
   "cell_type": "code",
   "execution_count": 24,
   "metadata": {},
   "outputs": [],
   "source": [
    "# client, product, town 데이터셋의 데이터 타입을 변경\n",
    "client['Cliente_ID'] = client['Cliente_ID'].astype('int32')\n",
    "product['Producto_ID'] = product['Producto_ID'].astype('int32')\n",
    "town['Agencia_ID'] = town['Agencia_ID'].astype('int16')"
   ]
  },
  {
   "cell_type": "code",
   "execution_count": 25,
   "metadata": {},
   "outputs": [
    {
     "name": "stdout",
     "output_type": "stream",
     "text": [
      "<class 'pandas.core.frame.DataFrame'>\n",
      "Int64Index: 930500 entries, 0 to 935361\n",
      "Data columns (total 2 columns):\n",
      " #   Column         Non-Null Count   Dtype \n",
      "---  ------         --------------   ----- \n",
      " 0   Cliente_ID     930500 non-null  int32 \n",
      " 1   NombreCliente  930500 non-null  object\n",
      "dtypes: int32(1), object(1)\n",
      "memory usage: 17.7+ MB\n"
     ]
    }
   ],
   "source": [
    "client.info()"
   ]
  },
  {
   "cell_type": "code",
   "execution_count": 26,
   "metadata": {},
   "outputs": [
    {
     "name": "stdout",
     "output_type": "stream",
     "text": [
      "<class 'pandas.core.frame.DataFrame'>\n",
      "RangeIndex: 2592 entries, 0 to 2591\n",
      "Data columns (total 6 columns):\n",
      " #   Column          Non-Null Count  Dtype \n",
      "---  ------          --------------  ----- \n",
      " 0   Producto_ID     2592 non-null   int32 \n",
      " 1   NombreProducto  2592 non-null   object\n",
      " 2   Name            2565 non-null   object\n",
      " 3   Weight          2532 non-null   object\n",
      " 4   Pieces          1195 non-null   object\n",
      " 5   Code            2571 non-null   object\n",
      "dtypes: int32(1), object(5)\n",
      "memory usage: 111.5+ KB\n"
     ]
    }
   ],
   "source": [
    "product.info()"
   ]
  },
  {
   "cell_type": "code",
   "execution_count": 27,
   "metadata": {},
   "outputs": [
    {
     "name": "stdout",
     "output_type": "stream",
     "text": [
      "<class 'pandas.core.frame.DataFrame'>\n",
      "RangeIndex: 790 entries, 0 to 789\n",
      "Data columns (total 4 columns):\n",
      " #   Column      Non-Null Count  Dtype \n",
      "---  ------      --------------  ----- \n",
      " 0   Agencia_ID  790 non-null    int16 \n",
      " 1   Town        790 non-null    object\n",
      " 2   State       790 non-null    object\n",
      " 3   Town_ID     790 non-null    int64 \n",
      "dtypes: int16(1), int64(1), object(2)\n",
      "memory usage: 20.2+ KB\n"
     ]
    }
   ],
   "source": [
    "town.info()"
   ]
  },
  {
   "cell_type": "code",
   "execution_count": 28,
   "metadata": {},
   "outputs": [
    {
     "name": "stdout",
     "output_type": "stream",
     "text": [
      "Agencia_ID     int16\n",
      "Town          object\n",
      "State         object\n",
      "Town_ID        int16\n",
      "dtype: object\n"
     ]
    }
   ],
   "source": [
    "for column in town.columns:\n",
    "    if town[column].dtype == 'int64':\n",
    "        town[column] = pd.to_numeric(town[column], downcast='integer')\n",
    "\n",
    "print(town.dtypes)"
   ]
  },
  {
   "cell_type": "markdown",
   "metadata": {},
   "source": [
    "### 1.3 추가 피처 생성\n",
    "\n",
    "#### 1.3.1 Product 가격 계산\n",
    "Train 데이터셋의 Venta_uni_hoy, Venta_hoy, Dev_uni_proxima, Dev_proxima 컬럼을 이용하여 Product별 가격을 계산하여 추가합니다."
   ]
  },
  {
   "cell_type": "code",
   "execution_count": 29,
   "metadata": {},
   "outputs": [
    {
     "data": {
      "text/html": [
       "<div>\n",
       "<style scoped>\n",
       "    .dataframe tbody tr th:only-of-type {\n",
       "        vertical-align: middle;\n",
       "    }\n",
       "\n",
       "    .dataframe tbody tr th {\n",
       "        vertical-align: top;\n",
       "    }\n",
       "\n",
       "    .dataframe thead th {\n",
       "        text-align: right;\n",
       "    }\n",
       "</style>\n",
       "<table border=\"1\" class=\"dataframe\">\n",
       "  <thead>\n",
       "    <tr style=\"text-align: right;\">\n",
       "      <th></th>\n",
       "      <th>Producto_ID</th>\n",
       "      <th>Sales_Price</th>\n",
       "      <th>Return_Price</th>\n",
       "    </tr>\n",
       "  </thead>\n",
       "  <tbody>\n",
       "    <tr>\n",
       "      <th>0</th>\n",
       "      <td>1212</td>\n",
       "      <td>8.38</td>\n",
       "      <td>NaN</td>\n",
       "    </tr>\n",
       "    <tr>\n",
       "      <th>1</th>\n",
       "      <td>1216</td>\n",
       "      <td>8.38</td>\n",
       "      <td>NaN</td>\n",
       "    </tr>\n",
       "    <tr>\n",
       "      <th>2</th>\n",
       "      <td>1238</td>\n",
       "      <td>9.83</td>\n",
       "      <td>NaN</td>\n",
       "    </tr>\n",
       "    <tr>\n",
       "      <th>3</th>\n",
       "      <td>1240</td>\n",
       "      <td>8.38</td>\n",
       "      <td>NaN</td>\n",
       "    </tr>\n",
       "    <tr>\n",
       "      <th>4</th>\n",
       "      <td>1242</td>\n",
       "      <td>7.64</td>\n",
       "      <td>NaN</td>\n",
       "    </tr>\n",
       "  </tbody>\n",
       "</table>\n",
       "</div>"
      ],
      "text/plain": [
       "   Producto_ID  Sales_Price  Return_Price\n",
       "0         1212         8.38           NaN\n",
       "1         1216         8.38           NaN\n",
       "2         1238         9.83           NaN\n",
       "3         1240         8.38           NaN\n",
       "4         1242         7.64           NaN"
      ]
     },
     "execution_count": 29,
     "metadata": {},
     "output_type": "execute_result"
    }
   ],
   "source": [
    "product_price = pd.DataFrame()\n",
    "product_price['Producto_ID'] = train['Producto_ID']\n",
    "product_price['Sales_Price'] = train['Venta_hoy'] / train['Venta_uni_hoy']\n",
    "product_price['Return_Price'] = train['Dev_proxima'] / train['Dev_uni_proxima']\n",
    "\n",
    "product_price.head()"
   ]
  },
  {
   "cell_type": "code",
   "execution_count": 30,
   "metadata": {},
   "outputs": [
    {
     "name": "stdout",
     "output_type": "stream",
     "text": [
      "<class 'pandas.core.frame.DataFrame'>\n",
      "RangeIndex: 74180464 entries, 0 to 74180463\n",
      "Data columns (total 3 columns):\n",
      " #   Column        Dtype  \n",
      "---  ------        -----  \n",
      " 0   Producto_ID   int32  \n",
      " 1   Sales_Price   float32\n",
      " 2   Return_Price  float32\n",
      "dtypes: float32(2), int32(1)\n",
      "memory usage: 848.9 MB\n"
     ]
    }
   ],
   "source": [
    "product_price.info()"
   ]
  },
  {
   "cell_type": "code",
   "execution_count": 31,
   "metadata": {},
   "outputs": [
    {
     "data": {
      "text/html": [
       "<div>\n",
       "<style scoped>\n",
       "    .dataframe tbody tr th:only-of-type {\n",
       "        vertical-align: middle;\n",
       "    }\n",
       "\n",
       "    .dataframe tbody tr th {\n",
       "        vertical-align: top;\n",
       "    }\n",
       "\n",
       "    .dataframe thead th {\n",
       "        text-align: right;\n",
       "    }\n",
       "</style>\n",
       "<table border=\"1\" class=\"dataframe\">\n",
       "  <thead>\n",
       "    <tr style=\"text-align: right;\">\n",
       "      <th></th>\n",
       "      <th>Producto_ID</th>\n",
       "      <th>price</th>\n",
       "    </tr>\n",
       "  </thead>\n",
       "  <tbody>\n",
       "    <tr>\n",
       "      <th>0</th>\n",
       "      <td>41</td>\n",
       "      <td>18.129999</td>\n",
       "    </tr>\n",
       "    <tr>\n",
       "      <th>1</th>\n",
       "      <td>53</td>\n",
       "      <td>14.300000</td>\n",
       "    </tr>\n",
       "    <tr>\n",
       "      <th>2</th>\n",
       "      <td>72</td>\n",
       "      <td>3.700000</td>\n",
       "    </tr>\n",
       "    <tr>\n",
       "      <th>3</th>\n",
       "      <td>73</td>\n",
       "      <td>21.320000</td>\n",
       "    </tr>\n",
       "    <tr>\n",
       "      <th>4</th>\n",
       "      <td>100</td>\n",
       "      <td>21.580000</td>\n",
       "    </tr>\n",
       "  </tbody>\n",
       "</table>\n",
       "</div>"
      ],
      "text/plain": [
       "   Producto_ID      price\n",
       "0           41  18.129999\n",
       "1           53  14.300000\n",
       "2           72   3.700000\n",
       "3           73  21.320000\n",
       "4          100  21.580000"
      ]
     },
     "execution_count": 31,
     "metadata": {},
     "output_type": "execute_result"
    }
   ],
   "source": [
    "# 수직으로 데이터 병합 및 그룹화하여 중앙값으로 대체\n",
    "sales_price = product_price.drop('Return_Price', axis=1).dropna().rename(columns={'Sales_Price': 'price'})\n",
    "return_price = product_price.drop('Sales_Price', axis=1).dropna().rename(columns={'Return_Price': 'price'})\n",
    "prices = pd.concat([sales_price, return_price])\n",
    "prices = prices.groupby('Producto_ID')['price'].median().reset_index()\n",
    "\n",
    "prices.head()"
   ]
  },
  {
   "cell_type": "code",
   "execution_count": 32,
   "metadata": {},
   "outputs": [
    {
     "name": "stdout",
     "output_type": "stream",
     "text": [
      "<class 'pandas.core.frame.DataFrame'>\n",
      "RangeIndex: 1799 entries, 0 to 1798\n",
      "Data columns (total 2 columns):\n",
      " #   Column       Non-Null Count  Dtype  \n",
      "---  ------       --------------  -----  \n",
      " 0   Producto_ID  1799 non-null   int64  \n",
      " 1   price        1799 non-null   float32\n",
      "dtypes: float32(1), int64(1)\n",
      "memory usage: 21.2 KB\n"
     ]
    }
   ],
   "source": [
    "prices.info()"
   ]
  },
  {
   "cell_type": "markdown",
   "metadata": {},
   "source": [
    "#### 1.3.2 Product 무게, 품목 코드\n",
    "\n",
    "Product 데이터 weight, pieces, code 컬럼을 추출하는 과정 중, 일부 데이터에서 띄어쓰기 이슈와 데이터 누락 이슈가 발생한 것으로 보입니다.\n",
    "\n",
    "weight의 경우 고려하지 못한 단위계가 존재하여 일부 추출이 제대로 되지 않았으며, 여러 단위가 혼합되어 있어 단위를 통일시켜 수치로 나타내는 것이 어려웠습니다.\n",
    "\n",
    "pieces의 경우 일부 데이터의 이슈 외에도 Null값이 상당히 많아, 이를 대체할 수 있는 방법을 찾지 못했습니다.\n",
    "\n",
    "code의 경우 null값은 적지만 Producto_ID의 규칙성에 반영되어 있을 것으로 보아, 인코딩의 필요성을 느끼지 못했습니다. "
   ]
  },
  {
   "cell_type": "markdown",
   "metadata": {},
   "source": [
    "### 1.4 데이터 병합 및 정리\n",
    "\n",
    "학습에 필요한 데이터를 병합하고, 불필요한 데이터를 제거합니다. train 데이터와 test 데이터가 같은 형태로 저장합니다."
   ]
  },
  {
   "cell_type": "code",
   "execution_count": 33,
   "metadata": {},
   "outputs": [
    {
     "data": {
      "text/html": [
       "<div>\n",
       "<style scoped>\n",
       "    .dataframe tbody tr th:only-of-type {\n",
       "        vertical-align: middle;\n",
       "    }\n",
       "\n",
       "    .dataframe tbody tr th {\n",
       "        vertical-align: top;\n",
       "    }\n",
       "\n",
       "    .dataframe thead th {\n",
       "        text-align: right;\n",
       "    }\n",
       "</style>\n",
       "<table border=\"1\" class=\"dataframe\">\n",
       "  <thead>\n",
       "    <tr style=\"text-align: right;\">\n",
       "      <th></th>\n",
       "      <th>Semana</th>\n",
       "      <th>Agencia_ID</th>\n",
       "      <th>Canal_ID</th>\n",
       "      <th>Ruta_SAK</th>\n",
       "      <th>Cliente_ID</th>\n",
       "      <th>Producto_ID</th>\n",
       "      <th>Demanda_uni_equil</th>\n",
       "      <th>Town_ID</th>\n",
       "      <th>price</th>\n",
       "    </tr>\n",
       "  </thead>\n",
       "  <tbody>\n",
       "    <tr>\n",
       "      <th>0</th>\n",
       "      <td>3</td>\n",
       "      <td>1110</td>\n",
       "      <td>7</td>\n",
       "      <td>3301</td>\n",
       "      <td>15766</td>\n",
       "      <td>1212</td>\n",
       "      <td>3</td>\n",
       "      <td>2008</td>\n",
       "      <td>8.38</td>\n",
       "    </tr>\n",
       "    <tr>\n",
       "      <th>1</th>\n",
       "      <td>3</td>\n",
       "      <td>1110</td>\n",
       "      <td>7</td>\n",
       "      <td>3301</td>\n",
       "      <td>15766</td>\n",
       "      <td>1216</td>\n",
       "      <td>4</td>\n",
       "      <td>2008</td>\n",
       "      <td>8.38</td>\n",
       "    </tr>\n",
       "    <tr>\n",
       "      <th>2</th>\n",
       "      <td>3</td>\n",
       "      <td>1110</td>\n",
       "      <td>7</td>\n",
       "      <td>3301</td>\n",
       "      <td>15766</td>\n",
       "      <td>1238</td>\n",
       "      <td>4</td>\n",
       "      <td>2008</td>\n",
       "      <td>9.83</td>\n",
       "    </tr>\n",
       "    <tr>\n",
       "      <th>3</th>\n",
       "      <td>3</td>\n",
       "      <td>1110</td>\n",
       "      <td>7</td>\n",
       "      <td>3301</td>\n",
       "      <td>15766</td>\n",
       "      <td>1240</td>\n",
       "      <td>4</td>\n",
       "      <td>2008</td>\n",
       "      <td>8.38</td>\n",
       "    </tr>\n",
       "    <tr>\n",
       "      <th>4</th>\n",
       "      <td>3</td>\n",
       "      <td>1110</td>\n",
       "      <td>7</td>\n",
       "      <td>3301</td>\n",
       "      <td>15766</td>\n",
       "      <td>1242</td>\n",
       "      <td>3</td>\n",
       "      <td>2008</td>\n",
       "      <td>7.64</td>\n",
       "    </tr>\n",
       "  </tbody>\n",
       "</table>\n",
       "</div>"
      ],
      "text/plain": [
       "   Semana  Agencia_ID  Canal_ID  Ruta_SAK  Cliente_ID  Producto_ID  \\\n",
       "0       3        1110         7      3301       15766         1212   \n",
       "1       3        1110         7      3301       15766         1216   \n",
       "2       3        1110         7      3301       15766         1238   \n",
       "3       3        1110         7      3301       15766         1240   \n",
       "4       3        1110         7      3301       15766         1242   \n",
       "\n",
       "   Demanda_uni_equil  Town_ID  price  \n",
       "0                  3     2008   8.38  \n",
       "1                  4     2008   8.38  \n",
       "2                  4     2008   9.83  \n",
       "3                  4     2008   8.38  \n",
       "4                  3     2008   7.64  "
      ]
     },
     "execution_count": 33,
     "metadata": {},
     "output_type": "execute_result"
    }
   ],
   "source": [
    "train = train.drop(['Venta_uni_hoy', 'Venta_hoy', 'Dev_uni_proxima', 'Dev_proxima'], axis=1)\n",
    "\n",
    "train = pd.merge(train, town[['Agencia_ID', 'Town_ID']], on='Agencia_ID', how='left')\n",
    "\n",
    "train = pd.merge(train, prices, on='Producto_ID', how='left')\n",
    "\n",
    "train.head()"
   ]
  },
  {
   "cell_type": "code",
   "execution_count": 34,
   "metadata": {},
   "outputs": [
    {
     "name": "stdout",
     "output_type": "stream",
     "text": [
      "<class 'pandas.core.frame.DataFrame'>\n",
      "Int64Index: 74180464 entries, 0 to 74180463\n",
      "Data columns (total 9 columns):\n",
      " #   Column             Dtype  \n",
      "---  ------             -----  \n",
      " 0   Semana             int8   \n",
      " 1   Agencia_ID         int16  \n",
      " 2   Canal_ID           int8   \n",
      " 3   Ruta_SAK           int16  \n",
      " 4   Cliente_ID         int32  \n",
      " 5   Producto_ID        int32  \n",
      " 6   Demanda_uni_equil  int16  \n",
      " 7   Town_ID            int16  \n",
      " 8   price              float32\n",
      "dtypes: float32(1), int16(4), int32(2), int8(2)\n",
      "memory usage: 2.1 GB\n"
     ]
    }
   ],
   "source": [
    "train.info()"
   ]
  },
  {
   "cell_type": "code",
   "execution_count": 35,
   "metadata": {},
   "outputs": [
    {
     "data": {
      "text/plain": [
       "Semana               0\n",
       "Agencia_ID           0\n",
       "Canal_ID             0\n",
       "Ruta_SAK             0\n",
       "Cliente_ID           0\n",
       "Producto_ID          0\n",
       "Demanda_uni_equil    0\n",
       "Town_ID              0\n",
       "price                0\n",
       "dtype: int64"
      ]
     },
     "execution_count": 35,
     "metadata": {},
     "output_type": "execute_result"
    }
   ],
   "source": [
    "# 결측치 확인\n",
    "train.isnull().sum()"
   ]
  },
  {
   "cell_type": "code",
   "execution_count": 36,
   "metadata": {},
   "outputs": [
    {
     "data": {
      "text/html": [
       "<div>\n",
       "<style scoped>\n",
       "    .dataframe tbody tr th:only-of-type {\n",
       "        vertical-align: middle;\n",
       "    }\n",
       "\n",
       "    .dataframe tbody tr th {\n",
       "        vertical-align: top;\n",
       "    }\n",
       "\n",
       "    .dataframe thead th {\n",
       "        text-align: right;\n",
       "    }\n",
       "</style>\n",
       "<table border=\"1\" class=\"dataframe\">\n",
       "  <thead>\n",
       "    <tr style=\"text-align: right;\">\n",
       "      <th></th>\n",
       "      <th>Semana</th>\n",
       "      <th>Agencia_ID</th>\n",
       "      <th>Canal_ID</th>\n",
       "      <th>Ruta_SAK</th>\n",
       "      <th>Cliente_ID</th>\n",
       "      <th>Producto_ID</th>\n",
       "      <th>Town_ID</th>\n",
       "      <th>price</th>\n",
       "    </tr>\n",
       "  </thead>\n",
       "  <tbody>\n",
       "    <tr>\n",
       "      <th>0</th>\n",
       "      <td>11</td>\n",
       "      <td>4037</td>\n",
       "      <td>1</td>\n",
       "      <td>2209</td>\n",
       "      <td>4639078</td>\n",
       "      <td>35305</td>\n",
       "      <td>2499</td>\n",
       "      <td>6.25</td>\n",
       "    </tr>\n",
       "    <tr>\n",
       "      <th>1</th>\n",
       "      <td>11</td>\n",
       "      <td>2237</td>\n",
       "      <td>1</td>\n",
       "      <td>1226</td>\n",
       "      <td>4705135</td>\n",
       "      <td>1238</td>\n",
       "      <td>2402</td>\n",
       "      <td>9.83</td>\n",
       "    </tr>\n",
       "    <tr>\n",
       "      <th>2</th>\n",
       "      <td>10</td>\n",
       "      <td>2045</td>\n",
       "      <td>1</td>\n",
       "      <td>2831</td>\n",
       "      <td>4549769</td>\n",
       "      <td>32940</td>\n",
       "      <td>2163</td>\n",
       "      <td>7.78</td>\n",
       "    </tr>\n",
       "    <tr>\n",
       "      <th>3</th>\n",
       "      <td>11</td>\n",
       "      <td>1227</td>\n",
       "      <td>1</td>\n",
       "      <td>4448</td>\n",
       "      <td>4717855</td>\n",
       "      <td>43066</td>\n",
       "      <td>2066</td>\n",
       "      <td>9.63</td>\n",
       "    </tr>\n",
       "    <tr>\n",
       "      <th>4</th>\n",
       "      <td>11</td>\n",
       "      <td>1219</td>\n",
       "      <td>1</td>\n",
       "      <td>1130</td>\n",
       "      <td>966351</td>\n",
       "      <td>1277</td>\n",
       "      <td>2042</td>\n",
       "      <td>8.10</td>\n",
       "    </tr>\n",
       "  </tbody>\n",
       "</table>\n",
       "</div>"
      ],
      "text/plain": [
       "   Semana  Agencia_ID  Canal_ID  Ruta_SAK  Cliente_ID  Producto_ID  Town_ID  \\\n",
       "0      11        4037         1      2209     4639078        35305     2499   \n",
       "1      11        2237         1      1226     4705135         1238     2402   \n",
       "2      10        2045         1      2831     4549769        32940     2163   \n",
       "3      11        1227         1      4448     4717855        43066     2066   \n",
       "4      11        1219         1      1130      966351         1277     2042   \n",
       "\n",
       "   price  \n",
       "0   6.25  \n",
       "1   9.83  \n",
       "2   7.78  \n",
       "3   9.63  \n",
       "4   8.10  "
      ]
     },
     "execution_count": 36,
     "metadata": {},
     "output_type": "execute_result"
    }
   ],
   "source": [
    "test = test.drop(['id'], axis=1)\n",
    "\n",
    "test = pd.merge(test, town[['Agencia_ID', 'Town_ID']], on='Agencia_ID', how='left')\n",
    "\n",
    "test = pd.merge(test, prices, on='Producto_ID', how='left')\n",
    "\n",
    "test.head()"
   ]
  },
  {
   "cell_type": "code",
   "execution_count": 37,
   "metadata": {},
   "outputs": [
    {
     "name": "stdout",
     "output_type": "stream",
     "text": [
      "<class 'pandas.core.frame.DataFrame'>\n",
      "Int64Index: 6999251 entries, 0 to 6999250\n",
      "Data columns (total 8 columns):\n",
      " #   Column       Dtype  \n",
      "---  ------       -----  \n",
      " 0   Semana       int8   \n",
      " 1   Agencia_ID   int16  \n",
      " 2   Canal_ID     int8   \n",
      " 3   Ruta_SAK     int16  \n",
      " 4   Cliente_ID   int32  \n",
      " 5   Producto_ID  int32  \n",
      " 6   Town_ID      int16  \n",
      " 7   price        float32\n",
      "dtypes: float32(1), int16(3), int32(2), int8(2)\n",
      "memory usage: 186.9 MB\n"
     ]
    }
   ],
   "source": [
    "test.info()"
   ]
  },
  {
   "cell_type": "code",
   "execution_count": 38,
   "metadata": {},
   "outputs": [
    {
     "data": {
      "text/plain": [
       "Semana             0\n",
       "Agencia_ID         0\n",
       "Canal_ID           0\n",
       "Ruta_SAK           0\n",
       "Cliente_ID         0\n",
       "Producto_ID        0\n",
       "Town_ID            0\n",
       "price          25640\n",
       "dtype: int64"
      ]
     },
     "execution_count": 38,
     "metadata": {},
     "output_type": "execute_result"
    }
   ],
   "source": [
    "# 결측치 확인\n",
    "test.isnull().sum()"
   ]
  },
  {
   "cell_type": "code",
   "execution_count": 39,
   "metadata": {},
   "outputs": [
    {
     "data": {
      "text/plain": [
       "180        37494\n",
       "603        37495\n",
       "1204       37495\n",
       "1295       37495\n",
       "1541       37495\n",
       "           ...  \n",
       "6997117    37202\n",
       "6997429    37495\n",
       "6997599    37495\n",
       "6997986    37495\n",
       "6999130    37495\n",
       "Name: Producto_ID, Length: 25640, dtype: int32"
      ]
     },
     "execution_count": 39,
     "metadata": {},
     "output_type": "execute_result"
    }
   ],
   "source": [
    "# 결측값을 가지는 Producto_ID가 train 데이터셋에 없는지 확인\n",
    "missing_price_ids = test[test['price'].isnull()]['Producto_ID']\n",
    "missing_price_ids_not_in_train = missing_price_ids[~missing_price_ids.isin(train['Producto_ID'])]\n",
    "\n",
    "missing_price_ids_not_in_train"
   ]
  },
  {
   "cell_type": "markdown",
   "metadata": {},
   "source": [
    "캐글 경진대회에서 제공하는 설명에 따르면, test 데이터에는 train 데이터에 없는 제품이 포함되어 있습니다. 따라서 해당 제품의 가격도 알 수 없습니다.\n",
    "\n",
    "이를 다루는 방식에 관해선 추후 모델링 과정에서 고려합니다."
   ]
  },
  {
   "cell_type": "markdown",
   "metadata": {},
   "source": [
    "## 2. 탐색적 데이터 분석(EDA)\n",
    "### 2.1 통계량 확인"
   ]
  },
  {
   "cell_type": "code",
   "execution_count": 40,
   "metadata": {},
   "outputs": [
    {
     "data": {
      "text/html": [
       "<div>\n",
       "<style scoped>\n",
       "    .dataframe tbody tr th:only-of-type {\n",
       "        vertical-align: middle;\n",
       "    }\n",
       "\n",
       "    .dataframe tbody tr th {\n",
       "        vertical-align: top;\n",
       "    }\n",
       "\n",
       "    .dataframe thead th {\n",
       "        text-align: right;\n",
       "    }\n",
       "</style>\n",
       "<table border=\"1\" class=\"dataframe\">\n",
       "  <thead>\n",
       "    <tr style=\"text-align: right;\">\n",
       "      <th></th>\n",
       "      <th>Semana</th>\n",
       "      <th>Agencia_ID</th>\n",
       "      <th>Canal_ID</th>\n",
       "      <th>Ruta_SAK</th>\n",
       "      <th>Cliente_ID</th>\n",
       "      <th>Producto_ID</th>\n",
       "      <th>Demanda_uni_equil</th>\n",
       "      <th>Town_ID</th>\n",
       "      <th>price</th>\n",
       "    </tr>\n",
       "  </thead>\n",
       "  <tbody>\n",
       "    <tr>\n",
       "      <th>count</th>\n",
       "      <td>7.418046e+07</td>\n",
       "      <td>7.418046e+07</td>\n",
       "      <td>7.418046e+07</td>\n",
       "      <td>7.418046e+07</td>\n",
       "      <td>7.418046e+07</td>\n",
       "      <td>7.418046e+07</td>\n",
       "      <td>7.418046e+07</td>\n",
       "      <td>7.418046e+07</td>\n",
       "      <td>7.418046e+07</td>\n",
       "    </tr>\n",
       "    <tr>\n",
       "      <th>mean</th>\n",
       "      <td>5.950021e+00</td>\n",
       "      <td>2.536509e+03</td>\n",
       "      <td>1.383181e+00</td>\n",
       "      <td>2.114855e+03</td>\n",
       "      <td>1.802119e+06</td>\n",
       "      <td>2.084081e+04</td>\n",
       "      <td>7.224564e+00</td>\n",
       "      <td>2.256114e+03</td>\n",
       "      <td>7.202690e+00</td>\n",
       "    </tr>\n",
       "    <tr>\n",
       "      <th>std</th>\n",
       "      <td>2.013175e+00</td>\n",
       "      <td>4.075124e+03</td>\n",
       "      <td>1.463266e+00</td>\n",
       "      <td>1.487744e+03</td>\n",
       "      <td>2.349577e+06</td>\n",
       "      <td>1.866392e+04</td>\n",
       "      <td>2.177119e+01</td>\n",
       "      <td>1.755542e+02</td>\n",
       "      <td>6.606032e+00</td>\n",
       "    </tr>\n",
       "    <tr>\n",
       "      <th>min</th>\n",
       "      <td>3.000000e+00</td>\n",
       "      <td>1.110000e+03</td>\n",
       "      <td>1.000000e+00</td>\n",
       "      <td>1.000000e+00</td>\n",
       "      <td>2.600000e+01</td>\n",
       "      <td>4.100000e+01</td>\n",
       "      <td>0.000000e+00</td>\n",
       "      <td>2.001000e+03</td>\n",
       "      <td>1.000000e-02</td>\n",
       "    </tr>\n",
       "    <tr>\n",
       "      <th>25%</th>\n",
       "      <td>4.000000e+00</td>\n",
       "      <td>1.312000e+03</td>\n",
       "      <td>1.000000e+00</td>\n",
       "      <td>1.161000e+03</td>\n",
       "      <td>3.567670e+05</td>\n",
       "      <td>1.242000e+03</td>\n",
       "      <td>2.000000e+00</td>\n",
       "      <td>2.070000e+03</td>\n",
       "      <td>6.760000e+00</td>\n",
       "    </tr>\n",
       "    <tr>\n",
       "      <th>50%</th>\n",
       "      <td>6.000000e+00</td>\n",
       "      <td>1.613000e+03</td>\n",
       "      <td>1.000000e+00</td>\n",
       "      <td>1.286000e+03</td>\n",
       "      <td>1.193385e+06</td>\n",
       "      <td>3.054900e+04</td>\n",
       "      <td>3.000000e+00</td>\n",
       "      <td>2.271000e+03</td>\n",
       "      <td>8.380000e+00</td>\n",
       "    </tr>\n",
       "    <tr>\n",
       "      <th>75%</th>\n",
       "      <td>8.000000e+00</td>\n",
       "      <td>2.036000e+03</td>\n",
       "      <td>1.000000e+00</td>\n",
       "      <td>2.802000e+03</td>\n",
       "      <td>2.371091e+06</td>\n",
       "      <td>3.742600e+04</td>\n",
       "      <td>6.000000e+00</td>\n",
       "      <td>2.386000e+03</td>\n",
       "      <td>1.259000e+01</td>\n",
       "    </tr>\n",
       "    <tr>\n",
       "      <th>max</th>\n",
       "      <td>9.000000e+00</td>\n",
       "      <td>2.575900e+04</td>\n",
       "      <td>1.100000e+01</td>\n",
       "      <td>9.991000e+03</td>\n",
       "      <td>2.015152e+09</td>\n",
       "      <td>4.999700e+04</td>\n",
       "      <td>5.000000e+03</td>\n",
       "      <td>3.216000e+03</td>\n",
       "      <td>6.412330e+03</td>\n",
       "    </tr>\n",
       "  </tbody>\n",
       "</table>\n",
       "</div>"
      ],
      "text/plain": [
       "             Semana    Agencia_ID      Canal_ID      Ruta_SAK    Cliente_ID  \\\n",
       "count  7.418046e+07  7.418046e+07  7.418046e+07  7.418046e+07  7.418046e+07   \n",
       "mean   5.950021e+00  2.536509e+03  1.383181e+00  2.114855e+03  1.802119e+06   \n",
       "std    2.013175e+00  4.075124e+03  1.463266e+00  1.487744e+03  2.349577e+06   \n",
       "min    3.000000e+00  1.110000e+03  1.000000e+00  1.000000e+00  2.600000e+01   \n",
       "25%    4.000000e+00  1.312000e+03  1.000000e+00  1.161000e+03  3.567670e+05   \n",
       "50%    6.000000e+00  1.613000e+03  1.000000e+00  1.286000e+03  1.193385e+06   \n",
       "75%    8.000000e+00  2.036000e+03  1.000000e+00  2.802000e+03  2.371091e+06   \n",
       "max    9.000000e+00  2.575900e+04  1.100000e+01  9.991000e+03  2.015152e+09   \n",
       "\n",
       "        Producto_ID  Demanda_uni_equil       Town_ID         price  \n",
       "count  7.418046e+07       7.418046e+07  7.418046e+07  7.418046e+07  \n",
       "mean   2.084081e+04       7.224564e+00  2.256114e+03  7.202690e+00  \n",
       "std    1.866392e+04       2.177119e+01  1.755542e+02  6.606032e+00  \n",
       "min    4.100000e+01       0.000000e+00  2.001000e+03  1.000000e-02  \n",
       "25%    1.242000e+03       2.000000e+00  2.070000e+03  6.760000e+00  \n",
       "50%    3.054900e+04       3.000000e+00  2.271000e+03  8.380000e+00  \n",
       "75%    3.742600e+04       6.000000e+00  2.386000e+03  1.259000e+01  \n",
       "max    4.999700e+04       5.000000e+03  3.216000e+03  6.412330e+03  "
      ]
     },
     "execution_count": 40,
     "metadata": {},
     "output_type": "execute_result"
    }
   ],
   "source": [
    "train.describe()"
   ]
  },
  {
   "cell_type": "markdown",
   "metadata": {},
   "source": [
    "### 2.2 이상치 확인"
   ]
  },
  {
   "cell_type": "code",
   "execution_count": 41,
   "metadata": {},
   "outputs": [
    {
     "data": {
      "image/png": "[encoded data removed]",
      "text/plain": [
       "<Figure size 1000x600 with 2 Axes>"
      ]
     },
     "metadata": {},
     "output_type": "display_data"
    }
   ],
   "source": [
    "import seaborn as sns\n",
    "import matplotlib.pyplot as plt\n",
    "\n",
    "# 이상치 확인을 위한 박스플롯 생성\n",
    "plt.figure(figsize=(10, 6))\n",
    "plt.subplot(1, 2, 1)\n",
    "sns.boxplot(data=train, y='Demanda_uni_equil')\n",
    "plt.title('Box Plot - Demanda_uni_equil')\n",
    "\n",
    "plt.subplot(1, 2, 2)\n",
    "sns.boxplot(data=train, y='price')\n",
    "plt.title('Box Plot - price')\n",
    "\n",
    "plt.tight_layout()\n",
    "plt.show()"
   ]
  },
  {
   "cell_type": "code",
   "execution_count": 42,
   "metadata": {},
   "outputs": [
    {
     "data": {
      "text/html": [
       "<div>\n",
       "<style scoped>\n",
       "    .dataframe tbody tr th:only-of-type {\n",
       "        vertical-align: middle;\n",
       "    }\n",
       "\n",
       "    .dataframe tbody tr th {\n",
       "        vertical-align: top;\n",
       "    }\n",
       "\n",
       "    .dataframe thead th {\n",
       "        text-align: right;\n",
       "    }\n",
       "</style>\n",
       "<table border=\"1\" class=\"dataframe\">\n",
       "  <thead>\n",
       "    <tr style=\"text-align: right;\">\n",
       "      <th></th>\n",
       "      <th>Semana</th>\n",
       "      <th>Agencia_ID</th>\n",
       "      <th>Canal_ID</th>\n",
       "      <th>Ruta_SAK</th>\n",
       "      <th>Cliente_ID</th>\n",
       "      <th>Producto_ID</th>\n",
       "      <th>Demanda_uni_equil</th>\n",
       "      <th>Town_ID</th>\n",
       "      <th>price</th>\n",
       "    </tr>\n",
       "  </thead>\n",
       "  <tbody>\n",
       "    <tr>\n",
       "      <th>23441335</th>\n",
       "      <td>5</td>\n",
       "      <td>1167</td>\n",
       "      <td>2</td>\n",
       "      <td>7940</td>\n",
       "      <td>123514</td>\n",
       "      <td>36714</td>\n",
       "      <td>1</td>\n",
       "      <td>2116</td>\n",
       "      <td>6412.330078</td>\n",
       "    </tr>\n",
       "    <tr>\n",
       "      <th>23441419</th>\n",
       "      <td>5</td>\n",
       "      <td>1167</td>\n",
       "      <td>2</td>\n",
       "      <td>9014</td>\n",
       "      <td>19353</td>\n",
       "      <td>36714</td>\n",
       "      <td>1</td>\n",
       "      <td>2116</td>\n",
       "      <td>6412.330078</td>\n",
       "    </tr>\n",
       "    <tr>\n",
       "      <th>25897233</th>\n",
       "      <td>5</td>\n",
       "      <td>1379</td>\n",
       "      <td>2</td>\n",
       "      <td>9123</td>\n",
       "      <td>19635</td>\n",
       "      <td>36714</td>\n",
       "      <td>1</td>\n",
       "      <td>2330</td>\n",
       "      <td>6412.330078</td>\n",
       "    </tr>\n",
       "    <tr>\n",
       "      <th>26891938</th>\n",
       "      <td>5</td>\n",
       "      <td>1524</td>\n",
       "      <td>2</td>\n",
       "      <td>6149</td>\n",
       "      <td>1934733</td>\n",
       "      <td>36714</td>\n",
       "      <td>10</td>\n",
       "      <td>2152</td>\n",
       "      <td>6412.330078</td>\n",
       "    </tr>\n",
       "    <tr>\n",
       "      <th>31625797</th>\n",
       "      <td>5</td>\n",
       "      <td>2655</td>\n",
       "      <td>2</td>\n",
       "      <td>4114</td>\n",
       "      <td>1064922</td>\n",
       "      <td>36714</td>\n",
       "      <td>1</td>\n",
       "      <td>2655</td>\n",
       "      <td>6412.330078</td>\n",
       "    </tr>\n",
       "    <tr>\n",
       "      <th>33996656</th>\n",
       "      <td>6</td>\n",
       "      <td>1167</td>\n",
       "      <td>2</td>\n",
       "      <td>7940</td>\n",
       "      <td>123514</td>\n",
       "      <td>36714</td>\n",
       "      <td>1</td>\n",
       "      <td>2116</td>\n",
       "      <td>6412.330078</td>\n",
       "    </tr>\n",
       "  </tbody>\n",
       "</table>\n",
       "</div>"
      ],
      "text/plain": [
       "          Semana  Agencia_ID  Canal_ID  Ruta_SAK  Cliente_ID  Producto_ID  \\\n",
       "23441335       5        1167         2      7940      123514        36714   \n",
       "23441419       5        1167         2      9014       19353        36714   \n",
       "25897233       5        1379         2      9123       19635        36714   \n",
       "26891938       5        1524         2      6149     1934733        36714   \n",
       "31625797       5        2655         2      4114     1064922        36714   \n",
       "33996656       6        1167         2      7940      123514        36714   \n",
       "\n",
       "          Demanda_uni_equil  Town_ID        price  \n",
       "23441335                  1     2116  6412.330078  \n",
       "23441419                  1     2116  6412.330078  \n",
       "25897233                  1     2330  6412.330078  \n",
       "26891938                 10     2152  6412.330078  \n",
       "31625797                  1     2655  6412.330078  \n",
       "33996656                  1     2116  6412.330078  "
      ]
     },
     "execution_count": 42,
     "metadata": {},
     "output_type": "execute_result"
    }
   ],
   "source": [
    "outliers_price = train[train['price'] > 6000]\n",
    "outliers_price"
   ]
  },
  {
   "cell_type": "code",
   "execution_count": 43,
   "metadata": {},
   "outputs": [
    {
     "data": {
      "text/html": [
       "<div>\n",
       "<style scoped>\n",
       "    .dataframe tbody tr th:only-of-type {\n",
       "        vertical-align: middle;\n",
       "    }\n",
       "\n",
       "    .dataframe tbody tr th {\n",
       "        vertical-align: top;\n",
       "    }\n",
       "\n",
       "    .dataframe thead th {\n",
       "        text-align: right;\n",
       "    }\n",
       "</style>\n",
       "<table border=\"1\" class=\"dataframe\">\n",
       "  <thead>\n",
       "    <tr style=\"text-align: right;\">\n",
       "      <th></th>\n",
       "      <th>Producto_ID</th>\n",
       "      <th>NombreProducto</th>\n",
       "      <th>Name</th>\n",
       "      <th>Weight</th>\n",
       "      <th>Pieces</th>\n",
       "      <th>Code</th>\n",
       "    </tr>\n",
       "  </thead>\n",
       "  <tbody>\n",
       "    <tr>\n",
       "      <th>1692</th>\n",
       "      <td>36714</td>\n",
       "      <td>Pallet Canelitas Media KC 360g MLA 36714</td>\n",
       "      <td>Pallet Canelitas Media KC</td>\n",
       "      <td>360g</td>\n",
       "      <td>NaN</td>\n",
       "      <td>MLA</td>\n",
       "    </tr>\n",
       "  </tbody>\n",
       "</table>\n",
       "</div>"
      ],
      "text/plain": [
       "      Producto_ID                            NombreProducto  \\\n",
       "1692        36714  Pallet Canelitas Media KC 360g MLA 36714   \n",
       "\n",
       "                           Name Weight Pieces Code  \n",
       "1692  Pallet Canelitas Media KC   360g    NaN  MLA  "
      ]
     },
     "execution_count": 43,
     "metadata": {},
     "output_type": "execute_result"
    }
   ],
   "source": [
    "product[product['Producto_ID'] == 36714]"
   ]
  },
  {
   "cell_type": "code",
   "execution_count": 44,
   "metadata": {},
   "outputs": [
    {
     "name": "stdout",
     "output_type": "stream",
     "text": [
      "      Producto_ID                                  NombreProducto  \\\n",
      "1296        35226              Pallet Canelitas KC 720g MLA 35226   \n",
      "1486        35987  Pallet Lta SnValentin Beso Nuez 420g GBI 35987   \n",
      "1692        36714        Pallet Canelitas Media KC 360g MLA 36714   \n",
      "1776        36983  Medio Pallet Lata Kitty Navidad 300g GBI 36983   \n",
      "1797        37017        Medio Pallet Surtido Fino 200g GBI 37017   \n",
      "1850        37329            Pallet Principe KC 392g CU MLA 37329   \n",
      "\n",
      "                                 Name Weight Pieces    Code  \n",
      "1296              Pallet Canelitas KC   720g    NaN     MLA  \n",
      "1486  Pallet Lta SnValentin Beso Nuez   420g    NaN     GBI  \n",
      "1692        Pallet Canelitas Media KC   360g    NaN     MLA  \n",
      "1776  Medio Pallet Lata Kitty Navidad   300g    NaN     GBI  \n",
      "1797        Medio Pallet Surtido Fino   200g    NaN     GBI  \n",
      "1850               Pallet Principe KC   392g    NaN  CU MLA  \n"
     ]
    }
   ],
   "source": [
    "product_pallet = product[product['Name'].str.contains('Pallet', na=False)]\n",
    "print(product_pallet)"
   ]
  },
  {
   "cell_type": "code",
   "execution_count": 45,
   "metadata": {},
   "outputs": [
    {
     "data": {
      "text/html": [
       "<div>\n",
       "<style scoped>\n",
       "    .dataframe tbody tr th:only-of-type {\n",
       "        vertical-align: middle;\n",
       "    }\n",
       "\n",
       "    .dataframe tbody tr th {\n",
       "        vertical-align: top;\n",
       "    }\n",
       "\n",
       "    .dataframe thead th {\n",
       "        text-align: right;\n",
       "    }\n",
       "</style>\n",
       "<table border=\"1\" class=\"dataframe\">\n",
       "  <thead>\n",
       "    <tr style=\"text-align: right;\">\n",
       "      <th></th>\n",
       "      <th>Semana</th>\n",
       "      <th>Agencia_ID</th>\n",
       "      <th>Canal_ID</th>\n",
       "      <th>Ruta_SAK</th>\n",
       "      <th>Cliente_ID</th>\n",
       "      <th>Producto_ID</th>\n",
       "      <th>Demanda_uni_equil</th>\n",
       "      <th>Town_ID</th>\n",
       "      <th>price</th>\n",
       "    </tr>\n",
       "  </thead>\n",
       "  <tbody>\n",
       "    <tr>\n",
       "      <th>17620712</th>\n",
       "      <td>4</td>\n",
       "      <td>1694</td>\n",
       "      <td>2</td>\n",
       "      <td>9146</td>\n",
       "      <td>26196</td>\n",
       "      <td>35987</td>\n",
       "      <td>288</td>\n",
       "      <td>2169</td>\n",
       "      <td>42.000000</td>\n",
       "    </tr>\n",
       "    <tr>\n",
       "      <th>23441335</th>\n",
       "      <td>5</td>\n",
       "      <td>1167</td>\n",
       "      <td>2</td>\n",
       "      <td>7940</td>\n",
       "      <td>123514</td>\n",
       "      <td>36714</td>\n",
       "      <td>1</td>\n",
       "      <td>2116</td>\n",
       "      <td>6412.330078</td>\n",
       "    </tr>\n",
       "    <tr>\n",
       "      <th>23441419</th>\n",
       "      <td>5</td>\n",
       "      <td>1167</td>\n",
       "      <td>2</td>\n",
       "      <td>9014</td>\n",
       "      <td>19353</td>\n",
       "      <td>36714</td>\n",
       "      <td>1</td>\n",
       "      <td>2116</td>\n",
       "      <td>6412.330078</td>\n",
       "    </tr>\n",
       "    <tr>\n",
       "      <th>25897233</th>\n",
       "      <td>5</td>\n",
       "      <td>1379</td>\n",
       "      <td>2</td>\n",
       "      <td>9123</td>\n",
       "      <td>19635</td>\n",
       "      <td>36714</td>\n",
       "      <td>1</td>\n",
       "      <td>2330</td>\n",
       "      <td>6412.330078</td>\n",
       "    </tr>\n",
       "    <tr>\n",
       "      <th>26891938</th>\n",
       "      <td>5</td>\n",
       "      <td>1524</td>\n",
       "      <td>2</td>\n",
       "      <td>6149</td>\n",
       "      <td>1934733</td>\n",
       "      <td>36714</td>\n",
       "      <td>10</td>\n",
       "      <td>2152</td>\n",
       "      <td>6412.330078</td>\n",
       "    </tr>\n",
       "    <tr>\n",
       "      <th>31625797</th>\n",
       "      <td>5</td>\n",
       "      <td>2655</td>\n",
       "      <td>2</td>\n",
       "      <td>4114</td>\n",
       "      <td>1064922</td>\n",
       "      <td>36714</td>\n",
       "      <td>1</td>\n",
       "      <td>2655</td>\n",
       "      <td>6412.330078</td>\n",
       "    </tr>\n",
       "    <tr>\n",
       "      <th>33996656</th>\n",
       "      <td>6</td>\n",
       "      <td>1167</td>\n",
       "      <td>2</td>\n",
       "      <td>7940</td>\n",
       "      <td>123514</td>\n",
       "      <td>36714</td>\n",
       "      <td>1</td>\n",
       "      <td>2116</td>\n",
       "      <td>6412.330078</td>\n",
       "    </tr>\n",
       "  </tbody>\n",
       "</table>\n",
       "</div>"
      ],
      "text/plain": [
       "          Semana  Agencia_ID  Canal_ID  Ruta_SAK  Cliente_ID  Producto_ID  \\\n",
       "17620712       4        1694         2      9146       26196        35987   \n",
       "23441335       5        1167         2      7940      123514        36714   \n",
       "23441419       5        1167         2      9014       19353        36714   \n",
       "25897233       5        1379         2      9123       19635        36714   \n",
       "26891938       5        1524         2      6149     1934733        36714   \n",
       "31625797       5        2655         2      4114     1064922        36714   \n",
       "33996656       6        1167         2      7940      123514        36714   \n",
       "\n",
       "          Demanda_uni_equil  Town_ID        price  \n",
       "17620712                288     2169    42.000000  \n",
       "23441335                  1     2116  6412.330078  \n",
       "23441419                  1     2116  6412.330078  \n",
       "25897233                  1     2330  6412.330078  \n",
       "26891938                 10     2152  6412.330078  \n",
       "31625797                  1     2655  6412.330078  \n",
       "33996656                  1     2116  6412.330078  "
      ]
     },
     "execution_count": 45,
     "metadata": {},
     "output_type": "execute_result"
    }
   ],
   "source": [
    "train[train['Producto_ID'].isin([35226, 35987, 36714, 36983, 37017, 37329])]"
   ]
  },
  {
   "cell_type": "markdown",
   "metadata": {},
   "source": [
    "#### 2.2.1 이상치 결론\n",
    "\n",
    "Semana 컬럼은 순서형 데이터이고 숫자 사이의 순서를 학습할 수 있으므로 그대로 사용합니다.\n",
    "\n",
    "그 외 식별하기 위해 만들어진 ID 컬럼과 Ruta_SAK 컬럼은 범주형 데이터이지만 인코딩되어 있습니다. 추가적인 스케일링은 수행하지 않습니다.\n",
    "\n",
    "price컬럼과 Demanda_uni_equil 컬럼은 박스플롯을 통해 이상치를 확인한 결과, 이상치가 다수 존재합니다. \n",
    "\n",
    "**1. Demanda_uni_equil 컬럼의 이상치**\n",
    "- 이상치들이 연속적으로 존재하며, 특정 기준으로 이상치를 제거하기에는 어렵습니다. \n",
    "- 이상치를 제거할 경우 데이터의 손실이 크기 때문에 이상치를 포함하여 모델링을 진행합니다.\n",
    "- 만약 이상치의 영향이 클 경우, 스케일링을 통해 이상치에 덜 민감하도록 추후 조정할 수 있습니다.\n",
    "\n",
    "**2. price 컬럼의 이상치**\n",
    "- 크게 동떨어진 이상치가 발견되었습니다. 이들 데이터만 조회하여 검토한 결과, 이들 데이터는 모두 같은 제품(Producto_ID: 36714)에 대한 데이터입니다.\n",
    "- product 테이블에서 해당 제품의 이름을 조회하고, pallet라는 단어 상 가격이 높을 수 있다고 가정하였습니다.\n",
    "- 하지만, pallet이라는 단어가 포함된 다른 제품의 가격을 조회한 결과, 다른 제품(Producto_ID: 35987)의 가격과 큰 차이를 보여 이상치로 판단하였습니다. 따라서 해당 Producto_ID 데이터를 제거합니다.\n",
    "- 다른 이상치들에 대해선 마찬가지로 포함하여 모델링을 진행하고, 필요하다면 이후에 스케일링을 통해 조정합니다."
   ]
  },
  {
   "cell_type": "code",
   "execution_count": 46,
   "metadata": {},
   "outputs": [],
   "source": [
    "train = train[train['Producto_ID'] != 36714]"
   ]
  },
  {
   "cell_type": "markdown",
   "metadata": {},
   "source": [
    "### 2.3 변수 간 상관관계 확인"
   ]
  },
  {
   "cell_type": "code",
   "execution_count": 47,
   "metadata": {},
   "outputs": [
    {
     "data": {
      "image/png": "[encoded data removed]",
      "text/plain": [
       "<Figure size 1000x800 with 2 Axes>"
      ]
     },
     "metadata": {},
     "output_type": "display_data"
    }
   ],
   "source": [
    "# 상관관계 행렬 계산\n",
    "corr_matrix = train.corr()\n",
    "\n",
    "# 상관관계 히트맵 시각화\n",
    "plt.figure(figsize=(10, 8))\n",
    "sns.heatmap(corr_matrix, annot=True, cmap='coolwarm', linewidths=0.5)\n",
    "plt.title('Correlation Heatmap')\n",
    "plt.show()"
   ]
  },
  {
   "cell_type": "markdown",
   "metadata": {},
   "source": [
    "### 2.4 price컬럼의 분포 확인\n",
    "test 데이터의 price 컬럼의 결측치를 채우기 위해, train 데이터의 price 컬럼의 분포를 확인합니다."
   ]
  },
  {
   "cell_type": "code",
   "execution_count": 48,
   "metadata": {},
   "outputs": [
    {
     "data": {
      "text/html": [
       "<div>\n",
       "<style scoped>\n",
       "    .dataframe tbody tr th:only-of-type {\n",
       "        vertical-align: middle;\n",
       "    }\n",
       "\n",
       "    .dataframe tbody tr th {\n",
       "        vertical-align: top;\n",
       "    }\n",
       "\n",
       "    .dataframe thead th {\n",
       "        text-align: right;\n",
       "    }\n",
       "</style>\n",
       "<table border=\"1\" class=\"dataframe\">\n",
       "  <thead>\n",
       "    <tr style=\"text-align: right;\">\n",
       "      <th></th>\n",
       "      <th>Semana</th>\n",
       "      <th>Agencia_ID</th>\n",
       "      <th>Canal_ID</th>\n",
       "      <th>Ruta_SAK</th>\n",
       "      <th>Cliente_ID</th>\n",
       "      <th>Producto_ID</th>\n",
       "      <th>Demanda_uni_equil</th>\n",
       "      <th>Town_ID</th>\n",
       "      <th>price</th>\n",
       "    </tr>\n",
       "  </thead>\n",
       "  <tbody>\n",
       "  </tbody>\n",
       "</table>\n",
       "</div>"
      ],
      "text/plain": [
       "Empty DataFrame\n",
       "Columns: [Semana, Agencia_ID, Canal_ID, Ruta_SAK, Cliente_ID, Producto_ID, Demanda_uni_equil, Town_ID, price]\n",
       "Index: []"
      ]
     },
     "execution_count": 48,
     "metadata": {},
     "output_type": "execute_result"
    }
   ],
   "source": [
    "train_price_below_zero = train[train['price'] <= 0]\n",
    "train_price_below_zero"
   ]
  },
  {
   "cell_type": "markdown",
   "metadata": {},
   "source": [
    "로그 변환에 앞서 0이하인 데이터가 존재하는지 확인한 결과, 0이하인 데이터가 존재하지 않았습니다."
   ]
  },
  {
   "cell_type": "code",
   "execution_count": 49,
   "metadata": {},
   "outputs": [
    {
     "data": {
      "image/png": "[encoded data removed]",
      "text/plain": [
       "<Figure size 640x480 with 1 Axes>"
      ]
     },
     "metadata": {},
     "output_type": "display_data"
    }
   ],
   "source": [
    "# price 분포 확인\n",
    "plt.hist(np.log(train['price']), bins=20)\n",
    "plt.xlabel('Log(Price)')\n",
    "plt.ylabel('Frequency')\n",
    "plt.title('Distribution of Log(Price)')\n",
    "plt.xticks(np.arange(0, np.log(train['price']).max()+1, 1))\n",
    "plt.show()"
   ]
  },
  {
   "cell_type": "code",
   "execution_count": 50,
   "metadata": {},
   "outputs": [
    {
     "name": "stdout",
     "output_type": "stream",
     "text": [
      "Skewness of Price:  7.1431365\n",
      "Skewness of Log:  -0.40851858\n"
     ]
    }
   ],
   "source": [
    "# 왜도 계산\n",
    "print('Skewness of Price: ', train['price'].skew())\n",
    "print('Skewness of Log: ', np.log(train['price']).skew())"
   ]
  },
  {
   "cell_type": "markdown",
   "metadata": {},
   "source": [
    "로그 변환 전의 분포를 확인한 결과, 왼쪽으로 치우친 형태를 띄고 있습니다.\n",
    "\n",
    "로그 변환 후의 분포를 확인한 결과, 큰 치우침 없이 대칭에 가까운 형태를 띄고 있습니다. \n",
    "\n",
    "이를 통해 price 컬럼에 로그 변환을 적용하고, test 데이터의 결측치를 채웁니다. 이 때, 결측치는 평균값으로 채웁니다."
   ]
  },
  {
   "cell_type": "code",
   "execution_count": 51,
   "metadata": {},
   "outputs": [
    {
     "data": {
      "text/html": [
       "<div>\n",
       "<style scoped>\n",
       "    .dataframe tbody tr th:only-of-type {\n",
       "        vertical-align: middle;\n",
       "    }\n",
       "\n",
       "    .dataframe tbody tr th {\n",
       "        vertical-align: top;\n",
       "    }\n",
       "\n",
       "    .dataframe thead th {\n",
       "        text-align: right;\n",
       "    }\n",
       "</style>\n",
       "<table border=\"1\" class=\"dataframe\">\n",
       "  <thead>\n",
       "    <tr style=\"text-align: right;\">\n",
       "      <th></th>\n",
       "      <th>Semana</th>\n",
       "      <th>Agencia_ID</th>\n",
       "      <th>Canal_ID</th>\n",
       "      <th>Ruta_SAK</th>\n",
       "      <th>Cliente_ID</th>\n",
       "      <th>Producto_ID</th>\n",
       "      <th>Demanda_uni_equil</th>\n",
       "      <th>Town_ID</th>\n",
       "      <th>price</th>\n",
       "    </tr>\n",
       "  </thead>\n",
       "  <tbody>\n",
       "    <tr>\n",
       "      <th>0</th>\n",
       "      <td>3</td>\n",
       "      <td>1110</td>\n",
       "      <td>7</td>\n",
       "      <td>3301</td>\n",
       "      <td>15766</td>\n",
       "      <td>1212</td>\n",
       "      <td>3</td>\n",
       "      <td>2008</td>\n",
       "      <td>2.125848</td>\n",
       "    </tr>\n",
       "    <tr>\n",
       "      <th>1</th>\n",
       "      <td>3</td>\n",
       "      <td>1110</td>\n",
       "      <td>7</td>\n",
       "      <td>3301</td>\n",
       "      <td>15766</td>\n",
       "      <td>1216</td>\n",
       "      <td>4</td>\n",
       "      <td>2008</td>\n",
       "      <td>2.125848</td>\n",
       "    </tr>\n",
       "    <tr>\n",
       "      <th>2</th>\n",
       "      <td>3</td>\n",
       "      <td>1110</td>\n",
       "      <td>7</td>\n",
       "      <td>3301</td>\n",
       "      <td>15766</td>\n",
       "      <td>1238</td>\n",
       "      <td>4</td>\n",
       "      <td>2008</td>\n",
       "      <td>2.285439</td>\n",
       "    </tr>\n",
       "    <tr>\n",
       "      <th>3</th>\n",
       "      <td>3</td>\n",
       "      <td>1110</td>\n",
       "      <td>7</td>\n",
       "      <td>3301</td>\n",
       "      <td>15766</td>\n",
       "      <td>1240</td>\n",
       "      <td>4</td>\n",
       "      <td>2008</td>\n",
       "      <td>2.125848</td>\n",
       "    </tr>\n",
       "    <tr>\n",
       "      <th>4</th>\n",
       "      <td>3</td>\n",
       "      <td>1110</td>\n",
       "      <td>7</td>\n",
       "      <td>3301</td>\n",
       "      <td>15766</td>\n",
       "      <td>1242</td>\n",
       "      <td>3</td>\n",
       "      <td>2008</td>\n",
       "      <td>2.033398</td>\n",
       "    </tr>\n",
       "  </tbody>\n",
       "</table>\n",
       "</div>"
      ],
      "text/plain": [
       "   Semana  Agencia_ID  Canal_ID  Ruta_SAK  Cliente_ID  Producto_ID  \\\n",
       "0       3        1110         7      3301       15766         1212   \n",
       "1       3        1110         7      3301       15766         1216   \n",
       "2       3        1110         7      3301       15766         1238   \n",
       "3       3        1110         7      3301       15766         1240   \n",
       "4       3        1110         7      3301       15766         1242   \n",
       "\n",
       "   Demanda_uni_equil  Town_ID     price  \n",
       "0                  3     2008  2.125848  \n",
       "1                  4     2008  2.125848  \n",
       "2                  4     2008  2.285439  \n",
       "3                  4     2008  2.125848  \n",
       "4                  3     2008  2.033398  "
      ]
     },
     "execution_count": 51,
     "metadata": {},
     "output_type": "execute_result"
    }
   ],
   "source": [
    "# train 데이터셋의 price 열을 로그 변환\n",
    "train.loc[:, 'price'] = np.log(train['price'])\n",
    "\n",
    "train.head()"
   ]
  },
  {
   "cell_type": "code",
   "execution_count": 52,
   "metadata": {},
   "outputs": [
    {
     "data": {
      "text/html": [
       "<div>\n",
       "<style scoped>\n",
       "    .dataframe tbody tr th:only-of-type {\n",
       "        vertical-align: middle;\n",
       "    }\n",
       "\n",
       "    .dataframe tbody tr th {\n",
       "        vertical-align: top;\n",
       "    }\n",
       "\n",
       "    .dataframe thead th {\n",
       "        text-align: right;\n",
       "    }\n",
       "</style>\n",
       "<table border=\"1\" class=\"dataframe\">\n",
       "  <thead>\n",
       "    <tr style=\"text-align: right;\">\n",
       "      <th></th>\n",
       "      <th>Semana</th>\n",
       "      <th>Agencia_ID</th>\n",
       "      <th>Canal_ID</th>\n",
       "      <th>Ruta_SAK</th>\n",
       "      <th>Cliente_ID</th>\n",
       "      <th>Producto_ID</th>\n",
       "      <th>Town_ID</th>\n",
       "      <th>price</th>\n",
       "    </tr>\n",
       "  </thead>\n",
       "  <tbody>\n",
       "  </tbody>\n",
       "</table>\n",
       "</div>"
      ],
      "text/plain": [
       "Empty DataFrame\n",
       "Columns: [Semana, Agencia_ID, Canal_ID, Ruta_SAK, Cliente_ID, Producto_ID, Town_ID, price]\n",
       "Index: []"
      ]
     },
     "execution_count": 52,
     "metadata": {},
     "output_type": "execute_result"
    }
   ],
   "source": [
    "test_price_below_zero = test[test['price'] <= 0]\n",
    "test_price_below_zero"
   ]
  },
  {
   "cell_type": "code",
   "execution_count": 53,
   "metadata": {},
   "outputs": [
    {
     "data": {
      "text/html": [
       "<div>\n",
       "<style scoped>\n",
       "    .dataframe tbody tr th:only-of-type {\n",
       "        vertical-align: middle;\n",
       "    }\n",
       "\n",
       "    .dataframe tbody tr th {\n",
       "        vertical-align: top;\n",
       "    }\n",
       "\n",
       "    .dataframe thead th {\n",
       "        text-align: right;\n",
       "    }\n",
       "</style>\n",
       "<table border=\"1\" class=\"dataframe\">\n",
       "  <thead>\n",
       "    <tr style=\"text-align: right;\">\n",
       "      <th></th>\n",
       "      <th>Semana</th>\n",
       "      <th>Agencia_ID</th>\n",
       "      <th>Canal_ID</th>\n",
       "      <th>Ruta_SAK</th>\n",
       "      <th>Cliente_ID</th>\n",
       "      <th>Producto_ID</th>\n",
       "      <th>Town_ID</th>\n",
       "      <th>price</th>\n",
       "    </tr>\n",
       "  </thead>\n",
       "  <tbody>\n",
       "    <tr>\n",
       "      <th>0</th>\n",
       "      <td>11</td>\n",
       "      <td>4037</td>\n",
       "      <td>1</td>\n",
       "      <td>2209</td>\n",
       "      <td>4639078</td>\n",
       "      <td>35305</td>\n",
       "      <td>2499</td>\n",
       "      <td>1.832582</td>\n",
       "    </tr>\n",
       "    <tr>\n",
       "      <th>1</th>\n",
       "      <td>11</td>\n",
       "      <td>2237</td>\n",
       "      <td>1</td>\n",
       "      <td>1226</td>\n",
       "      <td>4705135</td>\n",
       "      <td>1238</td>\n",
       "      <td>2402</td>\n",
       "      <td>2.285439</td>\n",
       "    </tr>\n",
       "    <tr>\n",
       "      <th>2</th>\n",
       "      <td>10</td>\n",
       "      <td>2045</td>\n",
       "      <td>1</td>\n",
       "      <td>2831</td>\n",
       "      <td>4549769</td>\n",
       "      <td>32940</td>\n",
       "      <td>2163</td>\n",
       "      <td>2.051556</td>\n",
       "    </tr>\n",
       "    <tr>\n",
       "      <th>3</th>\n",
       "      <td>11</td>\n",
       "      <td>1227</td>\n",
       "      <td>1</td>\n",
       "      <td>4448</td>\n",
       "      <td>4717855</td>\n",
       "      <td>43066</td>\n",
       "      <td>2066</td>\n",
       "      <td>2.264883</td>\n",
       "    </tr>\n",
       "    <tr>\n",
       "      <th>4</th>\n",
       "      <td>11</td>\n",
       "      <td>1219</td>\n",
       "      <td>1</td>\n",
       "      <td>1130</td>\n",
       "      <td>966351</td>\n",
       "      <td>1277</td>\n",
       "      <td>2042</td>\n",
       "      <td>2.091864</td>\n",
       "    </tr>\n",
       "  </tbody>\n",
       "</table>\n",
       "</div>"
      ],
      "text/plain": [
       "   Semana  Agencia_ID  Canal_ID  Ruta_SAK  Cliente_ID  Producto_ID  Town_ID  \\\n",
       "0      11        4037         1      2209     4639078        35305     2499   \n",
       "1      11        2237         1      1226     4705135         1238     2402   \n",
       "2      10        2045         1      2831     4549769        32940     2163   \n",
       "3      11        1227         1      4448     4717855        43066     2066   \n",
       "4      11        1219         1      1130      966351         1277     2042   \n",
       "\n",
       "      price  \n",
       "0  1.832582  \n",
       "1  2.285439  \n",
       "2  2.051556  \n",
       "3  2.264883  \n",
       "4  2.091864  "
      ]
     },
     "execution_count": 53,
     "metadata": {},
     "output_type": "execute_result"
    }
   ],
   "source": [
    "# test 데이터셋의 price 열을 로그 변환\n",
    "test.loc[:, 'price'] = np.log(test['price'])\n",
    "\n",
    "test.head()"
   ]
  },
  {
   "cell_type": "code",
   "execution_count": 54,
   "metadata": {},
   "outputs": [
    {
     "name": "stdout",
     "output_type": "stream",
     "text": [
      "0.9077755212783813\n"
     ]
    }
   ],
   "source": [
    "# train 데이터셋의 price 열의 평균값 계산\n",
    "train_mean_price = train['price'].mean()\n",
    "\n",
    "print(train_mean_price)"
   ]
  },
  {
   "cell_type": "code",
   "execution_count": 55,
   "metadata": {},
   "outputs": [
    {
     "data": {
      "text/plain": [
       "Semana         0\n",
       "Agencia_ID     0\n",
       "Canal_ID       0\n",
       "Ruta_SAK       0\n",
       "Cliente_ID     0\n",
       "Producto_ID    0\n",
       "Town_ID        0\n",
       "price          0\n",
       "dtype: int64"
      ]
     },
     "execution_count": 55,
     "metadata": {},
     "output_type": "execute_result"
    }
   ],
   "source": [
    "# 결측값을 가지는 price 열을 train 데이터셋의 평균값으로 대체\n",
    "test['price'] = test['price'].fillna(train_mean_price)\n",
    "\n",
    "test.isnull().sum()"
   ]
  },
  {
   "cell_type": "markdown",
   "metadata": {},
   "source": [
    "## 3. 모델링\n",
    "LightGBM Regressor를 사용하여 모델링을 진행합니다.\n",
    "\n",
    "범주형 변수가 많아 선형 모델보다 트리 모델이 더 적합하다고 판단하였습니다.\n",
    "\n",
    "트리 기반 모델 중 큰 데이터셋에 적합한 LightGBM을 사용하였습니다."
   ]
  },
  {
   "cell_type": "markdown",
   "metadata": {},
   "source": [
    "### 3.1 LightGBM Regressor"
   ]
  },
  {
   "cell_type": "code",
   "execution_count": 56,
   "metadata": {},
   "outputs": [],
   "source": [
    "import lightgbm as lgb\n",
    "from lightgbm import LGBMRegressor\n",
    "from sklearn.model_selection import train_test_split, KFold\n",
    "from sklearn.metrics import mean_squared_log_error\n",
    "import optuna\n",
    "\n",
    "# 데이터를 훈련할 변수(X)와 타겟 변수(Y)로 분할합니다.\n",
    "X = train.drop(['Demanda_uni_equil'], axis=1)\n",
    "y = train['Demanda_uni_equil']\n",
    "\n",
    "# 데이터를 학습 및 테스트 세트로 분할\n",
    "X_train, X_val, y_train, y_val = train_test_split(X, y, test_size=0.2, random_state=42)"
   ]
  },
  {
   "cell_type": "code",
   "execution_count": 57,
   "metadata": {},
   "outputs": [],
   "source": [
    "# RMSLE 평가 함수 정의\n",
    "def rmsle(y_true, y_pred):\n",
    "    return np.sqrt(np.mean(np.square(np.log1p(y_pred) - np.log1p(y_true))))"
   ]
  },
  {
   "cell_type": "code",
   "execution_count": 58,
   "metadata": {},
   "outputs": [],
   "source": [
    "# LightGBM의 파라미터 정의\n",
    "params = {\n",
    "    'objective': 'regression',\n",
    "    'metric': 'rmse',\n",
    "    'num_leaves': 31,\n",
    "    'learning_rate': 0.05,\n",
    "    'feature_fraction': 0.9,\n",
    "    'bagging_fraction': 0.8,\n",
    "    'bagging_freq': 5,\n",
    "    'verbose': 0\n",
    "}\n",
    "\n",
    "# LightGBM 데이터 세트 생성\n",
    "train_data = lgb.Dataset(X_train, label=y_train)\n",
    "\n",
    "# 모델 훈련\n",
    "model = lgb.train(params, train_data, num_boost_round=100)\n",
    "\n",
    "# 테스트 데이터에서 예측\n",
    "y_pred = model.predict(X_val)"
   ]
  },
  {
   "cell_type": "code",
   "execution_count": 59,
   "metadata": {},
   "outputs": [
    {
     "name": "stdout",
     "output_type": "stream",
     "text": [
      "Score: 0.7206183202331504\n"
     ]
    }
   ],
   "source": [
    "score = rmsle(y_val, y_pred)\n",
    "print(\"Score:\", score)"
   ]
  },
  {
   "cell_type": "code",
   "execution_count": 60,
   "metadata": {},
   "outputs": [
    {
     "name": "stdout",
     "output_type": "stream",
     "text": [
      "       Feature  Importance\n",
      "5  Producto_ID         755\n",
      "7        price         681\n",
      "3     Ruta_SAK         414\n",
      "2     Canal_ID         353\n",
      "4   Cliente_ID         311\n",
      "6      Town_ID         293\n",
      "1   Agencia_ID         182\n",
      "0       Semana          11\n"
     ]
    }
   ],
   "source": [
    "importance = model.feature_importance()\n",
    "feature_names = X.columns\n",
    "feature_importance = pd.DataFrame({'Feature': feature_names, 'Importance': importance})\n",
    "feature_importance = feature_importance.sort_values(by='Importance', ascending=False)\n",
    "print(feature_importance)"
   ]
  },
  {
   "cell_type": "markdown",
   "metadata": {},
   "source": [
    "실제 제출 결과와 다를 수 있지만, 약 0.72의 스코어는 경진 대회 약 1700팀 중 1500위 내외의 순위에 해당합니다.\n",
    "\n",
    "모델링을 개선하기 위해 추가적인 과정은 다음과 같습니다.\n",
    "1. 모델링 과정 수정\n",
    "- 주차별 데이터가 큰 의미를 가지지 못하고 있습니다.\n",
    "- 훈련 데이터와 테스트 데이터를 분리할 때, 주차별 특성을 보다 잘 반영할 수 있도록 분리합니다.\n",
    "- 1~9주차 데이터를 통해 10,11주차 데이터를 예측하는 목적에 맞게, 훈련데이터를 1~7주차 데이터로, 검증데이터를 8,9주차 데이터로 나누어 학습합니다.\n",
    "- 추가 피처 엔지니어링에서도 주차별 특성을 보다 잘 반영할 수 있도록 수정합니다.\n",
    "\n",
    "2. 추가 피처 엔지니어링\n",
    "    \n",
    "    2.1. 다른 변수에 대한 타겟 변수의 평균값을 변수로 추가\n",
    "    - 제품별 평균 수요량, 고객별 평균 수요량, 도시-제품별 평균 수요량, 고객-제품별 평균 수요량을 변수로 추가합니다.\n",
    "\n",
    "    2.2. 시간적 순서를 고려한 시차 특성 추가\n",
    "    - 주차별 특성을 반영하기 위해, 주차별 특성을 추가합니다.\n",
    "    - 2주 전 제품별 평균 수요량, 2주전 고객-제품별 평균 수요량을 변수로 추가합니다.\n",
    "\n",
    "3. 하이퍼 파라미터 튜닝\n",
    "- 최적 하이퍼 파라미터를 탐색합니다."
   ]
  },
  {
   "cell_type": "markdown",
   "metadata": {},
   "source": [
    "### 3.1 추가 피처 엔지니어링\n",
    "\n",
    "#### 3.1.1 제품별 평균 수요량, 2주전 제품별 평균 수요량"
   ]
  },
  {
   "cell_type": "code",
   "execution_count": 61,
   "metadata": {},
   "outputs": [
    {
     "data": {
      "text/html": [
       "<div>\n",
       "<style scoped>\n",
       "    .dataframe tbody tr th:only-of-type {\n",
       "        vertical-align: middle;\n",
       "    }\n",
       "\n",
       "    .dataframe tbody tr th {\n",
       "        vertical-align: top;\n",
       "    }\n",
       "\n",
       "    .dataframe thead th {\n",
       "        text-align: right;\n",
       "    }\n",
       "</style>\n",
       "<table border=\"1\" class=\"dataframe\">\n",
       "  <thead>\n",
       "    <tr style=\"text-align: right;\">\n",
       "      <th></th>\n",
       "      <th>Producto_ID</th>\n",
       "      <th>Product_Mean_Demand</th>\n",
       "    </tr>\n",
       "  </thead>\n",
       "  <tbody>\n",
       "    <tr>\n",
       "      <th>0</th>\n",
       "      <td>41</td>\n",
       "      <td>367.442623</td>\n",
       "    </tr>\n",
       "    <tr>\n",
       "      <th>1</th>\n",
       "      <td>53</td>\n",
       "      <td>291.096491</td>\n",
       "    </tr>\n",
       "    <tr>\n",
       "      <th>2</th>\n",
       "      <td>72</td>\n",
       "      <td>4.896193</td>\n",
       "    </tr>\n",
       "    <tr>\n",
       "      <th>3</th>\n",
       "      <td>73</td>\n",
       "      <td>3.193657</td>\n",
       "    </tr>\n",
       "    <tr>\n",
       "      <th>4</th>\n",
       "      <td>100</td>\n",
       "      <td>8.814516</td>\n",
       "    </tr>\n",
       "  </tbody>\n",
       "</table>\n",
       "</div>"
      ],
      "text/plain": [
       "   Producto_ID  Product_Mean_Demand\n",
       "0           41           367.442623\n",
       "1           53           291.096491\n",
       "2           72             4.896193\n",
       "3           73             3.193657\n",
       "4          100             8.814516"
      ]
     },
     "execution_count": 61,
     "metadata": {},
     "output_type": "execute_result"
    }
   ],
   "source": [
    "# train 데이터셋의 제품별 평균 수요량\n",
    "producto_mean = train.groupby('Producto_ID')['Demanda_uni_equil'].mean()\n",
    "producto_mean = producto_mean.reset_index(name='Product_Mean_Demand')\n",
    "producto_mean.head()"
   ]
  },
  {
   "cell_type": "code",
   "execution_count": 62,
   "metadata": {},
   "outputs": [],
   "source": [
    "# 주별 데이터 분리\n",
    "train_fv = train[train['Semana'].isin([3, 4, 5, 6, 7])]\n",
    "train_fv_4w = train[train['Semana'].isin([4, 5])] \n",
    "train_fv_2w = train[train['Semana'].isin([6, 7])]\n",
    "train_2w = train[train['Semana'].isin([8, 9])]"
   ]
  },
  {
   "cell_type": "code",
   "execution_count": 70,
   "metadata": {},
   "outputs": [],
   "source": [
    "# train_fv 데이터셋의 제품별 평균 수요량\n",
    "producto_mean_fv = train_fv.groupby('Producto_ID')['Demanda_uni_equil'].mean()\n",
    "producto_mean_fv = producto_mean_fv.reset_index(name='Product_Mean_Demand')\n",
    "\n",
    "# train_fv_4w 데이터셋의 제품별 평균 수요량\n",
    "producto_mean_fv_4w = train_fv_4w.groupby('Producto_ID')['Demanda_uni_equil'].mean()\n",
    "producto_mean_fv_4w = producto_mean_fv_4w.reset_index(name='Product_Mean_Demand_2w')\n",
    "\n",
    "# train_fv_2w 데이터셋의 제품별 평균 수요량\n",
    "producto_mean_fv_2w = train_fv_2w.groupby('Producto_ID')['Demanda_uni_equil'].mean()\n",
    "producto_mean_fv_2w = producto_mean_fv_2w.reset_index(name='Product_Mean_Demand_2w')\n",
    "\n",
    "# train_2w 데이터셋의 제품별 평균 수요량\n",
    "producto_mean_2w = train_2w.groupby('Producto_ID')['Demanda_uni_equil'].mean()\n",
    "producto_mean_2w = producto_mean_2w.reset_index(name='Product_Mean_Demand_2w')"
   ]
  },
  {
   "cell_type": "markdown",
   "metadata": {},
   "source": [
    "#### 3.1.2 고객별 평균 수요량"
   ]
  },
  {
   "cell_type": "code",
   "execution_count": 64,
   "metadata": {},
   "outputs": [],
   "source": [
    "# train 데이터셋의 고객별 평균 수요량\n",
    "cliente_mean = train.groupby('Cliente_ID')['Demanda_uni_equil'].mean()\n",
    "cliente_mean = cliente_mean.reset_index(name='Client_Mean_Demand')\n",
    "\n",
    "# train_fv 데이터셋의 고객별 평균 수요량\n",
    "cliente_mean_fv = train_fv.groupby('Cliente_ID')['Demanda_uni_equil'].mean()\n",
    "cliente_mean_fv = cliente_mean_fv.reset_index(name='Client_Mean_Demand')"
   ]
  },
  {
   "cell_type": "markdown",
   "metadata": {},
   "source": [
    "#### 3.1.3 도시-제품별 평균 수요량"
   ]
  },
  {
   "cell_type": "code",
   "execution_count": 65,
   "metadata": {},
   "outputs": [
    {
     "data": {
      "text/html": [
       "<div>\n",
       "<style scoped>\n",
       "    .dataframe tbody tr th:only-of-type {\n",
       "        vertical-align: middle;\n",
       "    }\n",
       "\n",
       "    .dataframe tbody tr th {\n",
       "        vertical-align: top;\n",
       "    }\n",
       "\n",
       "    .dataframe thead th {\n",
       "        text-align: right;\n",
       "    }\n",
       "</style>\n",
       "<table border=\"1\" class=\"dataframe\">\n",
       "  <thead>\n",
       "    <tr style=\"text-align: right;\">\n",
       "      <th></th>\n",
       "      <th>Town_ID</th>\n",
       "      <th>Producto_ID</th>\n",
       "      <th>Town_Product_Mean_Demand</th>\n",
       "    </tr>\n",
       "  </thead>\n",
       "  <tbody>\n",
       "    <tr>\n",
       "      <th>0</th>\n",
       "      <td>2001</td>\n",
       "      <td>72</td>\n",
       "      <td>4.433088</td>\n",
       "    </tr>\n",
       "    <tr>\n",
       "      <th>1</th>\n",
       "      <td>2001</td>\n",
       "      <td>73</td>\n",
       "      <td>2.020575</td>\n",
       "    </tr>\n",
       "    <tr>\n",
       "      <th>2</th>\n",
       "      <td>2001</td>\n",
       "      <td>141</td>\n",
       "      <td>4.046875</td>\n",
       "    </tr>\n",
       "    <tr>\n",
       "      <th>3</th>\n",
       "      <td>2001</td>\n",
       "      <td>145</td>\n",
       "      <td>2.750000</td>\n",
       "    </tr>\n",
       "    <tr>\n",
       "      <th>4</th>\n",
       "      <td>2001</td>\n",
       "      <td>160</td>\n",
       "      <td>2.454545</td>\n",
       "    </tr>\n",
       "  </tbody>\n",
       "</table>\n",
       "</div>"
      ],
      "text/plain": [
       "   Town_ID  Producto_ID  Town_Product_Mean_Demand\n",
       "0     2001           72                  4.433088\n",
       "1     2001           73                  2.020575\n",
       "2     2001          141                  4.046875\n",
       "3     2001          145                  2.750000\n",
       "4     2001          160                  2.454545"
      ]
     },
     "execution_count": 65,
     "metadata": {},
     "output_type": "execute_result"
    }
   ],
   "source": [
    "# train 데이터셋의 도시-제품별 평균 수요량\n",
    "town_producto_mean = train.groupby(['Town_ID', 'Producto_ID'])['Demanda_uni_equil'].mean().reset_index()\n",
    "town_producto_mean = town_producto_mean.rename(columns={'Demanda_uni_equil': 'Town_Product_Mean_Demand'})\n",
    "town_producto_mean.head()"
   ]
  },
  {
   "cell_type": "code",
   "execution_count": 66,
   "metadata": {},
   "outputs": [],
   "source": [
    "# train_fv 데이터셋의 도시-제품별 평균 수요량\n",
    "town_producto_mean_fv = train_fv.groupby(['Town_ID', 'Producto_ID'])['Demanda_uni_equil'].mean().reset_index()\n",
    "town_producto_mean_fv = town_producto_mean_fv.rename(columns={'Demanda_uni_equil': 'Town_Product_Mean_Demand'})"
   ]
  },
  {
   "cell_type": "markdown",
   "metadata": {},
   "source": [
    "#### 3.1.4 고객-제품별 평균 수요량, 2주전 고객-제품별 평균 수요량"
   ]
  },
  {
   "cell_type": "code",
   "execution_count": 67,
   "metadata": {},
   "outputs": [
    {
     "data": {
      "text/html": [
       "<div>\n",
       "<style scoped>\n",
       "    .dataframe tbody tr th:only-of-type {\n",
       "        vertical-align: middle;\n",
       "    }\n",
       "\n",
       "    .dataframe tbody tr th {\n",
       "        vertical-align: top;\n",
       "    }\n",
       "\n",
       "    .dataframe thead th {\n",
       "        text-align: right;\n",
       "    }\n",
       "</style>\n",
       "<table border=\"1\" class=\"dataframe\">\n",
       "  <thead>\n",
       "    <tr style=\"text-align: right;\">\n",
       "      <th></th>\n",
       "      <th>Cliente_ID</th>\n",
       "      <th>Producto_ID</th>\n",
       "      <th>Client_Product_Mean_Demand</th>\n",
       "    </tr>\n",
       "  </thead>\n",
       "  <tbody>\n",
       "    <tr>\n",
       "      <th>0</th>\n",
       "      <td>26</td>\n",
       "      <td>1182</td>\n",
       "      <td>13.0</td>\n",
       "    </tr>\n",
       "    <tr>\n",
       "      <th>1</th>\n",
       "      <td>26</td>\n",
       "      <td>4767</td>\n",
       "      <td>42.0</td>\n",
       "    </tr>\n",
       "    <tr>\n",
       "      <th>2</th>\n",
       "      <td>26</td>\n",
       "      <td>30235</td>\n",
       "      <td>96.0</td>\n",
       "    </tr>\n",
       "    <tr>\n",
       "      <th>3</th>\n",
       "      <td>26</td>\n",
       "      <td>30314</td>\n",
       "      <td>48.0</td>\n",
       "    </tr>\n",
       "    <tr>\n",
       "      <th>4</th>\n",
       "      <td>26</td>\n",
       "      <td>31393</td>\n",
       "      <td>17.0</td>\n",
       "    </tr>\n",
       "  </tbody>\n",
       "</table>\n",
       "</div>"
      ],
      "text/plain": [
       "   Cliente_ID  Producto_ID  Client_Product_Mean_Demand\n",
       "0          26         1182                        13.0\n",
       "1          26         4767                        42.0\n",
       "2          26        30235                        96.0\n",
       "3          26        30314                        48.0\n",
       "4          26        31393                        17.0"
      ]
     },
     "execution_count": 67,
     "metadata": {},
     "output_type": "execute_result"
    }
   ],
   "source": [
    "# train 데이터셋의 고객-제품별 평균 수요량\n",
    "cliente_producto_mean = train.groupby(['Cliente_ID', 'Producto_ID'])['Demanda_uni_equil'].mean().reset_index()\n",
    "cliente_producto_mean = cliente_producto_mean.rename(columns={'Demanda_uni_equil': 'Client_Product_Mean_Demand'})\n",
    "\n",
    "# train_fv 데이터셋의 고객-제품별 평균 수요량\n",
    "cliente_producto_mean_fv = train_fv.groupby(['Cliente_ID', 'Producto_ID'])['Demanda_uni_equil'].mean().reset_index()\n",
    "cliente_producto_mean_fv = cliente_producto_mean_fv.rename(columns={'Demanda_uni_equil': 'Client_Product_Mean_Demand'})\n",
    "\n",
    "cliente_producto_mean.head()"
   ]
  },
  {
   "cell_type": "code",
   "execution_count": 69,
   "metadata": {},
   "outputs": [],
   "source": [
    "# train_fv_4w 데이터셋의 고객-제품별 평균 수요량\n",
    "cliente_producto_mean_fv_4w = train_fv_4w.groupby(['Cliente_ID', 'Producto_ID'])['Demanda_uni_equil'].mean().reset_index()\n",
    "cliente_producto_mean_fv_4w = cliente_producto_mean_fv_4w.rename(columns={'Demanda_uni_equil': 'Client_Product_Mean_Demand_2w'})\n",
    "\n",
    "# train_fv_2w 데이터셋의 고객-제품별 평균 수요량\n",
    "cliente_producto_mean_fv_2w = train_fv_2w.groupby(['Cliente_ID', 'Producto_ID'])['Demanda_uni_equil'].mean().reset_index()\n",
    "cliente_producto_mean_fv_2w = cliente_producto_mean_fv_2w.rename(columns={'Demanda_uni_equil': 'Client_Product_Mean_Demand_2w'})\n",
    "\n",
    "# train_2w 데이터셋의 고객-제품별 평균 수요량\n",
    "cliente_producto_mean_2w = train_2w.groupby(['Cliente_ID', 'Producto_ID'])['Demanda_uni_equil'].mean().reset_index()\n",
    "cliente_producto_mean_2w = cliente_producto_mean_2w.rename(columns={'Demanda_uni_equil': 'Client_Product_Mean_Demand_2w'})"
   ]
  },
  {
   "cell_type": "markdown",
   "metadata": {},
   "source": [
    "### 3.2 추가 데이터 처리\n",
    "#### 3.2.1 데이터 결합\n",
    "각 데이터셋에 적절히 매칭합니다."
   ]
  },
  {
   "cell_type": "code",
   "execution_count": 71,
   "metadata": {},
   "outputs": [
    {
     "data": {
      "text/html": [
       "<div>\n",
       "<style scoped>\n",
       "    .dataframe tbody tr th:only-of-type {\n",
       "        vertical-align: middle;\n",
       "    }\n",
       "\n",
       "    .dataframe tbody tr th {\n",
       "        vertical-align: top;\n",
       "    }\n",
       "\n",
       "    .dataframe thead th {\n",
       "        text-align: right;\n",
       "    }\n",
       "</style>\n",
       "<table border=\"1\" class=\"dataframe\">\n",
       "  <thead>\n",
       "    <tr style=\"text-align: right;\">\n",
       "      <th></th>\n",
       "      <th>Semana</th>\n",
       "      <th>Agencia_ID</th>\n",
       "      <th>Canal_ID</th>\n",
       "      <th>Ruta_SAK</th>\n",
       "      <th>Cliente_ID</th>\n",
       "      <th>Producto_ID</th>\n",
       "      <th>Demanda_uni_equil</th>\n",
       "      <th>Town_ID</th>\n",
       "      <th>price</th>\n",
       "    </tr>\n",
       "  </thead>\n",
       "  <tbody>\n",
       "    <tr>\n",
       "      <th>0</th>\n",
       "      <td>3</td>\n",
       "      <td>1110</td>\n",
       "      <td>7</td>\n",
       "      <td>3301</td>\n",
       "      <td>15766</td>\n",
       "      <td>1212</td>\n",
       "      <td>3</td>\n",
       "      <td>2008</td>\n",
       "      <td>2.125848</td>\n",
       "    </tr>\n",
       "    <tr>\n",
       "      <th>1</th>\n",
       "      <td>3</td>\n",
       "      <td>1110</td>\n",
       "      <td>7</td>\n",
       "      <td>3301</td>\n",
       "      <td>15766</td>\n",
       "      <td>1216</td>\n",
       "      <td>4</td>\n",
       "      <td>2008</td>\n",
       "      <td>2.125848</td>\n",
       "    </tr>\n",
       "    <tr>\n",
       "      <th>2</th>\n",
       "      <td>3</td>\n",
       "      <td>1110</td>\n",
       "      <td>7</td>\n",
       "      <td>3301</td>\n",
       "      <td>15766</td>\n",
       "      <td>1238</td>\n",
       "      <td>4</td>\n",
       "      <td>2008</td>\n",
       "      <td>2.285439</td>\n",
       "    </tr>\n",
       "    <tr>\n",
       "      <th>3</th>\n",
       "      <td>3</td>\n",
       "      <td>1110</td>\n",
       "      <td>7</td>\n",
       "      <td>3301</td>\n",
       "      <td>15766</td>\n",
       "      <td>1240</td>\n",
       "      <td>4</td>\n",
       "      <td>2008</td>\n",
       "      <td>2.125848</td>\n",
       "    </tr>\n",
       "    <tr>\n",
       "      <th>4</th>\n",
       "      <td>3</td>\n",
       "      <td>1110</td>\n",
       "      <td>7</td>\n",
       "      <td>3301</td>\n",
       "      <td>15766</td>\n",
       "      <td>1242</td>\n",
       "      <td>3</td>\n",
       "      <td>2008</td>\n",
       "      <td>2.033398</td>\n",
       "    </tr>\n",
       "  </tbody>\n",
       "</table>\n",
       "</div>"
      ],
      "text/plain": [
       "   Semana  Agencia_ID  Canal_ID  Ruta_SAK  Cliente_ID  Producto_ID  \\\n",
       "0       3        1110         7      3301       15766         1212   \n",
       "1       3        1110         7      3301       15766         1216   \n",
       "2       3        1110         7      3301       15766         1238   \n",
       "3       3        1110         7      3301       15766         1240   \n",
       "4       3        1110         7      3301       15766         1242   \n",
       "\n",
       "   Demanda_uni_equil  Town_ID     price  \n",
       "0                  3     2008  2.125848  \n",
       "1                  4     2008  2.125848  \n",
       "2                  4     2008  2.285439  \n",
       "3                  4     2008  2.125848  \n",
       "4                  3     2008  2.033398  "
      ]
     },
     "execution_count": 71,
     "metadata": {},
     "output_type": "execute_result"
    }
   ],
   "source": [
    "train.head()"
   ]
  },
  {
   "cell_type": "code",
   "execution_count": 74,
   "metadata": {},
   "outputs": [
    {
     "data": {
      "text/html": [
       "<div>\n",
       "<style scoped>\n",
       "    .dataframe tbody tr th:only-of-type {\n",
       "        vertical-align: middle;\n",
       "    }\n",
       "\n",
       "    .dataframe tbody tr th {\n",
       "        vertical-align: top;\n",
       "    }\n",
       "\n",
       "    .dataframe thead th {\n",
       "        text-align: right;\n",
       "    }\n",
       "</style>\n",
       "<table border=\"1\" class=\"dataframe\">\n",
       "  <thead>\n",
       "    <tr style=\"text-align: right;\">\n",
       "      <th></th>\n",
       "      <th>Semana</th>\n",
       "      <th>Agencia_ID</th>\n",
       "      <th>Canal_ID</th>\n",
       "      <th>Ruta_SAK</th>\n",
       "      <th>Cliente_ID</th>\n",
       "      <th>Producto_ID</th>\n",
       "      <th>Demanda_uni_equil</th>\n",
       "      <th>Town_ID</th>\n",
       "      <th>price</th>\n",
       "      <th>Product_Mean_Demand</th>\n",
       "      <th>Product_Mean_Demand_2w</th>\n",
       "      <th>Client_Mean_Demand</th>\n",
       "      <th>Town_Product_Mean_Demand</th>\n",
       "      <th>Client_Product_Mean_Demand</th>\n",
       "      <th>Client_Product_Mean_Demand_2w</th>\n",
       "    </tr>\n",
       "  </thead>\n",
       "  <tbody>\n",
       "    <tr>\n",
       "      <th>0</th>\n",
       "      <td>3</td>\n",
       "      <td>1110</td>\n",
       "      <td>7</td>\n",
       "      <td>3301</td>\n",
       "      <td>15766</td>\n",
       "      <td>1212</td>\n",
       "      <td>3</td>\n",
       "      <td>2008</td>\n",
       "      <td>2.125848</td>\n",
       "      <td>2.871166</td>\n",
       "      <td>2.804188</td>\n",
       "      <td>5.525</td>\n",
       "      <td>6.521588</td>\n",
       "      <td>3.400000</td>\n",
       "      <td>NaN</td>\n",
       "    </tr>\n",
       "    <tr>\n",
       "      <th>1</th>\n",
       "      <td>3</td>\n",
       "      <td>1110</td>\n",
       "      <td>7</td>\n",
       "      <td>3301</td>\n",
       "      <td>15766</td>\n",
       "      <td>1216</td>\n",
       "      <td>4</td>\n",
       "      <td>2008</td>\n",
       "      <td>2.125848</td>\n",
       "      <td>3.056116</td>\n",
       "      <td>3.023282</td>\n",
       "      <td>5.525</td>\n",
       "      <td>4.782525</td>\n",
       "      <td>2.833333</td>\n",
       "      <td>1.5</td>\n",
       "    </tr>\n",
       "    <tr>\n",
       "      <th>2</th>\n",
       "      <td>3</td>\n",
       "      <td>1110</td>\n",
       "      <td>7</td>\n",
       "      <td>3301</td>\n",
       "      <td>15766</td>\n",
       "      <td>1238</td>\n",
       "      <td>4</td>\n",
       "      <td>2008</td>\n",
       "      <td>2.285439</td>\n",
       "      <td>3.175030</td>\n",
       "      <td>3.105704</td>\n",
       "      <td>5.525</td>\n",
       "      <td>6.558471</td>\n",
       "      <td>2.428571</td>\n",
       "      <td>2.0</td>\n",
       "    </tr>\n",
       "    <tr>\n",
       "      <th>3</th>\n",
       "      <td>3</td>\n",
       "      <td>1110</td>\n",
       "      <td>7</td>\n",
       "      <td>3301</td>\n",
       "      <td>15766</td>\n",
       "      <td>1240</td>\n",
       "      <td>4</td>\n",
       "      <td>2008</td>\n",
       "      <td>2.125848</td>\n",
       "      <td>5.668002</td>\n",
       "      <td>5.621343</td>\n",
       "      <td>5.525</td>\n",
       "      <td>11.204265</td>\n",
       "      <td>4.600000</td>\n",
       "      <td>8.0</td>\n",
       "    </tr>\n",
       "    <tr>\n",
       "      <th>4</th>\n",
       "      <td>3</td>\n",
       "      <td>1110</td>\n",
       "      <td>7</td>\n",
       "      <td>3301</td>\n",
       "      <td>15766</td>\n",
       "      <td>1242</td>\n",
       "      <td>3</td>\n",
       "      <td>2008</td>\n",
       "      <td>2.033398</td>\n",
       "      <td>5.083143</td>\n",
       "      <td>5.142427</td>\n",
       "      <td>5.525</td>\n",
       "      <td>7.031367</td>\n",
       "      <td>2.142857</td>\n",
       "      <td>2.5</td>\n",
       "    </tr>\n",
       "  </tbody>\n",
       "</table>\n",
       "</div>"
      ],
      "text/plain": [
       "   Semana  Agencia_ID  Canal_ID  Ruta_SAK  Cliente_ID  Producto_ID  \\\n",
       "0       3        1110         7      3301       15766         1212   \n",
       "1       3        1110         7      3301       15766         1216   \n",
       "2       3        1110         7      3301       15766         1238   \n",
       "3       3        1110         7      3301       15766         1240   \n",
       "4       3        1110         7      3301       15766         1242   \n",
       "\n",
       "   Demanda_uni_equil  Town_ID     price  Product_Mean_Demand  \\\n",
       "0                  3     2008  2.125848             2.871166   \n",
       "1                  4     2008  2.125848             3.056116   \n",
       "2                  4     2008  2.285439             3.175030   \n",
       "3                  4     2008  2.125848             5.668002   \n",
       "4                  3     2008  2.033398             5.083143   \n",
       "\n",
       "   Product_Mean_Demand_2w  Client_Mean_Demand  Town_Product_Mean_Demand  \\\n",
       "0                2.804188               5.525                  6.521588   \n",
       "1                3.023282               5.525                  4.782525   \n",
       "2                3.105704               5.525                  6.558471   \n",
       "3                5.621343               5.525                 11.204265   \n",
       "4                5.142427               5.525                  7.031367   \n",
       "\n",
       "   Client_Product_Mean_Demand  Client_Product_Mean_Demand_2w  \n",
       "0                    3.400000                            NaN  \n",
       "1                    2.833333                            1.5  \n",
       "2                    2.428571                            2.0  \n",
       "3                    4.600000                            8.0  \n",
       "4                    2.142857                            2.5  "
      ]
     },
     "execution_count": 74,
     "metadata": {},
     "output_type": "execute_result"
    }
   ],
   "source": [
    "# train 데이터셋\n",
    "# 1. train데이터셋에 producto_mean데이터셋을 Producto_ID가 일치하는 조건으로 결합\n",
    "train = train.merge(producto_mean, on='Producto_ID', how='left')\n",
    "\n",
    "# 2. train데이터셋에 producto_mean_fv_2w데이터셋을 Producto_ID가 일치하는 조건으로 결합\n",
    "train = train.merge(producto_mean_fv_2w, on='Producto_ID', how='left')\n",
    "\n",
    "# 3. train데이터셋에 clienete_mean데이터셋을 Cliente_ID가 일치하는 조건으로 결합\n",
    "train = train.merge(cliente_mean, on='Cliente_ID', how='left')\n",
    "\n",
    "# 4. train데이터셋에 town_producto_mean데이터셋을 Town_ID와 Producto_ID가 그룹화하여 일치하는 조건으로 결합\n",
    "train = train.merge(town_producto_mean, on=['Town_ID', 'Producto_ID'], how='left')\n",
    "\n",
    "# 5. train데이터셋에 cliente_producto_mean데이터셋을 Cliente_ID와 Producto_ID가 그룹화하여 일치하는 조건으로 결합\n",
    "train = train.merge(cliente_producto_mean, on=['Cliente_ID', 'Producto_ID'], how='left')\n",
    "\n",
    "# 6. train데이터셋에 cliente_prodocto_mean_fv_2w데이터셋을 Cliente_ID와 Producto_ID가 그룹화하여 일치하는 조건으로 결합\n",
    "train = train.merge(cliente_producto_mean_fv_2w, on=['Cliente_ID', 'Producto_ID'], how='left')\n",
    "\n",
    "train.head()"
   ]
  },
  {
   "cell_type": "code",
   "execution_count": 75,
   "metadata": {},
   "outputs": [
    {
     "name": "stdout",
     "output_type": "stream",
     "text": [
      "Semana                                  0\n",
      "Agencia_ID                              0\n",
      "Canal_ID                                0\n",
      "Ruta_SAK                                0\n",
      "Cliente_ID                              0\n",
      "Producto_ID                             0\n",
      "Demanda_uni_equil                       0\n",
      "Town_ID                                 0\n",
      "price                                   0\n",
      "Product_Mean_Demand                     0\n",
      "Product_Mean_Demand_2w               9985\n",
      "Client_Mean_Demand                      0\n",
      "Town_Product_Mean_Demand                0\n",
      "Client_Product_Mean_Demand              0\n",
      "Client_Product_Mean_Demand_2w    20264763\n",
      "dtype: int64\n"
     ]
    }
   ],
   "source": [
    "train_null_counts = train.isnull().sum()\n",
    "print(train_null_counts)"
   ]
  },
  {
   "cell_type": "code",
   "execution_count": 76,
   "metadata": {},
   "outputs": [
    {
     "data": {
      "text/html": [
       "<div>\n",
       "<style scoped>\n",
       "    .dataframe tbody tr th:only-of-type {\n",
       "        vertical-align: middle;\n",
       "    }\n",
       "\n",
       "    .dataframe tbody tr th {\n",
       "        vertical-align: top;\n",
       "    }\n",
       "\n",
       "    .dataframe thead th {\n",
       "        text-align: right;\n",
       "    }\n",
       "</style>\n",
       "<table border=\"1\" class=\"dataframe\">\n",
       "  <thead>\n",
       "    <tr style=\"text-align: right;\">\n",
       "      <th></th>\n",
       "      <th>Semana</th>\n",
       "      <th>Agencia_ID</th>\n",
       "      <th>Canal_ID</th>\n",
       "      <th>Ruta_SAK</th>\n",
       "      <th>Cliente_ID</th>\n",
       "      <th>Producto_ID</th>\n",
       "      <th>Town_ID</th>\n",
       "      <th>price</th>\n",
       "      <th>Product_Mean_Demand</th>\n",
       "      <th>Product_Mean_Demand_2w</th>\n",
       "      <th>Client_Mean_Demand</th>\n",
       "      <th>Town_Product_Mean_Demand</th>\n",
       "      <th>Client_Product_Mean_Demand</th>\n",
       "      <th>Client_Product_Mean_Demand_2w</th>\n",
       "    </tr>\n",
       "  </thead>\n",
       "  <tbody>\n",
       "    <tr>\n",
       "      <th>0</th>\n",
       "      <td>11</td>\n",
       "      <td>4037</td>\n",
       "      <td>1</td>\n",
       "      <td>2209</td>\n",
       "      <td>4639078</td>\n",
       "      <td>35305</td>\n",
       "      <td>2499</td>\n",
       "      <td>1.832582</td>\n",
       "      <td>9.182930</td>\n",
       "      <td>9.254603</td>\n",
       "      <td>2.562500</td>\n",
       "      <td>8.478513</td>\n",
       "      <td>4.0</td>\n",
       "      <td>4.0</td>\n",
       "    </tr>\n",
       "    <tr>\n",
       "      <th>1</th>\n",
       "      <td>11</td>\n",
       "      <td>2237</td>\n",
       "      <td>1</td>\n",
       "      <td>1226</td>\n",
       "      <td>4705135</td>\n",
       "      <td>1238</td>\n",
       "      <td>2402</td>\n",
       "      <td>2.285439</td>\n",
       "      <td>3.175030</td>\n",
       "      <td>3.039328</td>\n",
       "      <td>3.151515</td>\n",
       "      <td>2.378963</td>\n",
       "      <td>NaN</td>\n",
       "      <td>NaN</td>\n",
       "    </tr>\n",
       "    <tr>\n",
       "      <th>2</th>\n",
       "      <td>10</td>\n",
       "      <td>2045</td>\n",
       "      <td>1</td>\n",
       "      <td>2831</td>\n",
       "      <td>4549769</td>\n",
       "      <td>32940</td>\n",
       "      <td>2163</td>\n",
       "      <td>2.051556</td>\n",
       "      <td>4.008649</td>\n",
       "      <td>4.023667</td>\n",
       "      <td>7.772727</td>\n",
       "      <td>4.136560</td>\n",
       "      <td>2.0</td>\n",
       "      <td>2.0</td>\n",
       "    </tr>\n",
       "    <tr>\n",
       "      <th>3</th>\n",
       "      <td>11</td>\n",
       "      <td>1227</td>\n",
       "      <td>1</td>\n",
       "      <td>4448</td>\n",
       "      <td>4717855</td>\n",
       "      <td>43066</td>\n",
       "      <td>2066</td>\n",
       "      <td>2.264883</td>\n",
       "      <td>2.436524</td>\n",
       "      <td>2.336444</td>\n",
       "      <td>3.682119</td>\n",
       "      <td>1.213487</td>\n",
       "      <td>NaN</td>\n",
       "      <td>NaN</td>\n",
       "    </tr>\n",
       "    <tr>\n",
       "      <th>4</th>\n",
       "      <td>11</td>\n",
       "      <td>1219</td>\n",
       "      <td>1</td>\n",
       "      <td>1130</td>\n",
       "      <td>966351</td>\n",
       "      <td>1277</td>\n",
       "      <td>2042</td>\n",
       "      <td>2.091864</td>\n",
       "      <td>3.411765</td>\n",
       "      <td>3.411765</td>\n",
       "      <td>3.485714</td>\n",
       "      <td>NaN</td>\n",
       "      <td>NaN</td>\n",
       "      <td>NaN</td>\n",
       "    </tr>\n",
       "  </tbody>\n",
       "</table>\n",
       "</div>"
      ],
      "text/plain": [
       "   Semana  Agencia_ID  Canal_ID  Ruta_SAK  Cliente_ID  Producto_ID  Town_ID  \\\n",
       "0      11        4037         1      2209     4639078        35305     2499   \n",
       "1      11        2237         1      1226     4705135         1238     2402   \n",
       "2      10        2045         1      2831     4549769        32940     2163   \n",
       "3      11        1227         1      4448     4717855        43066     2066   \n",
       "4      11        1219         1      1130      966351         1277     2042   \n",
       "\n",
       "      price  Product_Mean_Demand  Product_Mean_Demand_2w  Client_Mean_Demand  \\\n",
       "0  1.832582             9.182930                9.254603            2.562500   \n",
       "1  2.285439             3.175030                3.039328            3.151515   \n",
       "2  2.051556             4.008649                4.023667            7.772727   \n",
       "3  2.264883             2.436524                2.336444            3.682119   \n",
       "4  2.091864             3.411765                3.411765            3.485714   \n",
       "\n",
       "   Town_Product_Mean_Demand  Client_Product_Mean_Demand  \\\n",
       "0                  8.478513                         4.0   \n",
       "1                  2.378963                         NaN   \n",
       "2                  4.136560                         2.0   \n",
       "3                  1.213487                         NaN   \n",
       "4                       NaN                         NaN   \n",
       "\n",
       "   Client_Product_Mean_Demand_2w  \n",
       "0                            4.0  \n",
       "1                            NaN  \n",
       "2                            2.0  \n",
       "3                            NaN  \n",
       "4                            NaN  "
      ]
     },
     "execution_count": 76,
     "metadata": {},
     "output_type": "execute_result"
    }
   ],
   "source": [
    "# test 데이터셋\n",
    "test = test.merge(producto_mean, on='Producto_ID', how='left')\n",
    "test = test.merge(producto_mean_2w, on='Producto_ID', how='left')\n",
    "test = test.merge(cliente_mean, on='Cliente_ID', how='left')\n",
    "test = test.merge(town_producto_mean, on=['Town_ID', 'Producto_ID'], how='left')\n",
    "test = test.merge(cliente_producto_mean, on=['Cliente_ID', 'Producto_ID'], how='left')\n",
    "test = test.merge(cliente_producto_mean_2w, on=['Cliente_ID', 'Producto_ID'], how='left')\n",
    "\n",
    "test.head()"
   ]
  },
  {
   "cell_type": "code",
   "execution_count": 77,
   "metadata": {},
   "outputs": [
    {
     "name": "stdout",
     "output_type": "stream",
     "text": [
      "Semana                                 0\n",
      "Agencia_ID                             0\n",
      "Canal_ID                               0\n",
      "Ruta_SAK                               0\n",
      "Cliente_ID                             0\n",
      "Producto_ID                            0\n",
      "Town_ID                                0\n",
      "price                                  0\n",
      "Product_Mean_Demand                25640\n",
      "Product_Mean_Demand_2w             25772\n",
      "Client_Mean_Demand                 30054\n",
      "Town_Product_Mean_Demand          247186\n",
      "Client_Product_Mean_Demand       1365213\n",
      "Client_Product_Mean_Demand_2w    2591270\n",
      "dtype: int64\n"
     ]
    }
   ],
   "source": [
    "test_null_counts = test.isnull().sum()\n",
    "print(test_null_counts)"
   ]
  },
  {
   "cell_type": "code",
   "execution_count": 78,
   "metadata": {},
   "outputs": [
    {
     "data": {
      "text/html": [
       "<div>\n",
       "<style scoped>\n",
       "    .dataframe tbody tr th:only-of-type {\n",
       "        vertical-align: middle;\n",
       "    }\n",
       "\n",
       "    .dataframe tbody tr th {\n",
       "        vertical-align: top;\n",
       "    }\n",
       "\n",
       "    .dataframe thead th {\n",
       "        text-align: right;\n",
       "    }\n",
       "</style>\n",
       "<table border=\"1\" class=\"dataframe\">\n",
       "  <thead>\n",
       "    <tr style=\"text-align: right;\">\n",
       "      <th></th>\n",
       "      <th>Semana</th>\n",
       "      <th>Agencia_ID</th>\n",
       "      <th>Canal_ID</th>\n",
       "      <th>Ruta_SAK</th>\n",
       "      <th>Cliente_ID</th>\n",
       "      <th>Producto_ID</th>\n",
       "      <th>Demanda_uni_equil</th>\n",
       "      <th>Town_ID</th>\n",
       "      <th>price</th>\n",
       "      <th>Product_Mean_Demand</th>\n",
       "      <th>Product_Mean_Demand_2w</th>\n",
       "      <th>Client_Mean_Demand</th>\n",
       "      <th>Town_Product_Mean_Demand</th>\n",
       "      <th>Client_Product_Mean_Demand</th>\n",
       "      <th>Client_Product_Mean_Demand_2w</th>\n",
       "    </tr>\n",
       "  </thead>\n",
       "  <tbody>\n",
       "    <tr>\n",
       "      <th>0</th>\n",
       "      <td>3</td>\n",
       "      <td>1110</td>\n",
       "      <td>7</td>\n",
       "      <td>3301</td>\n",
       "      <td>15766</td>\n",
       "      <td>1212</td>\n",
       "      <td>3</td>\n",
       "      <td>2008</td>\n",
       "      <td>2.125848</td>\n",
       "      <td>2.907786</td>\n",
       "      <td>2.930706</td>\n",
       "      <td>5.561404</td>\n",
       "      <td>6.675217</td>\n",
       "      <td>4.000000</td>\n",
       "      <td>4.5</td>\n",
       "    </tr>\n",
       "    <tr>\n",
       "      <th>1</th>\n",
       "      <td>3</td>\n",
       "      <td>1110</td>\n",
       "      <td>7</td>\n",
       "      <td>3301</td>\n",
       "      <td>15766</td>\n",
       "      <td>1216</td>\n",
       "      <td>4</td>\n",
       "      <td>2008</td>\n",
       "      <td>2.125848</td>\n",
       "      <td>3.110175</td>\n",
       "      <td>3.165148</td>\n",
       "      <td>5.561404</td>\n",
       "      <td>4.751656</td>\n",
       "      <td>2.400000</td>\n",
       "      <td>2.5</td>\n",
       "    </tr>\n",
       "    <tr>\n",
       "      <th>2</th>\n",
       "      <td>3</td>\n",
       "      <td>1110</td>\n",
       "      <td>7</td>\n",
       "      <td>3301</td>\n",
       "      <td>15766</td>\n",
       "      <td>1238</td>\n",
       "      <td>4</td>\n",
       "      <td>2008</td>\n",
       "      <td>2.285439</td>\n",
       "      <td>3.223185</td>\n",
       "      <td>3.262729</td>\n",
       "      <td>5.561404</td>\n",
       "      <td>6.766689</td>\n",
       "      <td>2.400000</td>\n",
       "      <td>2.0</td>\n",
       "    </tr>\n",
       "    <tr>\n",
       "      <th>3</th>\n",
       "      <td>3</td>\n",
       "      <td>1110</td>\n",
       "      <td>7</td>\n",
       "      <td>3301</td>\n",
       "      <td>15766</td>\n",
       "      <td>1240</td>\n",
       "      <td>4</td>\n",
       "      <td>2008</td>\n",
       "      <td>2.125848</td>\n",
       "      <td>5.725000</td>\n",
       "      <td>5.789644</td>\n",
       "      <td>5.561404</td>\n",
       "      <td>11.411176</td>\n",
       "      <td>6.333333</td>\n",
       "      <td>7.0</td>\n",
       "    </tr>\n",
       "    <tr>\n",
       "      <th>4</th>\n",
       "      <td>3</td>\n",
       "      <td>1110</td>\n",
       "      <td>7</td>\n",
       "      <td>3301</td>\n",
       "      <td>15766</td>\n",
       "      <td>1242</td>\n",
       "      <td>3</td>\n",
       "      <td>2008</td>\n",
       "      <td>2.033398</td>\n",
       "      <td>5.144493</td>\n",
       "      <td>5.195677</td>\n",
       "      <td>5.561404</td>\n",
       "      <td>7.103362</td>\n",
       "      <td>2.600000</td>\n",
       "      <td>2.5</td>\n",
       "    </tr>\n",
       "  </tbody>\n",
       "</table>\n",
       "</div>"
      ],
      "text/plain": [
       "   Semana  Agencia_ID  Canal_ID  Ruta_SAK  Cliente_ID  Producto_ID  \\\n",
       "0       3        1110         7      3301       15766         1212   \n",
       "1       3        1110         7      3301       15766         1216   \n",
       "2       3        1110         7      3301       15766         1238   \n",
       "3       3        1110         7      3301       15766         1240   \n",
       "4       3        1110         7      3301       15766         1242   \n",
       "\n",
       "   Demanda_uni_equil  Town_ID     price  Product_Mean_Demand  \\\n",
       "0                  3     2008  2.125848             2.907786   \n",
       "1                  4     2008  2.125848             3.110175   \n",
       "2                  4     2008  2.285439             3.223185   \n",
       "3                  4     2008  2.125848             5.725000   \n",
       "4                  3     2008  2.033398             5.144493   \n",
       "\n",
       "   Product_Mean_Demand_2w  Client_Mean_Demand  Town_Product_Mean_Demand  \\\n",
       "0                2.930706            5.561404                  6.675217   \n",
       "1                3.165148            5.561404                  4.751656   \n",
       "2                3.262729            5.561404                  6.766689   \n",
       "3                5.789644            5.561404                 11.411176   \n",
       "4                5.195677            5.561404                  7.103362   \n",
       "\n",
       "   Client_Product_Mean_Demand  Client_Product_Mean_Demand_2w  \n",
       "0                    4.000000                            4.5  \n",
       "1                    2.400000                            2.5  \n",
       "2                    2.400000                            2.0  \n",
       "3                    6.333333                            7.0  \n",
       "4                    2.600000                            2.5  "
      ]
     },
     "execution_count": 78,
     "metadata": {},
     "output_type": "execute_result"
    }
   ],
   "source": [
    "# train_fv 데이터셋\n",
    "train_fv = train_fv.merge(producto_mean_fv, on='Producto_ID', how='left')\n",
    "train_fv = train_fv.merge(producto_mean_fv_4w, on='Producto_ID', how='left')\n",
    "train_fv = train_fv.merge(cliente_mean_fv, on='Cliente_ID', how='left')\n",
    "train_fv = train_fv.merge(town_producto_mean_fv, on=['Town_ID', 'Producto_ID'], how='left')\n",
    "train_fv = train_fv.merge(cliente_producto_mean_fv, on=['Cliente_ID', 'Producto_ID'], how='left')\n",
    "train_fv = train_fv.merge(cliente_producto_mean_fv_4w, on=['Cliente_ID', 'Producto_ID'], how='left')\n",
    "\n",
    "train_fv.head()"
   ]
  },
  {
   "cell_type": "code",
   "execution_count": 79,
   "metadata": {},
   "outputs": [
    {
     "name": "stdout",
     "output_type": "stream",
     "text": [
      "Semana                                  0\n",
      "Agencia_ID                              0\n",
      "Canal_ID                                0\n",
      "Ruta_SAK                                0\n",
      "Cliente_ID                              0\n",
      "Producto_ID                             0\n",
      "Demanda_uni_equil                       0\n",
      "Town_ID                                 0\n",
      "price                                   0\n",
      "Product_Mean_Demand                     0\n",
      "Product_Mean_Demand_2w             302663\n",
      "Client_Mean_Demand                      0\n",
      "Town_Product_Mean_Demand                0\n",
      "Client_Product_Mean_Demand              0\n",
      "Client_Product_Mean_Demand_2w    10630215\n",
      "dtype: int64\n"
     ]
    }
   ],
   "source": [
    "train_fv_null_counts = train_fv.isnull().sum()\n",
    "print(train_fv_null_counts)"
   ]
  },
  {
   "cell_type": "code",
   "execution_count": 80,
   "metadata": {},
   "outputs": [
    {
     "data": {
      "text/html": [
       "<div>\n",
       "<style scoped>\n",
       "    .dataframe tbody tr th:only-of-type {\n",
       "        vertical-align: middle;\n",
       "    }\n",
       "\n",
       "    .dataframe tbody tr th {\n",
       "        vertical-align: top;\n",
       "    }\n",
       "\n",
       "    .dataframe thead th {\n",
       "        text-align: right;\n",
       "    }\n",
       "</style>\n",
       "<table border=\"1\" class=\"dataframe\">\n",
       "  <thead>\n",
       "    <tr style=\"text-align: right;\">\n",
       "      <th></th>\n",
       "      <th>Semana</th>\n",
       "      <th>Agencia_ID</th>\n",
       "      <th>Canal_ID</th>\n",
       "      <th>Ruta_SAK</th>\n",
       "      <th>Cliente_ID</th>\n",
       "      <th>Producto_ID</th>\n",
       "      <th>Demanda_uni_equil</th>\n",
       "      <th>Town_ID</th>\n",
       "      <th>price</th>\n",
       "      <th>Product_Mean_Demand</th>\n",
       "      <th>Product_Mean_Demand_2w</th>\n",
       "      <th>Client_Mean_Demand</th>\n",
       "      <th>Town_Product_Mean_Demand</th>\n",
       "      <th>Client_Product_Mean_Demand</th>\n",
       "      <th>Client_Product_Mean_Demand_2w</th>\n",
       "    </tr>\n",
       "  </thead>\n",
       "  <tbody>\n",
       "    <tr>\n",
       "      <th>0</th>\n",
       "      <td>8</td>\n",
       "      <td>1110</td>\n",
       "      <td>7</td>\n",
       "      <td>3301</td>\n",
       "      <td>15766</td>\n",
       "      <td>1212</td>\n",
       "      <td>4</td>\n",
       "      <td>2008</td>\n",
       "      <td>2.125848</td>\n",
       "      <td>2.907786</td>\n",
       "      <td>2.804188</td>\n",
       "      <td>5.561404</td>\n",
       "      <td>6.675217</td>\n",
       "      <td>4.000000</td>\n",
       "      <td>NaN</td>\n",
       "    </tr>\n",
       "    <tr>\n",
       "      <th>1</th>\n",
       "      <td>8</td>\n",
       "      <td>1110</td>\n",
       "      <td>7</td>\n",
       "      <td>3301</td>\n",
       "      <td>15766</td>\n",
       "      <td>1216</td>\n",
       "      <td>5</td>\n",
       "      <td>2008</td>\n",
       "      <td>2.125848</td>\n",
       "      <td>3.110175</td>\n",
       "      <td>3.023282</td>\n",
       "      <td>5.561404</td>\n",
       "      <td>4.751656</td>\n",
       "      <td>2.400000</td>\n",
       "      <td>1.5</td>\n",
       "    </tr>\n",
       "    <tr>\n",
       "      <th>2</th>\n",
       "      <td>8</td>\n",
       "      <td>1110</td>\n",
       "      <td>7</td>\n",
       "      <td>3301</td>\n",
       "      <td>15766</td>\n",
       "      <td>1220</td>\n",
       "      <td>1</td>\n",
       "      <td>2008</td>\n",
       "      <td>2.033398</td>\n",
       "      <td>3.168675</td>\n",
       "      <td>3.104419</td>\n",
       "      <td>5.561404</td>\n",
       "      <td>6.215574</td>\n",
       "      <td>3.000000</td>\n",
       "      <td>NaN</td>\n",
       "    </tr>\n",
       "    <tr>\n",
       "      <th>3</th>\n",
       "      <td>8</td>\n",
       "      <td>1110</td>\n",
       "      <td>7</td>\n",
       "      <td>3301</td>\n",
       "      <td>15766</td>\n",
       "      <td>1238</td>\n",
       "      <td>3</td>\n",
       "      <td>2008</td>\n",
       "      <td>2.285439</td>\n",
       "      <td>3.223185</td>\n",
       "      <td>3.105704</td>\n",
       "      <td>5.561404</td>\n",
       "      <td>6.766689</td>\n",
       "      <td>2.400000</td>\n",
       "      <td>2.0</td>\n",
       "    </tr>\n",
       "    <tr>\n",
       "      <th>4</th>\n",
       "      <td>8</td>\n",
       "      <td>1110</td>\n",
       "      <td>7</td>\n",
       "      <td>3301</td>\n",
       "      <td>15766</td>\n",
       "      <td>1240</td>\n",
       "      <td>2</td>\n",
       "      <td>2008</td>\n",
       "      <td>2.125848</td>\n",
       "      <td>5.725000</td>\n",
       "      <td>5.621343</td>\n",
       "      <td>5.561404</td>\n",
       "      <td>11.411176</td>\n",
       "      <td>6.333333</td>\n",
       "      <td>8.0</td>\n",
       "    </tr>\n",
       "  </tbody>\n",
       "</table>\n",
       "</div>"
      ],
      "text/plain": [
       "   Semana  Agencia_ID  Canal_ID  Ruta_SAK  Cliente_ID  Producto_ID  \\\n",
       "0       8        1110         7      3301       15766         1212   \n",
       "1       8        1110         7      3301       15766         1216   \n",
       "2       8        1110         7      3301       15766         1220   \n",
       "3       8        1110         7      3301       15766         1238   \n",
       "4       8        1110         7      3301       15766         1240   \n",
       "\n",
       "   Demanda_uni_equil  Town_ID     price  Product_Mean_Demand  \\\n",
       "0                  4     2008  2.125848             2.907786   \n",
       "1                  5     2008  2.125848             3.110175   \n",
       "2                  1     2008  2.033398             3.168675   \n",
       "3                  3     2008  2.285439             3.223185   \n",
       "4                  2     2008  2.125848             5.725000   \n",
       "\n",
       "   Product_Mean_Demand_2w  Client_Mean_Demand  Town_Product_Mean_Demand  \\\n",
       "0                2.804188            5.561404                  6.675217   \n",
       "1                3.023282            5.561404                  4.751656   \n",
       "2                3.104419            5.561404                  6.215574   \n",
       "3                3.105704            5.561404                  6.766689   \n",
       "4                5.621343            5.561404                 11.411176   \n",
       "\n",
       "   Client_Product_Mean_Demand  Client_Product_Mean_Demand_2w  \n",
       "0                    4.000000                            NaN  \n",
       "1                    2.400000                            1.5  \n",
       "2                    3.000000                            NaN  \n",
       "3                    2.400000                            2.0  \n",
       "4                    6.333333                            8.0  "
      ]
     },
     "execution_count": 80,
     "metadata": {},
     "output_type": "execute_result"
    }
   ],
   "source": [
    "# train_2w 데이터셋\n",
    "train_2w = train_2w.merge(producto_mean_fv, on='Producto_ID', how='left')\n",
    "train_2w = train_2w.merge(producto_mean_fv_2w, on='Producto_ID', how='left')\n",
    "train_2w = train_2w.merge(cliente_mean_fv, on='Cliente_ID', how='left')\n",
    "train_2w = train_2w.merge(town_producto_mean_fv, on=['Town_ID', 'Producto_ID'], how='left')\n",
    "train_2w = train_2w.merge(cliente_producto_mean_fv, on=['Cliente_ID', 'Producto_ID'], how='left')\n",
    "train_2w = train_2w.merge(cliente_producto_mean_fv_2w, on=['Cliente_ID', 'Producto_ID'], how='left')\n",
    "\n",
    "train_2w.head()"
   ]
  },
  {
   "cell_type": "code",
   "execution_count": 81,
   "metadata": {},
   "outputs": [
    {
     "name": "stdout",
     "output_type": "stream",
     "text": [
      "Semana                                 0\n",
      "Agencia_ID                             0\n",
      "Canal_ID                               0\n",
      "Ruta_SAK                               0\n",
      "Cliente_ID                             0\n",
      "Producto_ID                            0\n",
      "Demanda_uni_equil                      0\n",
      "Town_ID                                0\n",
      "price                                  0\n",
      "Product_Mean_Demand                 8807\n",
      "Product_Mean_Demand_2w              8926\n",
      "Client_Mean_Demand                103726\n",
      "Town_Product_Mean_Demand          291171\n",
      "Client_Product_Mean_Demand       4560592\n",
      "Client_Product_Mean_Demand_2w    7676003\n",
      "dtype: int64\n"
     ]
    }
   ],
   "source": [
    "train_2w_null_counts = train_2w.isnull().sum()\n",
    "print(train_2w_null_counts)"
   ]
  },
  {
   "cell_type": "code",
   "execution_count": 82,
   "metadata": {},
   "outputs": [],
   "source": [
    "# train 데이터셋을 validation 데이터셋으로 복제\n",
    "validation = train_2w.copy()"
   ]
  },
  {
   "cell_type": "markdown",
   "metadata": {},
   "source": [
    "#### 3.2.2 Null값 처리\n",
    "\n",
    "**데이터 셋 설명**\n",
    "1. train 데이터 : 실제 test 데이터에 적용할 모델을 만들기 위한 데이터\n",
    "2. test 데이터 : 예측할 데이터\n",
    "3. train_fv 데이터 : 사전 학습을 위한 데이터\n",
    "4. validation 데이터 : 사전 학습을 검증하기 위한 데이터\n",
    "\n",
    "train, train_fv 데이터의 null값\n",
    "- train 데이터와 train_fv 데이터의 null값은 최근 2주 수요량과 관련된 컬럼에서만 null값이 존재합니다.\n",
    "- 전체 기간 평균 수요량은 존재하는 것으로 보아, 신규 ID와 관련된 것은 아닌 것으로 판단됩니다.\n",
    "- 이 경우, null값인 데이터는 최근 2주 수요량이 0인 것으로 판단하고, 0으로 채웁니다.\n",
    "\n",
    "test, validation 데이터의 null값\n",
    "- 전체 기간 평균 수요량 컬럼에도 null값이 존재하는 것으로 보아, 신규 ID와 관련된 것으로 판단됩니다.\n",
    "- 다만, 최근 2주 데이터와 null값의 개수가 차이가 나는 것을 확인할 수 있습니다. 전체 기간 평균 수요량 데이터가 존재할 경우, 앞선 경우와 같이 0으로 처리합니다.\n",
    "- 나머지 경우에 대해서는 우선, 알고리즘이 null값을 처리할 수 있으므로, null값을 그대로 둡니다.\n",
    "    - 타겟 변수와 직접적인 관련이 있으므로 우선 채우지 않는 것으로 결정하였습니다.\n",
    "    - 만약 모델의 성능이 좋지 않을 경우, 갈 컬럼의 분포를 확인하고 정규분포를 따르도록 변환한 후, 평균값 혹은 중앙값으로 채우는 방법을 사용할 수 있습니다.\n"
   ]
  },
  {
   "cell_type": "code",
   "execution_count": 83,
   "metadata": {},
   "outputs": [],
   "source": [
    "# 결측치 처리\n",
    "def fill_zero(df):\n",
    "    df.loc[(df['Product_Mean_Demand'].notnull()) & (df['Product_Mean_Demand_2w'].isnull()), 'Product_Mean_Demand_2w'] = 0\n",
    "    df.loc[(df['Client_Product_Mean_Demand'].notnull()) & (df['Client_Product_Mean_Demand_2w'].isnull()), 'Client_Product_Mean_Demand_2w'] = 0\n",
    "    return df\n",
    "\n",
    "train = fill_zero(train)\n",
    "train_fv = fill_zero(train_fv)\n",
    "test = fill_zero(test)\n",
    "validation = fill_zero(validation)"
   ]
  },
  {
   "cell_type": "code",
   "execution_count": 84,
   "metadata": {},
   "outputs": [
    {
     "data": {
      "text/plain": [
       "Semana                           0\n",
       "Agencia_ID                       0\n",
       "Canal_ID                         0\n",
       "Ruta_SAK                         0\n",
       "Cliente_ID                       0\n",
       "Producto_ID                      0\n",
       "Demanda_uni_equil                0\n",
       "Town_ID                          0\n",
       "price                            0\n",
       "Product_Mean_Demand              0\n",
       "Product_Mean_Demand_2w           0\n",
       "Client_Mean_Demand               0\n",
       "Town_Product_Mean_Demand         0\n",
       "Client_Product_Mean_Demand       0\n",
       "Client_Product_Mean_Demand_2w    0\n",
       "dtype: int64"
      ]
     },
     "execution_count": 84,
     "metadata": {},
     "output_type": "execute_result"
    }
   ],
   "source": [
    "train_null_counts = train.isnull().sum()\n",
    "train_null_counts"
   ]
  },
  {
   "cell_type": "code",
   "execution_count": 85,
   "metadata": {},
   "outputs": [
    {
     "data": {
      "text/plain": [
       "Semana                           0\n",
       "Agencia_ID                       0\n",
       "Canal_ID                         0\n",
       "Ruta_SAK                         0\n",
       "Cliente_ID                       0\n",
       "Producto_ID                      0\n",
       "Demanda_uni_equil                0\n",
       "Town_ID                          0\n",
       "price                            0\n",
       "Product_Mean_Demand              0\n",
       "Product_Mean_Demand_2w           0\n",
       "Client_Mean_Demand               0\n",
       "Town_Product_Mean_Demand         0\n",
       "Client_Product_Mean_Demand       0\n",
       "Client_Product_Mean_Demand_2w    0\n",
       "dtype: int64"
      ]
     },
     "execution_count": 85,
     "metadata": {},
     "output_type": "execute_result"
    }
   ],
   "source": [
    "train_fv_null_counts = train_fv.isnull().sum()\n",
    "train_fv_null_counts"
   ]
  },
  {
   "cell_type": "code",
   "execution_count": 86,
   "metadata": {},
   "outputs": [
    {
     "data": {
      "text/plain": [
       "Semana                                 0\n",
       "Agencia_ID                             0\n",
       "Canal_ID                               0\n",
       "Ruta_SAK                               0\n",
       "Cliente_ID                             0\n",
       "Producto_ID                            0\n",
       "Town_ID                                0\n",
       "price                                  0\n",
       "Product_Mean_Demand                25640\n",
       "Product_Mean_Demand_2w             25640\n",
       "Client_Mean_Demand                 30054\n",
       "Town_Product_Mean_Demand          247186\n",
       "Client_Product_Mean_Demand       1365213\n",
       "Client_Product_Mean_Demand_2w    1365213\n",
       "dtype: int64"
      ]
     },
     "execution_count": 86,
     "metadata": {},
     "output_type": "execute_result"
    }
   ],
   "source": [
    "test_null_counts = test.isnull().sum()\n",
    "test_null_counts"
   ]
  },
  {
   "cell_type": "code",
   "execution_count": 87,
   "metadata": {},
   "outputs": [
    {
     "data": {
      "text/plain": [
       "Semana                                 0\n",
       "Agencia_ID                             0\n",
       "Canal_ID                               0\n",
       "Ruta_SAK                               0\n",
       "Cliente_ID                             0\n",
       "Producto_ID                            0\n",
       "Demanda_uni_equil                      0\n",
       "Town_ID                                0\n",
       "price                                  0\n",
       "Product_Mean_Demand                 8807\n",
       "Product_Mean_Demand_2w              8807\n",
       "Client_Mean_Demand                103726\n",
       "Town_Product_Mean_Demand          291171\n",
       "Client_Product_Mean_Demand       4560592\n",
       "Client_Product_Mean_Demand_2w    4560592\n",
       "dtype: int64"
      ]
     },
     "execution_count": 87,
     "metadata": {},
     "output_type": "execute_result"
    }
   ],
   "source": [
    "validation_null_counts = validation.isnull().sum()\n",
    "validation_null_counts"
   ]
  },
  {
   "cell_type": "code",
   "execution_count": 97,
   "metadata": {},
   "outputs": [],
   "source": [
    "# csv 파일로 저장\n",
    "train.to_csv('train_featured.csv', index=False)"
   ]
  },
  {
   "cell_type": "code",
   "execution_count": 98,
   "metadata": {},
   "outputs": [],
   "source": [
    "train_fv.to_csv('train_fv_featured.csv', index=False)\n",
    "test.to_csv('test_featured.csv', index=False)\n",
    "validation.to_csv('validation_featured.csv', index=False)"
   ]
  },
  {
   "cell_type": "markdown",
   "metadata": {},
   "source": [
    "### 3.3 모델링\n",
    "메모리 부족 이슈가 지속적으로 발생하여, 데이터를 csv 파일로 저장하고, 사용할 때마다 불러오는 방식으로 진행합니다."
   ]
  },
  {
   "cell_type": "markdown",
   "metadata": {},
   "source": [
    "훈련 및 검증 데이터를 통한 모델 학습"
   ]
  },
  {
   "cell_type": "code",
   "execution_count": null,
   "metadata": {},
   "outputs": [],
   "source": [
    "import numpy as np\n",
    "import pandas as pd\n",
    "import lightgbm as lgb\n",
    "from lightgbm import LGBMRegressor\n",
    "from sklearn.model_selection import train_test_split, KFold\n",
    "from sklearn.metrics import mean_squared_log_error\n",
    "import optuna"
   ]
  },
  {
   "cell_type": "code",
   "execution_count": 2,
   "metadata": {},
   "outputs": [],
   "source": [
    "train_fv = pd.read_csv('train_fv_featured.csv')\n",
    "validation = pd.read_csv('validation_featured.csv')\n",
    "\n",
    "# 데이터를 다시 불러오는 과정에서 변경된 데이터 타입 변경\n",
    "def downcast_dataframe(df):\n",
    "    for column in df.columns:\n",
    "        if df[column].dtype == 'float64':\n",
    "            df[column] = pd.to_numeric(df[column], downcast='float')\n",
    "        else:\n",
    "            df[column] = pd.to_numeric(df[column], downcast='integer')\n",
    "    return df\n",
    "\n",
    "train_fv = downcast_dataframe(train_fv)\n",
    "validation = downcast_dataframe(validation)"
   ]
  },
  {
   "cell_type": "code",
   "execution_count": 6,
   "metadata": {},
   "outputs": [
    {
     "name": "stderr",
     "output_type": "stream",
     "text": [
      "C:\\Users\\333cu\\AppData\\Local\\Temp\\ipykernel_8264\\1056675118.py:10: RuntimeWarning: invalid value encountered in log1p\n",
      "  return np.sqrt(np.mean(np.square(np.log1p(y_pred) - np.log1p(y_true))))\n"
     ]
    },
    {
     "name": "stdout",
     "output_type": "stream",
     "text": [
      "Score: 0.6188782864453775\n"
     ]
    }
   ],
   "source": [
    "# 훈련 데이터셋과 검증 데이터셋 분할\n",
    "X_train = train_fv.drop(['Demanda_uni_equil'], axis=1)\n",
    "y_train = train_fv['Demanda_uni_equil']\n",
    "\n",
    "X_val = validation.drop(['Demanda_uni_equil'], axis=1)\n",
    "y_val = validation['Demanda_uni_equil']\n",
    "\n",
    "# RMSLE 평가 함수 정의\n",
    "def rmsle(y_true, y_pred):\n",
    "    return np.sqrt(np.mean(np.square(np.log1p(y_pred) - np.log1p(y_true))))\n",
    "\n",
    "# LightGBM의 파라미터 정의\n",
    "params = {\n",
    "    'objective': 'regression',\n",
    "    'metric': 'rmse',\n",
    "    'num_leaves': 31,\n",
    "    'learning_rate': 0.05,\n",
    "    'feature_fraction': 0.9,\n",
    "    'bagging_fraction': 0.8,\n",
    "    'bagging_freq': 5,\n",
    "    'verbose': 0\n",
    "}\n",
    "\n",
    "# LightGBM 데이터 세트 생성\n",
    "train_data = lgb.Dataset(X_train, label=y_train)\n",
    "\n",
    "# 모델 훈련\n",
    "model = lgb.train(params, train_data, num_boost_round=100)\n",
    "\n",
    "# 테스트 데이터에서 예측\n",
    "y_pred = model.predict(X_val)\n",
    "\n",
    "score = rmsle(y_val, y_pred)\n",
    "print(\"Score:\", score)"
   ]
  },
  {
   "cell_type": "markdown",
   "metadata": {},
   "source": [
    "전 보다 점수가 개선되었습니다. 하지만 여전히 경진 대회에서 좋은 성적을 얻기에는 부족합니다."
   ]
  },
  {
   "cell_type": "markdown",
   "metadata": {},
   "source": [
    "\n",
    "하이퍼 파라미터 튜닝"
   ]
  },
  {
   "cell_type": "code",
   "execution_count": 9,
   "metadata": {},
   "outputs": [
    {
     "name": "stderr",
     "output_type": "stream",
     "text": [
      "[I 2024-03-24 21:16:46,800] A new study created in memory with name: no-name-edbead3a-ecd6-4732-bd7a-39cdff9489da\n"
     ]
    },
    {
     "name": "stdout",
     "output_type": "stream",
     "text": [
      "[LightGBM] [Warning] feature_fraction is set=0.25956207263213527, colsample_bytree=1.0 will be ignored. Current value: feature_fraction=0.25956207263213527\n",
      "[LightGBM] [Warning] bagging_fraction is set=0.21534575838567702, subsample=1.0 will be ignored. Current value: bagging_fraction=0.21534575838567702\n",
      "[LightGBM] [Warning] bagging_freq is set=5, subsample_freq=0 will be ignored. Current value: bagging_freq=5\n",
      "[LightGBM] [Warning] feature_fraction is set=0.25956207263213527, colsample_bytree=1.0 will be ignored. Current value: feature_fraction=0.25956207263213527\n",
      "[LightGBM] [Warning] bagging_fraction is set=0.21534575838567702, subsample=1.0 will be ignored. Current value: bagging_fraction=0.21534575838567702\n",
      "[LightGBM] [Warning] bagging_freq is set=5, subsample_freq=0 will be ignored. Current value: bagging_freq=5\n",
      "[LightGBM] [Warning] feature_fraction is set=0.25956207263213527, colsample_bytree=1.0 will be ignored. Current value: feature_fraction=0.25956207263213527\n",
      "[LightGBM] [Warning] bagging_fraction is set=0.21534575838567702, subsample=1.0 will be ignored. Current value: bagging_fraction=0.21534575838567702\n",
      "[LightGBM] [Warning] bagging_freq is set=5, subsample_freq=0 will be ignored. Current value: bagging_freq=5\n"
     ]
    },
    {
     "name": "stderr",
     "output_type": "stream",
     "text": [
      "[I 2024-03-24 21:19:25,683] Trial 0 finished with value: 0.8079012767364215 and parameters: {'num_leaves': 93, 'learning_rate': 0.004015397097632778, 'feature_fraction': 0.25956207263213527, 'bagging_fraction': 0.21534575838567702, 'bagging_freq': 5}. Best is trial 0 with value: 0.8079012767364215.\n"
     ]
    },
    {
     "name": "stdout",
     "output_type": "stream",
     "text": [
      "[LightGBM] [Warning] feature_fraction is set=0.6861689010438077, colsample_bytree=1.0 will be ignored. Current value: feature_fraction=0.6861689010438077\n",
      "[LightGBM] [Warning] bagging_fraction is set=0.6457255677647248, subsample=1.0 will be ignored. Current value: bagging_fraction=0.6457255677647248\n",
      "[LightGBM] [Warning] bagging_freq is set=6, subsample_freq=0 will be ignored. Current value: bagging_freq=6\n",
      "[LightGBM] [Warning] feature_fraction is set=0.6861689010438077, colsample_bytree=1.0 will be ignored. Current value: feature_fraction=0.6861689010438077\n",
      "[LightGBM] [Warning] bagging_fraction is set=0.6457255677647248, subsample=1.0 will be ignored. Current value: bagging_fraction=0.6457255677647248\n",
      "[LightGBM] [Warning] bagging_freq is set=6, subsample_freq=0 will be ignored. Current value: bagging_freq=6\n",
      "[LightGBM] [Warning] feature_fraction is set=0.6861689010438077, colsample_bytree=1.0 will be ignored. Current value: feature_fraction=0.6861689010438077\n",
      "[LightGBM] [Warning] bagging_fraction is set=0.6457255677647248, subsample=1.0 will be ignored. Current value: bagging_fraction=0.6457255677647248\n",
      "[LightGBM] [Warning] bagging_freq is set=6, subsample_freq=0 will be ignored. Current value: bagging_freq=6\n"
     ]
    },
    {
     "name": "stderr",
     "output_type": "stream",
     "text": [
      "[I 2024-03-24 21:22:10,500] Trial 1 finished with value: 0.9117830703201733 and parameters: {'num_leaves': 93, 'learning_rate': 0.0010026573950181572, 'feature_fraction': 0.6861689010438077, 'bagging_fraction': 0.6457255677647248, 'bagging_freq': 6}. Best is trial 0 with value: 0.8079012767364215.\n"
     ]
    },
    {
     "name": "stdout",
     "output_type": "stream",
     "text": [
      "[LightGBM] [Warning] feature_fraction is set=0.9973527926546982, colsample_bytree=1.0 will be ignored. Current value: feature_fraction=0.9973527926546982\n",
      "[LightGBM] [Warning] bagging_fraction is set=0.6818611688432076, subsample=1.0 will be ignored. Current value: bagging_fraction=0.6818611688432076\n",
      "[LightGBM] [Warning] bagging_freq is set=2, subsample_freq=0 will be ignored. Current value: bagging_freq=2\n",
      "[LightGBM] [Warning] feature_fraction is set=0.9973527926546982, colsample_bytree=1.0 will be ignored. Current value: feature_fraction=0.9973527926546982\n",
      "[LightGBM] [Warning] bagging_fraction is set=0.6818611688432076, subsample=1.0 will be ignored. Current value: bagging_fraction=0.6818611688432076\n",
      "[LightGBM] [Warning] bagging_freq is set=2, subsample_freq=0 will be ignored. Current value: bagging_freq=2\n",
      "[LightGBM] [Warning] feature_fraction is set=0.9973527926546982, colsample_bytree=1.0 will be ignored. Current value: feature_fraction=0.9973527926546982\n",
      "[LightGBM] [Warning] bagging_fraction is set=0.6818611688432076, subsample=1.0 will be ignored. Current value: bagging_fraction=0.6818611688432076\n",
      "[LightGBM] [Warning] bagging_freq is set=2, subsample_freq=0 will be ignored. Current value: bagging_freq=2\n"
     ]
    },
    {
     "name": "stderr",
     "output_type": "stream",
     "text": [
      "[I 2024-03-24 21:24:57,122] Trial 2 finished with value: 0.8897532674256805 and parameters: {'num_leaves': 94, 'learning_rate': 0.0013576478887333049, 'feature_fraction': 0.9973527926546982, 'bagging_fraction': 0.6818611688432076, 'bagging_freq': 2}. Best is trial 0 with value: 0.8079012767364215.\n"
     ]
    },
    {
     "name": "stdout",
     "output_type": "stream",
     "text": [
      "[LightGBM] [Warning] feature_fraction is set=0.8201511511550296, colsample_bytree=1.0 will be ignored. Current value: feature_fraction=0.8201511511550296\n",
      "[LightGBM] [Warning] bagging_fraction is set=0.9107212923145419, subsample=1.0 will be ignored. Current value: bagging_fraction=0.9107212923145419\n",
      "[LightGBM] [Warning] bagging_freq is set=4, subsample_freq=0 will be ignored. Current value: bagging_freq=4\n",
      "[LightGBM] [Warning] feature_fraction is set=0.8201511511550296, colsample_bytree=1.0 will be ignored. Current value: feature_fraction=0.8201511511550296\n",
      "[LightGBM] [Warning] bagging_fraction is set=0.9107212923145419, subsample=1.0 will be ignored. Current value: bagging_fraction=0.9107212923145419\n",
      "[LightGBM] [Warning] bagging_freq is set=4, subsample_freq=0 will be ignored. Current value: bagging_freq=4\n",
      "[LightGBM] [Warning] feature_fraction is set=0.8201511511550296, colsample_bytree=1.0 will be ignored. Current value: feature_fraction=0.8201511511550296\n",
      "[LightGBM] [Warning] bagging_fraction is set=0.9107212923145419, subsample=1.0 will be ignored. Current value: bagging_fraction=0.9107212923145419\n",
      "[LightGBM] [Warning] bagging_freq is set=4, subsample_freq=0 will be ignored. Current value: bagging_freq=4\n"
     ]
    },
    {
     "name": "stderr",
     "output_type": "stream",
     "text": [
      "[I 2024-03-24 21:27:59,089] Trial 3 finished with value: 0.8452578360376601 and parameters: {'num_leaves': 79, 'learning_rate': 0.002322517223571232, 'feature_fraction': 0.8201511511550296, 'bagging_fraction': 0.9107212923145419, 'bagging_freq': 4}. Best is trial 0 with value: 0.8079012767364215.\n"
     ]
    },
    {
     "name": "stdout",
     "output_type": "stream",
     "text": [
      "[LightGBM] [Warning] feature_fraction is set=0.21157358332424914, colsample_bytree=1.0 will be ignored. Current value: feature_fraction=0.21157358332424914\n",
      "[LightGBM] [Warning] bagging_fraction is set=0.9902297408031738, subsample=1.0 will be ignored. Current value: bagging_fraction=0.9902297408031738\n",
      "[LightGBM] [Warning] bagging_freq is set=6, subsample_freq=0 will be ignored. Current value: bagging_freq=6\n",
      "[LightGBM] [Warning] feature_fraction is set=0.21157358332424914, colsample_bytree=1.0 will be ignored. Current value: feature_fraction=0.21157358332424914\n",
      "[LightGBM] [Warning] bagging_fraction is set=0.9902297408031738, subsample=1.0 will be ignored. Current value: bagging_fraction=0.9902297408031738\n",
      "[LightGBM] [Warning] bagging_freq is set=6, subsample_freq=0 will be ignored. Current value: bagging_freq=6\n",
      "[LightGBM] [Warning] feature_fraction is set=0.21157358332424914, colsample_bytree=1.0 will be ignored. Current value: feature_fraction=0.21157358332424914\n",
      "[LightGBM] [Warning] bagging_fraction is set=0.9902297408031738, subsample=1.0 will be ignored. Current value: bagging_fraction=0.9902297408031738\n",
      "[LightGBM] [Warning] bagging_freq is set=6, subsample_freq=0 will be ignored. Current value: bagging_freq=6\n"
     ]
    },
    {
     "name": "stderr",
     "output_type": "stream",
     "text": [
      "[I 2024-03-24 21:30:05,617] Trial 4 finished with value: 0.859874963782978 and parameters: {'num_leaves': 15, 'learning_rate': 0.002956030689191969, 'feature_fraction': 0.21157358332424914, 'bagging_fraction': 0.9902297408031738, 'bagging_freq': 6}. Best is trial 0 with value: 0.8079012767364215.\n"
     ]
    },
    {
     "name": "stdout",
     "output_type": "stream",
     "text": [
      "Best Score: 0.8079012767364215\n",
      "Best Parameters: {'num_leaves': 93, 'learning_rate': 0.004015397097632778, 'feature_fraction': 0.25956207263213527, 'bagging_fraction': 0.21534575838567702, 'bagging_freq': 5}\n"
     ]
    }
   ],
   "source": [
    "# optuna 라이브러리를 사용하여 LightGBM의 하이퍼파라미터 튜닝\n",
    "def objective(trial):\n",
    "    params = {\n",
    "        'objective': 'regression',\n",
    "        'metric': 'rmse',\n",
    "        'num_leaves': trial.suggest_int('num_leaves', 10, 100),\n",
    "        'learning_rate': trial.suggest_float('learning_rate', 0.001, 0.1, log=True),\n",
    "        'feature_fraction': trial.suggest_float('feature_fraction', 0.1, 1.0),\n",
    "        'bagging_fraction': trial.suggest_float('bagging_fraction', 0.1, 1.0),\n",
    "        'bagging_freq': trial.suggest_int('bagging_freq', 1, 10),\n",
    "        'verbose': 0\n",
    "    }\n",
    "    \n",
    "    model = LGBMRegressor(**params)\n",
    "    model.fit(X_train, y_train)\n",
    "    y_pred = model.predict(X_val)\n",
    "    score = rmsle(y_val, y_pred)\n",
    "    \n",
    "    return score\n",
    "\n",
    "study = optuna.create_study(direction='minimize')\n",
    "study.optimize(objective, n_trials=5)\n",
    "\n",
    "best_params = study.best_params\n",
    "best_score = study.best_value\n",
    "\n",
    "print(\"Best Score:\", best_score)\n",
    "print(\"Best Parameters:\", best_params)"
   ]
  },
  {
   "cell_type": "code",
   "execution_count": 10,
   "metadata": {},
   "outputs": [
    {
     "name": "stdout",
     "output_type": "stream",
     "text": [
      "Score: 0.8085121559932053\n"
     ]
    }
   ],
   "source": [
    "# 하이퍼파라미터 튜닝 후의 LightGBM 모델 생성\n",
    "# 훈련 데이터셋과 검증 데이터셋 분할\n",
    "X_train = train_fv.drop(['Demanda_uni_equil'], axis=1)\n",
    "y_train = train_fv['Demanda_uni_equil']\n",
    "\n",
    "X_val = validation.drop(['Demanda_uni_equil'], axis=1)\n",
    "y_val = validation['Demanda_uni_equil']\n",
    "\n",
    "# RMSLE 평가 함수 정의\n",
    "def rmsle(y_true, y_pred):\n",
    "    return np.sqrt(np.mean(np.square(np.log1p(y_pred) - np.log1p(y_true))))\n",
    "\n",
    "# LightGBM의 파라미터 정의\n",
    "params = {\n",
    "    'objective': 'regression',\n",
    "    'metric': 'rmse',\n",
    "    'num_leaves': 93,\n",
    "    'learning_rate': 0.004,\n",
    "    'feature_fraction': 0.26,\n",
    "    'bagging_fraction': 0.215,\n",
    "    'bagging_freq': 5,\n",
    "    'verbose': 0\n",
    "}\n",
    "\n",
    "# LightGBM 데이터 세트 생성\n",
    "train_data = lgb.Dataset(X_train, label=y_train)\n",
    "\n",
    "# 모델 훈련\n",
    "model = lgb.train(params, train_data, num_boost_round=100)\n",
    "\n",
    "# 테스트 데이터에서 예측\n",
    "y_pred = model.predict(X_val)\n",
    "\n",
    "score = rmsle(y_val, y_pred)\n",
    "print(\"Score:\", score)"
   ]
  },
  {
   "cell_type": "markdown",
   "metadata": {},
   "source": [
    "메모리와 시간 한계상 Optuna 하이퍼파라미터 최적화 수행에서 시도 횟수를 줄일 수 밖에 없었습니다.\n",
    "\n",
    "캐글 토론을 참고하고, 일반적인 인식상 하이퍼파라미터 튜닝으로 인한 성능 향상이 크지 않다고 판단하여, 기본 모델링을 그대로 사용합니다."
   ]
  },
  {
   "cell_type": "markdown",
   "metadata": {},
   "source": [
    "전체 훈련 데이터를 이용한 모델 재학습 및 예측"
   ]
  },
  {
   "cell_type": "code",
   "execution_count": 1,
   "metadata": {},
   "outputs": [],
   "source": [
    "import numpy as np\n",
    "import pandas as pd\n",
    "import lightgbm as lgb\n",
    "from lightgbm import LGBMRegressor\n",
    "from sklearn.model_selection import train_test_split, KFold\n",
    "from sklearn.metrics import mean_squared_log_error\n",
    "import optuna"
   ]
  },
  {
   "cell_type": "code",
   "execution_count": 3,
   "metadata": {},
   "outputs": [],
   "source": [
    "# 전체 train 데이터셋을 사용한 모델 훈련 및 예측\n",
    "train = pd.read_csv('train_featured.csv')\n",
    "test = pd.read_csv('test_featured.csv')\n",
    "\n",
    "def downcast_dataframe(df):\n",
    "    for column in df.columns:\n",
    "        if df[column].dtype == 'float64':\n",
    "            df[column] = pd.to_numeric(df[column], downcast='float')\n",
    "        else:\n",
    "            df[column] = pd.to_numeric(df[column], downcast='integer')\n",
    "    return df\n",
    "\n",
    "train = downcast_dataframe(train)\n",
    "test = downcast_dataframe(test)\n",
    "\n",
    "X_train = train.drop(['Demanda_uni_equil'], axis=1)\n",
    "y_train = train['Demanda_uni_equil']\n",
    "\n",
    "X_test = test\n",
    "\n",
    "params = {\n",
    "    'objective': 'regression',\n",
    "    'metric': 'rmse',\n",
    "    'num_leaves': 31,\n",
    "    'learning_rate': 0.05,\n",
    "    'feature_fraction': 0.9,\n",
    "    'bagging_fraction': 0.8,\n",
    "    'bagging_freq': 5,\n",
    "    'verbose': 0\n",
    "}\n",
    "\n",
    "train_data = lgb.Dataset(X_train, label=y_train)\n",
    "\n",
    "model = lgb.train(params, train_data, num_boost_round=100)\n",
    "\n",
    "y_pred = model.predict(X_test)\n",
    "\n",
    "test['Demanda_uni_equil'] = y_pred"
   ]
  },
  {
   "cell_type": "code",
   "execution_count": 4,
   "metadata": {},
   "outputs": [
    {
     "data": {
      "text/html": [
       "<div>\n",
       "<style scoped>\n",
       "    .dataframe tbody tr th:only-of-type {\n",
       "        vertical-align: middle;\n",
       "    }\n",
       "\n",
       "    .dataframe tbody tr th {\n",
       "        vertical-align: top;\n",
       "    }\n",
       "\n",
       "    .dataframe thead th {\n",
       "        text-align: right;\n",
       "    }\n",
       "</style>\n",
       "<table border=\"1\" class=\"dataframe\">\n",
       "  <thead>\n",
       "    <tr style=\"text-align: right;\">\n",
       "      <th></th>\n",
       "      <th>Semana</th>\n",
       "      <th>Agencia_ID</th>\n",
       "      <th>Canal_ID</th>\n",
       "      <th>Ruta_SAK</th>\n",
       "      <th>Cliente_ID</th>\n",
       "      <th>Producto_ID</th>\n",
       "      <th>Town_ID</th>\n",
       "      <th>price</th>\n",
       "      <th>Product_Mean_Demand</th>\n",
       "      <th>Product_Mean_Demand_2w</th>\n",
       "      <th>Client_Mean_Demand</th>\n",
       "      <th>Town_Product_Mean_Demand</th>\n",
       "      <th>Client_Product_Mean_Demand</th>\n",
       "      <th>Client_Product_Mean_Demand_2w</th>\n",
       "      <th>Demanda_uni_equil</th>\n",
       "    </tr>\n",
       "  </thead>\n",
       "  <tbody>\n",
       "    <tr>\n",
       "      <th>0</th>\n",
       "      <td>11</td>\n",
       "      <td>4037</td>\n",
       "      <td>1</td>\n",
       "      <td>2209</td>\n",
       "      <td>4639078</td>\n",
       "      <td>35305</td>\n",
       "      <td>2499</td>\n",
       "      <td>1.832582</td>\n",
       "      <td>9.182930</td>\n",
       "      <td>9.254603</td>\n",
       "      <td>2.562500</td>\n",
       "      <td>8.478513</td>\n",
       "      <td>4.0</td>\n",
       "      <td>4.0</td>\n",
       "      <td>3.987271</td>\n",
       "    </tr>\n",
       "    <tr>\n",
       "      <th>1</th>\n",
       "      <td>11</td>\n",
       "      <td>2237</td>\n",
       "      <td>1</td>\n",
       "      <td>1226</td>\n",
       "      <td>4705135</td>\n",
       "      <td>1238</td>\n",
       "      <td>2402</td>\n",
       "      <td>2.285439</td>\n",
       "      <td>3.175030</td>\n",
       "      <td>3.039328</td>\n",
       "      <td>3.151515</td>\n",
       "      <td>2.378963</td>\n",
       "      <td>NaN</td>\n",
       "      <td>NaN</td>\n",
       "      <td>1.180406</td>\n",
       "    </tr>\n",
       "    <tr>\n",
       "      <th>2</th>\n",
       "      <td>10</td>\n",
       "      <td>2045</td>\n",
       "      <td>1</td>\n",
       "      <td>2831</td>\n",
       "      <td>4549769</td>\n",
       "      <td>32940</td>\n",
       "      <td>2163</td>\n",
       "      <td>2.051556</td>\n",
       "      <td>4.008649</td>\n",
       "      <td>4.023667</td>\n",
       "      <td>7.772727</td>\n",
       "      <td>4.136560</td>\n",
       "      <td>2.0</td>\n",
       "      <td>2.0</td>\n",
       "      <td>2.077539</td>\n",
       "    </tr>\n",
       "    <tr>\n",
       "      <th>3</th>\n",
       "      <td>11</td>\n",
       "      <td>1227</td>\n",
       "      <td>1</td>\n",
       "      <td>4448</td>\n",
       "      <td>4717855</td>\n",
       "      <td>43066</td>\n",
       "      <td>2066</td>\n",
       "      <td>2.264883</td>\n",
       "      <td>2.436524</td>\n",
       "      <td>2.336444</td>\n",
       "      <td>3.682119</td>\n",
       "      <td>1.213487</td>\n",
       "      <td>NaN</td>\n",
       "      <td>NaN</td>\n",
       "      <td>1.180406</td>\n",
       "    </tr>\n",
       "    <tr>\n",
       "      <th>4</th>\n",
       "      <td>11</td>\n",
       "      <td>1219</td>\n",
       "      <td>1</td>\n",
       "      <td>1130</td>\n",
       "      <td>966351</td>\n",
       "      <td>1277</td>\n",
       "      <td>2042</td>\n",
       "      <td>2.091864</td>\n",
       "      <td>3.411765</td>\n",
       "      <td>3.411765</td>\n",
       "      <td>3.485714</td>\n",
       "      <td>NaN</td>\n",
       "      <td>NaN</td>\n",
       "      <td>NaN</td>\n",
       "      <td>1.180406</td>\n",
       "    </tr>\n",
       "  </tbody>\n",
       "</table>\n",
       "</div>"
      ],
      "text/plain": [
       "   Semana  Agencia_ID  Canal_ID  Ruta_SAK  Cliente_ID  Producto_ID  Town_ID  \\\n",
       "0      11        4037         1      2209     4639078        35305     2499   \n",
       "1      11        2237         1      1226     4705135         1238     2402   \n",
       "2      10        2045         1      2831     4549769        32940     2163   \n",
       "3      11        1227         1      4448     4717855        43066     2066   \n",
       "4      11        1219         1      1130      966351         1277     2042   \n",
       "\n",
       "      price  Product_Mean_Demand  Product_Mean_Demand_2w  Client_Mean_Demand  \\\n",
       "0  1.832582             9.182930                9.254603            2.562500   \n",
       "1  2.285439             3.175030                3.039328            3.151515   \n",
       "2  2.051556             4.008649                4.023667            7.772727   \n",
       "3  2.264883             2.436524                2.336444            3.682119   \n",
       "4  2.091864             3.411765                3.411765            3.485714   \n",
       "\n",
       "   Town_Product_Mean_Demand  Client_Product_Mean_Demand  \\\n",
       "0                  8.478513                         4.0   \n",
       "1                  2.378963                         NaN   \n",
       "2                  4.136560                         2.0   \n",
       "3                  1.213487                         NaN   \n",
       "4                       NaN                         NaN   \n",
       "\n",
       "   Client_Product_Mean_Demand_2w  Demanda_uni_equil  \n",
       "0                            4.0           3.987271  \n",
       "1                            NaN           1.180406  \n",
       "2                            2.0           2.077539  \n",
       "3                            NaN           1.180406  \n",
       "4                            NaN           1.180406  "
      ]
     },
     "execution_count": 4,
     "metadata": {},
     "output_type": "execute_result"
    }
   ],
   "source": [
    "test.head()"
   ]
  },
  {
   "cell_type": "code",
   "execution_count": 6,
   "metadata": {},
   "outputs": [
    {
     "data": {
      "text/html": [
       "<div>\n",
       "<style scoped>\n",
       "    .dataframe tbody tr th:only-of-type {\n",
       "        vertical-align: middle;\n",
       "    }\n",
       "\n",
       "    .dataframe tbody tr th {\n",
       "        vertical-align: top;\n",
       "    }\n",
       "\n",
       "    .dataframe thead th {\n",
       "        text-align: right;\n",
       "    }\n",
       "</style>\n",
       "<table border=\"1\" class=\"dataframe\">\n",
       "  <thead>\n",
       "    <tr style=\"text-align: right;\">\n",
       "      <th></th>\n",
       "      <th>id</th>\n",
       "      <th>Demanda_uni_equil</th>\n",
       "    </tr>\n",
       "  </thead>\n",
       "  <tbody>\n",
       "    <tr>\n",
       "      <th>0</th>\n",
       "      <td>0</td>\n",
       "      <td>3.987271</td>\n",
       "    </tr>\n",
       "    <tr>\n",
       "      <th>1</th>\n",
       "      <td>1</td>\n",
       "      <td>1.180406</td>\n",
       "    </tr>\n",
       "    <tr>\n",
       "      <th>2</th>\n",
       "      <td>2</td>\n",
       "      <td>2.077539</td>\n",
       "    </tr>\n",
       "    <tr>\n",
       "      <th>3</th>\n",
       "      <td>3</td>\n",
       "      <td>1.180406</td>\n",
       "    </tr>\n",
       "    <tr>\n",
       "      <th>4</th>\n",
       "      <td>4</td>\n",
       "      <td>1.180406</td>\n",
       "    </tr>\n",
       "  </tbody>\n",
       "</table>\n",
       "</div>"
      ],
      "text/plain": [
       "   id  Demanda_uni_equil\n",
       "0   0           3.987271\n",
       "1   1           1.180406\n",
       "2   2           2.077539\n",
       "3   3           1.180406\n",
       "4   4           1.180406"
      ]
     },
     "execution_count": 6,
     "metadata": {},
     "output_type": "execute_result"
    }
   ],
   "source": [
    "test['id'] = test.index\n",
    "test = test[['id', 'Demanda_uni_equil']]\n",
    "test.head()"
   ]
  },
  {
   "cell_type": "code",
   "execution_count": 7,
   "metadata": {},
   "outputs": [],
   "source": [
    "test.to_csv('submission.csv', index=False)"
   ]
  },
  {
   "cell_type": "code",
   "execution_count": null,
   "metadata": {},
   "outputs": [],
   "source": []
  }
 ],
 "metadata": {
  "kernelspec": {
   "display_name": "base",
   "language": "python",
   "name": "python3"
  },
  "language_info": {
   "codemirror_mode": {
    "name": "ipython",
    "version": 3
   },
   "file_extension": ".py",
   "mimetype": "text/x-python",
   "name": "python",
   "nbconvert_exporter": "python",
   "pygments_lexer": "ipython3",
   "version": "3.9.18"
  }
 },
 "nbformat": 4,
 "nbformat_minor": 2
}
